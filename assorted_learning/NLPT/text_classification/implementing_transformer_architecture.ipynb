{
 "cells": [
  {
   "cell_type": "code",
   "execution_count": 1,
   "id": "162577b9",
   "metadata": {},
   "outputs": [],
   "source": [
    "from IPython.core.interactiveshell import InteractiveShell\n",
    "InteractiveShell.ast_node_interactivity = \"all\""
   ]
  },
  {
   "cell_type": "code",
   "execution_count": 2,
   "id": "8a1b8415",
   "metadata": {},
   "outputs": [
    {
     "data": {
      "text/html": [
       "<style type=\"text/css\">\n",
       "table.dataframe td, table.dataframe th {\n",
       "    border: 1px  black solid !important;\n",
       "  color: black !important;\n",
       "}\n",
       "</style>\n"
      ],
      "text/plain": [
       "<IPython.core.display.HTML object>"
      ]
     },
     "metadata": {},
     "output_type": "display_data"
    }
   ],
   "source": [
    "%%HTML\n",
    "<style type=\"text/css\">\n",
    "table.dataframe td, table.dataframe th {\n",
    "    border: 1px  black solid !important;\n",
    "  color: black !important;\n",
    "}\n",
    "</style>"
   ]
  },
  {
   "cell_type": "code",
   "execution_count": 3,
   "id": "8b46b158",
   "metadata": {},
   "outputs": [],
   "source": [
    "from torch import nn\n",
    "from transformers import AutoTokenizer, AutoConfig\n",
    "\n",
    "import torch"
   ]
  },
  {
   "cell_type": "code",
   "execution_count": 4,
   "id": "3d2e9d16",
   "metadata": {},
   "outputs": [],
   "source": [
    "model_ckpt = 'bert-base-uncased'\n",
    "text = 'time flies like an arrow'"
   ]
  },
  {
   "cell_type": "code",
   "execution_count": 5,
   "id": "c45fa045",
   "metadata": {},
   "outputs": [
    {
     "data": {
      "text/plain": [
       "BertTokenizerFast(name_or_path='bert-base-uncased', vocab_size=30522, model_max_length=512, is_fast=True, padding_side='right', truncation_side='right', special_tokens={'unk_token': '[UNK]', 'sep_token': '[SEP]', 'pad_token': '[PAD]', 'cls_token': '[CLS]', 'mask_token': '[MASK]'}, clean_up_tokenization_spaces=True)"
      ]
     },
     "execution_count": 5,
     "metadata": {},
     "output_type": "execute_result"
    }
   ],
   "source": [
    "tokenizer = AutoTokenizer.from_pretrained(model_ckpt)\n",
    "tokenizer"
   ]
  },
  {
   "cell_type": "code",
   "execution_count": 6,
   "id": "fd433acc",
   "metadata": {},
   "outputs": [
    {
     "data": {
      "text/plain": [
       "BertConfig {\n",
       "  \"_name_or_path\": \"bert-base-uncased\",\n",
       "  \"architectures\": [\n",
       "    \"BertForMaskedLM\"\n",
       "  ],\n",
       "  \"attention_probs_dropout_prob\": 0.1,\n",
       "  \"classifier_dropout\": null,\n",
       "  \"gradient_checkpointing\": false,\n",
       "  \"hidden_act\": \"gelu\",\n",
       "  \"hidden_dropout_prob\": 0.1,\n",
       "  \"hidden_size\": 768,\n",
       "  \"initializer_range\": 0.02,\n",
       "  \"intermediate_size\": 3072,\n",
       "  \"layer_norm_eps\": 1e-12,\n",
       "  \"max_position_embeddings\": 512,\n",
       "  \"model_type\": \"bert\",\n",
       "  \"num_attention_heads\": 12,\n",
       "  \"num_hidden_layers\": 12,\n",
       "  \"pad_token_id\": 0,\n",
       "  \"position_embedding_type\": \"absolute\",\n",
       "  \"transformers_version\": \"4.28.1\",\n",
       "  \"type_vocab_size\": 2,\n",
       "  \"use_cache\": true,\n",
       "  \"vocab_size\": 30522\n",
       "}"
      ]
     },
     "execution_count": 6,
     "metadata": {},
     "output_type": "execute_result"
    }
   ],
   "source": [
    "config = AutoConfig.from_pretrained(model_ckpt)\n",
    "config"
   ]
  },
  {
   "cell_type": "code",
   "execution_count": 7,
   "id": "8ffee6ff",
   "metadata": {},
   "outputs": [
    {
     "data": {
      "text/plain": [
       "tensor([[ 2051, 10029,  2066,  2019,  8612]])"
      ]
     },
     "execution_count": 7,
     "metadata": {},
     "output_type": "execute_result"
    }
   ],
   "source": [
    "inputs = tokenizer(text, return_tensors='pt', add_special_tokens=False)\n",
    "inputs.input_ids"
   ]
  },
  {
   "cell_type": "code",
   "execution_count": 8,
   "id": "9fbbc691",
   "metadata": {},
   "outputs": [
    {
     "data": {
      "text/plain": [
       "Embedding(30522, 768)"
      ]
     },
     "execution_count": 8,
     "metadata": {},
     "output_type": "execute_result"
    }
   ],
   "source": [
    "token_emb = nn.Embedding(config.vocab_size, config.hidden_size)\n",
    "token_emb"
   ]
  },
  {
   "cell_type": "code",
   "execution_count": 9,
   "id": "0c5aceb7",
   "metadata": {},
   "outputs": [
    {
     "data": {
      "text/plain": [
       "tensor([[[-1.4554,  0.2239, -0.6744,  ..., -0.6691, -0.8009, -0.3083],\n",
       "         [-0.9770, -0.8626,  0.7488,  ...,  0.7846,  1.5331,  0.1193],\n",
       "         [ 0.7315, -1.0357,  0.8945,  ...,  0.1678,  0.3803, -1.1836],\n",
       "         [ 1.4281, -1.2846, -0.7726,  ...,  0.6359,  1.2404,  1.8382],\n",
       "         [-1.1415,  0.8932, -1.5255,  ..., -0.1771, -0.8013, -0.4303]]],\n",
       "       grad_fn=<EmbeddingBackward0>)"
      ]
     },
     "execution_count": 9,
     "metadata": {},
     "output_type": "execute_result"
    },
    {
     "name": "stdout",
     "output_type": "stream",
     "text": [
      "the shape of the input embeddings is: torch.Size([1, 5, 768])\n"
     ]
    }
   ],
   "source": [
    "input_embs = token_emb(inputs.input_ids)\n",
    "input_embs\n",
    "\n",
    "print(f'the shape of the input embeddings is: {input_embs.shape}')"
   ]
  },
  {
   "cell_type": "code",
   "execution_count": 10,
   "id": "c2165856",
   "metadata": {},
   "outputs": [
    {
     "data": {
      "text/plain": [
       "tensor([[[-1.4554, -0.9770,  0.7315,  1.4281, -1.1415],\n",
       "         [ 0.2239, -0.8626, -1.0357, -1.2846,  0.8932],\n",
       "         [-0.6744,  0.7488,  0.8945, -0.7726, -1.5255],\n",
       "         ...,\n",
       "         [-0.6691,  0.7846,  0.1678,  0.6359, -0.1771],\n",
       "         [-0.8009,  1.5331,  0.3803,  1.2404, -0.8013],\n",
       "         [-0.3083,  0.1193, -1.1836,  1.8382, -0.4303]]],\n",
       "       grad_fn=<TransposeBackward0>)"
      ]
     },
     "execution_count": 10,
     "metadata": {},
     "output_type": "execute_result"
    }
   ],
   "source": [
    "# creating key, query and value vectors by projecting the token embeddings\n",
    "from math import sqrt\n",
    "\n",
    "query = key = value = input_embs\n",
    "dim_k = key.size(-1)\n",
    "\n",
    "key.transpose(1, 2)"
   ]
  },
  {
   "cell_type": "code",
   "execution_count": 11,
   "id": "1137025f",
   "metadata": {},
   "outputs": [
    {
     "data": {
      "text/plain": [
       "tensor([[[ 2.8150e+01, -2.8010e-01, -4.4082e-01,  9.4643e-01,  3.2643e-01],\n",
       "         [-2.8010e-01,  2.6411e+01, -1.0638e+00, -1.9945e-02,  8.0360e-01],\n",
       "         [-4.4082e-01, -1.0638e+00,  2.6834e+01, -1.3272e-01,  1.5849e+00],\n",
       "         [ 9.4643e-01, -1.9945e-02, -1.3272e-01,  2.8542e+01,  9.0373e-01],\n",
       "         [ 3.2643e-01,  8.0360e-01,  1.5849e+00,  9.0373e-01,  2.6120e+01]]],\n",
       "       grad_fn=<DivBackward0>)"
      ]
     },
     "execution_count": 11,
     "metadata": {},
     "output_type": "execute_result"
    },
    {
     "name": "stdout",
     "output_type": "stream",
     "text": [
      "the size of the scores(attentions scores) matrix is: torch.Size([1, 5, 5])\n"
     ]
    }
   ],
   "source": [
    "# scaled dot product. we are scaling the dot producct with sqrt(dim_k)\n",
    "scores = torch.bmm(query, key.transpose(1, 2)) / sqrt(dim_k)\n",
    "scores\n",
    "\n",
    "print(f'the size of the attentions scores tensor is: {scores.size()}')"
   ]
  },
  {
   "cell_type": "code",
   "execution_count": 56,
   "id": "3cf07524",
   "metadata": {},
   "outputs": [
    {
     "data": {
      "text/plain": [
       "tensor([[1., 1., 1., 1., 1.]], grad_fn=<SumBackward1>)"
      ]
     },
     "execution_count": 56,
     "metadata": {},
     "output_type": "execute_result"
    },
    {
     "data": {
      "text/plain": [
       "tensor([[[1.0000e+00, 4.4993e-13, 3.8312e-13, 1.5340e-12, 8.2518e-13],\n",
       "         [2.5606e-12, 1.0000e+00, 1.1695e-12, 3.3214e-12, 7.5681e-12],\n",
       "         [1.4275e-12, 7.6564e-13, 1.0000e+00, 1.9425e-12, 1.0823e-11],\n",
       "         [1.0357e-12, 3.9404e-13, 3.5202e-13, 1.0000e+00, 9.9241e-13],\n",
       "         [6.2787e-12, 1.0118e-11, 2.2102e-11, 1.1184e-11, 1.0000e+00]]],\n",
       "       grad_fn=<SoftmaxBackward0>)"
      ]
     },
     "execution_count": 56,
     "metadata": {},
     "output_type": "execute_result"
    },
    {
     "name": "stdout",
     "output_type": "stream",
     "text": [
      "the shape of the attention weights tensor is: torch.Size([1, 5, 5])\n"
     ]
    }
   ],
   "source": [
    "# applying softmax function\n",
    "\n",
    "import torch.nn.functional as F\n",
    "\n",
    "weights = F.softmax(scores, dim=-1)\n",
    "weights.sum(dim=-1)\n",
    "\n",
    "weights\n",
    "\n",
    "print(f'the shape of the attention weights tensor is: {weights.shape}')"
   ]
  },
  {
   "cell_type": "code",
   "execution_count": 57,
   "id": "bf98c68b",
   "metadata": {},
   "outputs": [
    {
     "data": {
      "text/plain": [
       "tensor([[[-1.4554,  0.2239, -0.6744,  ..., -0.6691, -0.8009, -0.3083],\n",
       "         [-0.9770, -0.8626,  0.7488,  ...,  0.7846,  1.5331,  0.1193],\n",
       "         [ 0.7315, -1.0357,  0.8945,  ...,  0.1678,  0.3803, -1.1836],\n",
       "         [ 1.4281, -1.2846, -0.7726,  ...,  0.6359,  1.2404,  1.8382],\n",
       "         [-1.1415,  0.8932, -1.5255,  ..., -0.1771, -0.8013, -0.4303]]],\n",
       "       grad_fn=<BmmBackward0>)"
      ]
     },
     "execution_count": 57,
     "metadata": {},
     "output_type": "execute_result"
    },
    {
     "name": "stdout",
     "output_type": "stream",
     "text": [
      "the shape of the attention output is: torch.Size([1, 5, 768])\n"
     ]
    }
   ],
   "source": [
    "# multiplying the attention weights by values.\n",
    "\n",
    "attention_outputs = torch.bmm(weights, value)\n",
    "attention_outputs\n",
    "\n",
    "print(f'the shape of the attention output is: {attention_outputs.shape}')"
   ]
  },
  {
   "cell_type": "code",
   "execution_count": 58,
   "id": "b366147d",
   "metadata": {},
   "outputs": [],
   "source": [
    "# implemtation of scaled dot product attention\n",
    "def scaled_dot_product_attention(query, key, value):\n",
    "    dim_k = key.size(-1)\n",
    "    attention_scores = torch.bmm(query, key.transpose(1, 2))/sqrt(dim_k)\n",
    "    attention_weights = F.softmax(attention_scores, dim=-1)\n",
    "    return torch.bmm(attention_weigths, value)"
   ]
  },
  {
   "cell_type": "code",
   "execution_count": null,
   "id": "62dc5541",
   "metadata": {},
   "outputs": [],
   "source": []
  },
  {
   "cell_type": "code",
   "execution_count": null,
   "id": "d0e3b736",
   "metadata": {},
   "outputs": [],
   "source": []
  },
  {
   "cell_type": "code",
   "execution_count": null,
   "id": "bb85bdda",
   "metadata": {},
   "outputs": [],
   "source": []
  },
  {
   "cell_type": "code",
   "execution_count": null,
   "id": "723db015",
   "metadata": {},
   "outputs": [],
   "source": []
  },
  {
   "cell_type": "code",
   "execution_count": null,
   "id": "3c8fdf4c",
   "metadata": {},
   "outputs": [],
   "source": []
  },
  {
   "cell_type": "code",
   "execution_count": null,
   "id": "111252a1",
   "metadata": {},
   "outputs": [],
   "source": []
  },
  {
   "cell_type": "code",
   "execution_count": null,
   "id": "d0ea5de3",
   "metadata": {},
   "outputs": [],
   "source": []
  },
  {
   "cell_type": "code",
   "execution_count": null,
   "id": "ad1f37c5",
   "metadata": {},
   "outputs": [],
   "source": []
  },
  {
   "cell_type": "code",
   "execution_count": null,
   "id": "8523b161",
   "metadata": {},
   "outputs": [],
   "source": []
  },
  {
   "cell_type": "code",
   "execution_count": null,
   "id": "7d031d3c",
   "metadata": {},
   "outputs": [],
   "source": []
  },
  {
   "cell_type": "code",
   "execution_count": null,
   "id": "e4c60240",
   "metadata": {},
   "outputs": [],
   "source": []
  },
  {
   "cell_type": "code",
   "execution_count": null,
   "id": "5530e81e",
   "metadata": {},
   "outputs": [],
   "source": []
  },
  {
   "cell_type": "code",
   "execution_count": null,
   "id": "1f910988",
   "metadata": {},
   "outputs": [],
   "source": []
  },
  {
   "cell_type": "code",
   "execution_count": null,
   "id": "b9b4b1b6",
   "metadata": {},
   "outputs": [],
   "source": []
  },
  {
   "cell_type": "code",
   "execution_count": null,
   "id": "3cb2ccf0",
   "metadata": {},
   "outputs": [],
   "source": []
  },
  {
   "cell_type": "code",
   "execution_count": null,
   "id": "80dd34ee",
   "metadata": {},
   "outputs": [],
   "source": []
  },
  {
   "cell_type": "code",
   "execution_count": null,
   "id": "292a3b4a",
   "metadata": {},
   "outputs": [],
   "source": []
  },
  {
   "cell_type": "code",
   "execution_count": null,
   "id": "bec48966",
   "metadata": {},
   "outputs": [],
   "source": []
  },
  {
   "cell_type": "code",
   "execution_count": null,
   "id": "80178de4",
   "metadata": {},
   "outputs": [],
   "source": []
  },
  {
   "cell_type": "code",
   "execution_count": null,
   "id": "ffc26aa1",
   "metadata": {},
   "outputs": [],
   "source": []
  },
  {
   "cell_type": "code",
   "execution_count": null,
   "id": "b031daa6",
   "metadata": {},
   "outputs": [],
   "source": []
  },
  {
   "cell_type": "code",
   "execution_count": null,
   "id": "805c6ede",
   "metadata": {},
   "outputs": [],
   "source": []
  },
  {
   "cell_type": "code",
   "execution_count": null,
   "id": "463a316f",
   "metadata": {},
   "outputs": [],
   "source": []
  }
 ],
 "metadata": {
  "kernelspec": {
   "display_name": "ptorch",
   "language": "python",
   "name": "ptorch"
  },
  "language_info": {
   "codemirror_mode": {
    "name": "ipython",
    "version": 3
   },
   "file_extension": ".py",
   "mimetype": "text/x-python",
   "name": "python",
   "nbconvert_exporter": "python",
   "pygments_lexer": "ipython3",
   "version": "3.9.17"
  }
 },
 "nbformat": 4,
 "nbformat_minor": 5
}
