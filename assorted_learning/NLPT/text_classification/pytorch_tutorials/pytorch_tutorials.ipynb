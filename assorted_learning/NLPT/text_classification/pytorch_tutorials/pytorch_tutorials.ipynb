{
 "cells": [
  {
   "cell_type": "code",
   "execution_count": 1,
   "id": "cd8a5f34",
   "metadata": {},
   "outputs": [],
   "source": [
    "import torch\n",
    "import torch.nn as nn\n",
    "\n",
    "import pprint\n",
    "pp = pprint.PrettyPrinter()"
   ]
  },
  {
   "cell_type": "code",
   "execution_count": 2,
   "id": "16bbc530",
   "metadata": {},
   "outputs": [
    {
     "name": "stdout",
     "output_type": "stream",
     "text": [
      "[[1, 2, 3], [4, 5, 6]]\n"
     ]
    }
   ],
   "source": [
    "list_of_lists = [\n",
    "    [1, 2, 3],\n",
    "    [4, 5, 6]\n",
    "]\n",
    "print(list_of_lists)"
   ]
  },
  {
   "cell_type": "code",
   "execution_count": 3,
   "id": "0edef3b7",
   "metadata": {},
   "outputs": [
    {
     "name": "stdout",
     "output_type": "stream",
     "text": [
      "tensor([[0, 1],\n",
      "        [2, 3],\n",
      "        [4, 5]])\n"
     ]
    }
   ],
   "source": [
    "# initializing a pytorch tensor\n",
    "data = torch.tensor([\n",
    "    [0, 1],\n",
    "    [2, 3],\n",
    "    [4, 5]\n",
    "])\n",
    "print(data)"
   ]
  },
  {
   "cell_type": "code",
   "execution_count": 4,
   "id": "74599d67",
   "metadata": {},
   "outputs": [
    {
     "name": "stdout",
     "output_type": "stream",
     "text": [
      "tensor([[0., 1.],\n",
      "        [2., 3.],\n",
      "        [4., 5.]])\n"
     ]
    }
   ],
   "source": [
    "# two major tensor datatypes are - torch.float32, and torch.int\n",
    "\n",
    "data = torch.tensor([\n",
    "    [0, 1],\n",
    "    [2, 3],\n",
    "    [4, 5]\n",
    "], dtype=torch.float32)\n",
    "print(data)"
   ]
  },
  {
   "cell_type": "code",
   "execution_count": 5,
   "id": "b41130c5",
   "metadata": {},
   "outputs": [
    {
     "name": "stdout",
     "output_type": "stream",
     "text": [
      "tensor([[0.1111, 1.0000],\n",
      "        [2.0000, 3.0000],\n",
      "        [4.0000, 5.0000]])\n"
     ]
    }
   ],
   "source": [
    "data = torch.tensor([\n",
    "    [0.11111111, 1],\n",
    "    [2, 3],\n",
    "    [4, 5]\n",
    "])\n",
    "print(data)"
   ]
  },
  {
   "cell_type": "code",
   "execution_count": 6,
   "id": "a820fb48",
   "metadata": {},
   "outputs": [
    {
     "name": "stdout",
     "output_type": "stream",
     "text": [
      "tensor([[0., 0., 0., 0., 0.],\n",
      "        [0., 0., 0., 0., 0.]])\n"
     ]
    }
   ],
   "source": [
    "# utility functions\n",
    "\n",
    "zeros = torch.zeros(2, 5)\n",
    "print(zeros)"
   ]
  },
  {
   "cell_type": "code",
   "execution_count": 7,
   "id": "54fb5893",
   "metadata": {},
   "outputs": [
    {
     "name": "stdout",
     "output_type": "stream",
     "text": [
      "tensor([[1., 1., 1., 1.],\n",
      "        [1., 1., 1., 1.],\n",
      "        [1., 1., 1., 1.]])\n"
     ]
    }
   ],
   "source": [
    "ones = torch.ones(3, 4)\n",
    "print(ones)"
   ]
  },
  {
   "cell_type": "code",
   "execution_count": 8,
   "id": "204b236f",
   "metadata": {},
   "outputs": [
    {
     "data": {
      "text/plain": [
       "tensor([1, 2, 3, 4, 5, 6, 7, 8, 9])"
      ]
     },
     "execution_count": 8,
     "metadata": {},
     "output_type": "execute_result"
    }
   ],
   "source": [
    "rr = torch.arange(1, 10)\n",
    "rr"
   ]
  },
  {
   "cell_type": "code",
   "execution_count": 9,
   "id": "bdd9f763",
   "metadata": {},
   "outputs": [
    {
     "data": {
      "text/plain": [
       "tensor([ 3,  4,  5,  6,  7,  8,  9, 10, 11])"
      ]
     },
     "execution_count": 9,
     "metadata": {},
     "output_type": "execute_result"
    }
   ],
   "source": [
    "rr + 2"
   ]
  },
  {
   "cell_type": "code",
   "execution_count": 10,
   "id": "94fbea29",
   "metadata": {},
   "outputs": [
    {
     "data": {
      "text/plain": [
       "tensor([ 2,  4,  6,  8, 10, 12, 14, 16, 18])"
      ]
     },
     "execution_count": 10,
     "metadata": {},
     "output_type": "execute_result"
    }
   ],
   "source": [
    "rr * 2"
   ]
  },
  {
   "cell_type": "code",
   "execution_count": 11,
   "id": "e39916fd",
   "metadata": {},
   "outputs": [
    {
     "name": "stdout",
     "output_type": "stream",
     "text": [
      "the product is:  tensor([[ 2,  3,  4,  5],\n",
      "        [ 6, 11, 16, 21],\n",
      "        [10, 19, 28, 37]])\n",
      "the other product is:  tensor([[ 2,  3,  4,  5],\n",
      "        [ 6, 11, 16, 21],\n",
      "        [10, 19, 28, 37]])\n"
     ]
    }
   ],
   "source": [
    "# matrix multiplication\n",
    "\n",
    "a = torch.tensor([\n",
    "    [0, 1],\n",
    "    [2, 3],\n",
    "    [4, 5]\n",
    "])\n",
    "\n",
    "b = torch.tensor([\n",
    "    [0, 1, 2, 3],\n",
    "    [2, 3, 4, 5]\n",
    "])\n",
    "\n",
    "\n",
    "print(\"the product is: \", a.matmul(b))\n",
    "print(\"the other product is: \", a @ b)"
   ]
  },
  {
   "cell_type": "code",
   "execution_count": 12,
   "id": "c13c0aab",
   "metadata": {},
   "outputs": [
    {
     "data": {
      "text/plain": [
       "torch.Size([3])"
      ]
     },
     "execution_count": 12,
     "metadata": {},
     "output_type": "execute_result"
    }
   ],
   "source": [
    "v = torch.tensor([1, 2, 3])\n",
    "v.shape"
   ]
  },
  {
   "cell_type": "code",
   "execution_count": 13,
   "id": "bea4f6c7",
   "metadata": {},
   "outputs": [
    {
     "data": {
      "text/plain": [
       "torch.Size([2, 3])"
      ]
     },
     "execution_count": 13,
     "metadata": {},
     "output_type": "execute_result"
    }
   ],
   "source": [
    "u = torch.tensor([[1, 2, 3],\n",
    "            [4, 5, 6]])\n",
    "u.shape"
   ]
  },
  {
   "cell_type": "code",
   "execution_count": 14,
   "id": "041dd1e8",
   "metadata": {},
   "outputs": [
    {
     "name": "stdout",
     "output_type": "stream",
     "text": [
      "tensor([14, 32])\n"
     ]
    }
   ],
   "source": [
    "w = u @ v\n",
    "print(w)"
   ]
  },
  {
   "cell_type": "code",
   "execution_count": 15,
   "id": "c9f31fce",
   "metadata": {},
   "outputs": [
    {
     "data": {
      "text/plain": [
       "torch.Size([2])"
      ]
     },
     "execution_count": 15,
     "metadata": {},
     "output_type": "execute_result"
    }
   ],
   "source": [
    "w.shape"
   ]
  },
  {
   "cell_type": "code",
   "execution_count": 16,
   "id": "030e7ac4",
   "metadata": {},
   "outputs": [
    {
     "data": {
      "text/plain": [
       "torch.Size([2, 3])"
      ]
     },
     "execution_count": 16,
     "metadata": {},
     "output_type": "execute_result"
    }
   ],
   "source": [
    "matr_2d = torch.tensor([[1, 2, 3], [4, 5, 6]])\n",
    "matr_2d.shape"
   ]
  },
  {
   "cell_type": "code",
   "execution_count": 17,
   "id": "2811f571",
   "metadata": {},
   "outputs": [
    {
     "data": {
      "text/plain": [
       "torch.Size([3, 2, 4])"
      ]
     },
     "execution_count": 17,
     "metadata": {},
     "output_type": "execute_result"
    }
   ],
   "source": [
    "matr_3d = torch.tensor([\n",
    "    [[1, 2, 3, 4], \n",
    "    [-2, 5, 6, 9]], \n",
    "    \n",
    "    [[5, 6, 7, 2], \n",
    "     [8, 9, 10, 4]],\n",
    "    \n",
    "    [[-3, 2, 2, 1], \n",
    "     [4, 6, 5, 9]]\n",
    "])\n",
    "matr_3d.shape"
   ]
  },
  {
   "cell_type": "code",
   "execution_count": 18,
   "id": "c099644c",
   "metadata": {},
   "outputs": [
    {
     "data": {
      "text/plain": [
       "tensor([ 1,  2,  3,  4,  5,  6,  7,  8,  9, 10, 11, 12, 13, 14, 15])"
      ]
     },
     "execution_count": 18,
     "metadata": {},
     "output_type": "execute_result"
    }
   ],
   "source": [
    "rr = torch.arange(1, 16)\n",
    "rr"
   ]
  },
  {
   "cell_type": "code",
   "execution_count": 19,
   "id": "a920f456",
   "metadata": {},
   "outputs": [
    {
     "data": {
      "text/plain": [
       "tensor([[ 1,  2,  3],\n",
       "        [ 4,  5,  6],\n",
       "        [ 7,  8,  9],\n",
       "        [10, 11, 12],\n",
       "        [13, 14, 15]])"
      ]
     },
     "execution_count": 19,
     "metadata": {},
     "output_type": "execute_result"
    }
   ],
   "source": [
    "rr.view(5, 3)"
   ]
  },
  {
   "cell_type": "code",
   "execution_count": 20,
   "id": "bf0cf2ae",
   "metadata": {},
   "outputs": [
    {
     "name": "stdout",
     "output_type": "stream",
     "text": [
      "tensor([[ 1,  2,  3],\n",
      "        [ 4,  5,  6],\n",
      "        [ 7,  8,  9],\n",
      "        [10, 11, 12],\n",
      "        [13, 14, 15]])\n"
     ]
    }
   ],
   "source": [
    "rr = rr.view(5, 3)\n",
    "print(rr)"
   ]
  },
  {
   "cell_type": "code",
   "execution_count": 21,
   "id": "da868c2b",
   "metadata": {},
   "outputs": [
    {
     "name": "stdout",
     "output_type": "stream",
     "text": [
      "this is torch.tensor [[1 0 5]]\n",
      "this is numpy array [[1 0 5]]\n"
     ]
    }
   ],
   "source": [
    "# numpy to pytorch and vice-versa\n",
    "\n",
    "import numpy as np\n",
    "\n",
    "# numpy.ndarray --> torch.Tensor:\n",
    "arr = np.array([[1, 0, 5]])\n",
    "data = torch.tensor(arr)\n",
    "\n",
    "print('this is torch.tensor', arr)\n",
    "\n",
    "\n",
    "# torch.tensor --> numpy.ndarray:\n",
    "new_arr = data.numpy()\n",
    "print('this is numpy array', new_arr)"
   ]
  },
  {
   "cell_type": "code",
   "execution_count": 22,
   "id": "41aa1185",
   "metadata": {},
   "outputs": [
    {
     "name": "stdout",
     "output_type": "stream",
     "text": [
      "tensor([ 75.,  80.,  85.,  90.,  95., 100., 105.])\n",
      "tensor([ 28.,  77., 126., 175., 224.])\n",
      "tensor([2.1602, 2.1602, 2.1602, 2.1602, 2.1602])\n"
     ]
    }
   ],
   "source": [
    "data = torch.arange(1, 36, dtype=torch.float32).reshape(5, 7)\n",
    "\n",
    "# we can perform operations like \"sum\" over each column\n",
    "print(data.sum(dim=0))\n",
    "\n",
    "# or each row\n",
    "print(data.sum(dim=1))\n",
    "\n",
    "# we can do other operations as well\n",
    "print(data.std(dim=1))"
   ]
  },
  {
   "cell_type": "code",
   "execution_count": 23,
   "id": "c6d51ce6",
   "metadata": {},
   "outputs": [
    {
     "data": {
      "text/plain": [
       "tensor(630.)"
      ]
     },
     "execution_count": 23,
     "metadata": {},
     "output_type": "execute_result"
    }
   ],
   "source": [
    "data.sum()"
   ]
  },
  {
   "cell_type": "code",
   "execution_count": 24,
   "id": "24ebe8ee",
   "metadata": {},
   "outputs": [
    {
     "data": {
      "text/plain": [
       "torch.Size([2, 3])"
      ]
     },
     "execution_count": 24,
     "metadata": {},
     "output_type": "execute_result"
    }
   ],
   "source": [
    "data = torch.tensor([\n",
    "    [1, 2.2, 9.6],\n",
    "    [4, -7.2, 6.3]\n",
    "])\n",
    "\n",
    "data.shape"
   ]
  },
  {
   "cell_type": "code",
   "execution_count": 25,
   "id": "609ee149",
   "metadata": {},
   "outputs": [
    {
     "data": {
      "text/plain": [
       "tensor([4.2667, 1.0333])"
      ]
     },
     "execution_count": 25,
     "metadata": {},
     "output_type": "execute_result"
    }
   ],
   "source": [
    "data.mean(dim=1)"
   ]
  },
  {
   "cell_type": "code",
   "execution_count": 26,
   "id": "aa12c553",
   "metadata": {},
   "outputs": [
    {
     "data": {
      "text/plain": [
       "tensor([ 2.5000, -2.5000,  7.9500])"
      ]
     },
     "execution_count": 26,
     "metadata": {},
     "output_type": "execute_result"
    }
   ],
   "source": [
    "data.mean(dim=0)"
   ]
  },
  {
   "cell_type": "code",
   "execution_count": 27,
   "id": "97a8b30a",
   "metadata": {},
   "outputs": [
    {
     "data": {
      "text/plain": [
       "torch.Size([3, 2, 2])"
      ]
     },
     "execution_count": 27,
     "metadata": {},
     "output_type": "execute_result"
    }
   ],
   "source": [
    "# Indexing\n",
    "\n",
    "x = torch.tensor([\n",
    "    [[1, 2], \n",
    "    [3, 4]], \n",
    "    \n",
    "    [[5, 6], \n",
    "     [7, 8]],\n",
    "    \n",
    "    [[9, 10], \n",
    "     [11, 12]]\n",
    "])\n",
    "x.shape"
   ]
  },
  {
   "cell_type": "code",
   "execution_count": 28,
   "id": "e626c48b",
   "metadata": {},
   "outputs": [
    {
     "data": {
      "text/plain": [
       "tensor([[ 1,  2],\n",
       "        [ 5,  6],\n",
       "        [ 9, 10]])"
      ]
     },
     "execution_count": 28,
     "metadata": {},
     "output_type": "execute_result"
    }
   ],
   "source": [
    "x[:, 0]"
   ]
  },
  {
   "cell_type": "code",
   "execution_count": 29,
   "id": "8d8468ce",
   "metadata": {},
   "outputs": [
    {
     "data": {
      "text/plain": [
       "tensor([[1, 2],\n",
       "        [3, 4]])"
      ]
     },
     "execution_count": 29,
     "metadata": {},
     "output_type": "execute_result"
    }
   ],
   "source": [
    "x[0, :]"
   ]
  },
  {
   "cell_type": "code",
   "execution_count": 30,
   "id": "bde92eb5",
   "metadata": {},
   "outputs": [
    {
     "data": {
      "text/plain": [
       "tensor([[1, 2],\n",
       "        [3, 4]])"
      ]
     },
     "execution_count": 30,
     "metadata": {},
     "output_type": "execute_result"
    }
   ],
   "source": [
    "x[0]"
   ]
  },
  {
   "cell_type": "code",
   "execution_count": 31,
   "id": "0b689a4b",
   "metadata": {},
   "outputs": [
    {
     "data": {
      "text/plain": [
       "tensor([[[ 1,  2],\n",
       "         [ 3,  4]],\n",
       "\n",
       "        [[ 9, 10],\n",
       "         [11, 12]]])"
      ]
     },
     "execution_count": 31,
     "metadata": {},
     "output_type": "execute_result"
    }
   ],
   "source": [
    "# list indexing\n",
    "x[[0, 2]]"
   ]
  },
  {
   "cell_type": "code",
   "execution_count": 32,
   "id": "e4b8ec55",
   "metadata": {},
   "outputs": [
    {
     "data": {
      "text/plain": [
       "tensor([[[ 1,  2],\n",
       "         [ 3,  4]],\n",
       "\n",
       "        [[ 5,  6],\n",
       "         [ 7,  8]],\n",
       "\n",
       "        [[ 9, 10],\n",
       "         [11, 12]]])"
      ]
     },
     "execution_count": 32,
     "metadata": {},
     "output_type": "execute_result"
    }
   ],
   "source": [
    "x"
   ]
  },
  {
   "cell_type": "code",
   "execution_count": 33,
   "id": "2418d10a",
   "metadata": {},
   "outputs": [
    {
     "data": {
      "text/plain": [
       "tensor([1, 5, 9])"
      ]
     },
     "execution_count": 33,
     "metadata": {},
     "output_type": "execute_result"
    }
   ],
   "source": [
    "x[:, 0, 0]"
   ]
  },
  {
   "cell_type": "code",
   "execution_count": 34,
   "id": "9ba4d9f4",
   "metadata": {},
   "outputs": [
    {
     "data": {
      "text/plain": [
       "tensor([[[ 1,  2],\n",
       "         [ 3,  4]],\n",
       "\n",
       "        [[ 5,  6],\n",
       "         [ 7,  8]],\n",
       "\n",
       "        [[ 9, 10],\n",
       "         [11, 12]]])"
      ]
     },
     "execution_count": 34,
     "metadata": {},
     "output_type": "execute_result"
    }
   ],
   "source": [
    "x[:, :]"
   ]
  },
  {
   "cell_type": "code",
   "execution_count": 35,
   "id": "f50c8a64",
   "metadata": {},
   "outputs": [
    {
     "data": {
      "text/plain": [
       "tensor([[[ 1,  2],\n",
       "         [ 3,  4]],\n",
       "\n",
       "        [[ 5,  6],\n",
       "         [ 7,  8]],\n",
       "\n",
       "        [[ 9, 10],\n",
       "         [11, 12]]])"
      ]
     },
     "execution_count": 35,
     "metadata": {},
     "output_type": "execute_result"
    }
   ],
   "source": [
    "x[:, :, :]"
   ]
  },
  {
   "cell_type": "code",
   "execution_count": 36,
   "id": "44fbc0e3",
   "metadata": {},
   "outputs": [
    {
     "data": {
      "text/plain": [
       "tensor(1)"
      ]
     },
     "execution_count": 36,
     "metadata": {},
     "output_type": "execute_result"
    }
   ],
   "source": [
    "x[0, 0, 0]"
   ]
  },
  {
   "cell_type": "code",
   "execution_count": 37,
   "id": "78eee5d4",
   "metadata": {},
   "outputs": [
    {
     "data": {
      "text/plain": [
       "1"
      ]
     },
     "execution_count": 37,
     "metadata": {},
     "output_type": "execute_result"
    }
   ],
   "source": [
    "x[0, 0, 0].item()"
   ]
  },
  {
   "cell_type": "code",
   "execution_count": 38,
   "id": "13120ce2",
   "metadata": {},
   "outputs": [
    {
     "data": {
      "text/plain": [
       "torch.Size([2, 3])"
      ]
     },
     "execution_count": 38,
     "metadata": {},
     "output_type": "execute_result"
    }
   ],
   "source": [
    "y = torch.tensor([\n",
    "    [1, 2.2, 9.6],\n",
    "    [4, -7.2, 6.3]\n",
    "])\n",
    "\n",
    "y.shape"
   ]
  },
  {
   "cell_type": "code",
   "execution_count": 39,
   "id": "d8301093",
   "metadata": {},
   "outputs": [
    {
     "data": {
      "text/plain": [
       "tensor([1., 4.])"
      ]
     },
     "execution_count": 39,
     "metadata": {},
     "output_type": "execute_result"
    }
   ],
   "source": [
    "# first column\n",
    "y[:, 0]"
   ]
  },
  {
   "cell_type": "code",
   "execution_count": 40,
   "id": "e5ee4159",
   "metadata": {},
   "outputs": [
    {
     "data": {
      "text/plain": [
       "tensor([1.0000, 2.2000, 9.6000])"
      ]
     },
     "execution_count": 40,
     "metadata": {},
     "output_type": "execute_result"
    }
   ],
   "source": [
    "# first row\n",
    "y[0, :]"
   ]
  },
  {
   "cell_type": "code",
   "execution_count": 41,
   "id": "aa37d8a7",
   "metadata": {},
   "outputs": [
    {
     "data": {
      "text/plain": [
       "torch.Size([3, 2, 2])"
      ]
     },
     "execution_count": 41,
     "metadata": {},
     "output_type": "execute_result"
    }
   ],
   "source": [
    "# Autograd\n",
    "# auto calculate gradients\n",
    "\n",
    "x = torch.tensor([\n",
    "    [[1, 2], \n",
    "    [3, 4]], \n",
    "    \n",
    "    [[5, 6], \n",
    "     [7, 8]],\n",
    "    \n",
    "    [[9, 10], \n",
    "     [11, 12]]\n",
    "], requires_grad = True, dtype=torch.float32)\n",
    "x.shape"
   ]
  },
  {
   "cell_type": "code",
   "execution_count": 42,
   "id": "fe08e5da",
   "metadata": {},
   "outputs": [
    {
     "name": "stdout",
     "output_type": "stream",
     "text": [
      "tensor([[[ 6., 12.],\n",
      "         [18., 24.]],\n",
      "\n",
      "        [[30., 36.],\n",
      "         [42., 48.]],\n",
      "\n",
      "        [[54., 60.],\n",
      "         [66., 72.]]])\n"
     ]
    }
   ],
   "source": [
    "y = 3 * (x ** 2)\n",
    "z = y.sum()\n",
    "\n",
    "z.backward()\n",
    "\n",
    "pp.pprint(x.grad)"
   ]
  },
  {
   "cell_type": "code",
   "execution_count": 43,
   "id": "fc18c7fe",
   "metadata": {},
   "outputs": [
    {
     "name": "stdout",
     "output_type": "stream",
     "text": [
      "None\n"
     ]
    }
   ],
   "source": [
    "x = torch.tensor([2.], requires_grad=True)\n",
    "\n",
    "pp.pprint(x.grad)"
   ]
  },
  {
   "cell_type": "code",
   "execution_count": 44,
   "id": "53e0cff7",
   "metadata": {},
   "outputs": [
    {
     "name": "stdout",
     "output_type": "stream",
     "text": [
      "tensor([12.])\n"
     ]
    }
   ],
   "source": [
    "y = 3 * (x ** 2)\n",
    "\n",
    "# backward propagation\n",
    "y.backward()\n",
    "\n",
    "pp.pprint(x.grad)"
   ]
  },
  {
   "cell_type": "code",
   "execution_count": 45,
   "id": "87529b5e",
   "metadata": {},
   "outputs": [
    {
     "name": "stdout",
     "output_type": "stream",
     "text": [
      "tensor([24.])\n"
     ]
    }
   ],
   "source": [
    "z = 3 * (x ** 2)\n",
    "\n",
    "# backward propagation\n",
    "z.backward()\n",
    "\n",
    "pp.pprint(x.grad)"
   ]
  },
  {
   "cell_type": "code",
   "execution_count": 46,
   "id": "c60ffa8d",
   "metadata": {},
   "outputs": [],
   "source": [
    "# Neural network module"
   ]
  },
  {
   "cell_type": "code",
   "execution_count": 47,
   "id": "6f0a0873",
   "metadata": {},
   "outputs": [],
   "source": [
    "import torch.nn as nn"
   ]
  },
  {
   "cell_type": "code",
   "execution_count": 48,
   "id": "c55380f8",
   "metadata": {},
   "outputs": [
    {
     "name": "stdout",
     "output_type": "stream",
     "text": [
      "tensor([[[1., 1., 1., 1.],\n",
      "         [1., 1., 1., 1.],\n",
      "         [1., 1., 1., 1.]],\n",
      "\n",
      "        [[1., 1., 1., 1.],\n",
      "         [1., 1., 1., 1.],\n",
      "         [1., 1., 1., 1.]]])\n"
     ]
    },
    {
     "data": {
      "text/plain": [
       "tensor([[[0.5104, 0.2008],\n",
       "         [0.5104, 0.2008],\n",
       "         [0.5104, 0.2008]],\n",
       "\n",
       "        [[0.5104, 0.2008],\n",
       "         [0.5104, 0.2008],\n",
       "         [0.5104, 0.2008]]], grad_fn=<SigmoidBackward0>)"
      ]
     },
     "execution_count": 48,
     "metadata": {},
     "output_type": "execute_result"
    }
   ],
   "source": [
    "input = torch.ones(2, 3, 4)\n",
    "print(input)\n",
    "\n",
    "# linear layer in pytorch takes 2 arguments, 1) input dimension, and 2) output dimension.\n",
    "linear = nn.Linear(4, 2)\n",
    "linear_output = linear(input)\n",
    "sigmoid = nn.Sigmoid()\n",
    "output = sigmoid(linear_output)\n",
    "output"
   ]
  },
  {
   "cell_type": "code",
   "execution_count": 49,
   "id": "85cf13df",
   "metadata": {},
   "outputs": [
    {
     "data": {
      "text/plain": [
       "[Parameter containing:\n",
       " tensor([[ 0.0409,  0.2801, -0.0757,  0.2222],\n",
       "         [-0.4167, -0.2807, -0.2774, -0.2993]], requires_grad=True),\n",
       " Parameter containing:\n",
       " tensor([-0.4257, -0.1069], requires_grad=True)]"
      ]
     },
     "execution_count": 49,
     "metadata": {},
     "output_type": "execute_result"
    }
   ],
   "source": [
    "list(linear.parameters())"
   ]
  },
  {
   "cell_type": "code",
   "execution_count": 50,
   "id": "9d692aa6",
   "metadata": {},
   "outputs": [
    {
     "data": {
      "text/plain": [
       "tensor([[[0.6370, 0.4955],\n",
       "         [0.6370, 0.4955],\n",
       "         [0.6370, 0.4955]],\n",
       "\n",
       "        [[0.6370, 0.4955],\n",
       "         [0.6370, 0.4955],\n",
       "         [0.6370, 0.4955]]], grad_fn=<SigmoidBackward0>)"
      ]
     },
     "execution_count": 50,
     "metadata": {},
     "output_type": "execute_result"
    }
   ],
   "source": [
    "# putting the layers together\n",
    "\n",
    "block = nn.Sequential(\n",
    "    nn.Linear(4, 2),\n",
    "    nn.Sigmoid()\n",
    ")\n",
    "\n",
    "input = torch.ones(2, 3, 4)\n",
    "output = block(input)\n",
    "output"
   ]
  },
  {
   "cell_type": "code",
   "execution_count": 51,
   "id": "c6a32bf7",
   "metadata": {},
   "outputs": [],
   "source": [
    "class MultiLayerPerceptron(nn.Module):\n",
    "\n",
    "    def __init__(self, input_size, hidden_size):\n",
    "\n",
    "        super(MultiLayerPerceptron, self).__init__()\n",
    "\n",
    "        self.input_size = input_size\n",
    "        self.hidden_size = hidden_size\n",
    "\n",
    "        self.model = nn.Sequential(\n",
    "            nn.Linear(self.input_size, self.hidden_size),\n",
    "            nn.ReLU(),\n",
    "            nn.Linear(self.hidden_size, self.input_size),\n",
    "            nn.Sigmoid()\n",
    "        )\n",
    "\n",
    "    def forward(self, x):\n",
    "        output = self.model(x)\n",
    "        return output"
   ]
  },
  {
   "cell_type": "code",
   "execution_count": 52,
   "id": "d314fee3",
   "metadata": {},
   "outputs": [
    {
     "data": {
      "text/plain": [
       "[Parameter containing:\n",
       " tensor([[-0.0315, -0.0053,  0.2117, -0.4263, -0.4037],\n",
       "         [-0.4428,  0.0306,  0.2557, -0.1449, -0.3250],\n",
       "         [ 0.0814, -0.1601, -0.3944, -0.1025, -0.2492]], requires_grad=True),\n",
       " Parameter containing:\n",
       " tensor([ 0.4141, -0.0877, -0.4193], requires_grad=True),\n",
       " Parameter containing:\n",
       " tensor([[-0.0229, -0.3267, -0.3172],\n",
       "         [-0.3144, -0.1666,  0.3103],\n",
       "         [ 0.2963,  0.0281,  0.3693],\n",
       "         [ 0.4080,  0.1957, -0.0006],\n",
       "         [ 0.2512,  0.5393, -0.0342]], requires_grad=True),\n",
       " Parameter containing:\n",
       " tensor([-0.4146, -0.0068, -0.3808,  0.3416,  0.3478], requires_grad=True)]"
      ]
     },
     "execution_count": 52,
     "metadata": {},
     "output_type": "execute_result"
    }
   ],
   "source": [
    "input = torch.randn(2, 5)\n",
    "model = MultiLayerPerceptron(5, 3)\n",
    "model(input)\n",
    "\n",
    "list(model.parameters())"
   ]
  },
  {
   "cell_type": "code",
   "execution_count": 58,
   "id": "c7a0e925",
   "metadata": {},
   "outputs": [
    {
     "data": {
      "text/plain": [
       "tensor([[ 2.6525,  1.5033,  1.0649,  1.5820,  1.5961],\n",
       "        [ 0.9360,  1.0121,  0.3269,  0.3124,  0.1407],\n",
       "        [ 1.4726,  0.3660,  2.7577,  1.5453,  0.1634],\n",
       "        [ 1.2500,  1.5113, -0.2629,  0.7807, -0.5474],\n",
       "        [-0.7894,  0.7371,  1.2991,  1.0853,  1.5647],\n",
       "        [ 0.1380, -0.1107,  0.2996,  1.3256,  1.0410],\n",
       "        [-0.3910,  0.9609,  1.3634,  0.5312,  1.3061],\n",
       "        [ 1.6492, -0.2070,  0.9190,  1.6587,  1.2000],\n",
       "        [ 2.0294,  0.6403, -0.2562,  0.6310, -1.1061],\n",
       "        [ 1.4069,  1.0016, -0.2134, -0.7120,  2.3739]])"
      ]
     },
     "execution_count": 58,
     "metadata": {},
     "output_type": "execute_result"
    }
   ],
   "source": [
    "y = torch.ones(10, 5)\n",
    "x = y + torch.randn_like(y)\n",
    "x"
   ]
  },
  {
   "cell_type": "code",
   "execution_count": 60,
   "id": "d5e78b8c",
   "metadata": {},
   "outputs": [
    {
     "data": {
      "text/plain": [
       "0.7474785447120667"
      ]
     },
     "execution_count": 60,
     "metadata": {},
     "output_type": "execute_result"
    }
   ],
   "source": [
    "# optimization\n",
    "import torch.optim as optim\n",
    "\n",
    "model = MultiLayerPerceptron(5, 3)\n",
    "\n",
    "adam = optim.Adam(model.parameters(), lr=1e-1)\n",
    "\n",
    "# binary cross-entropy loss function\n",
    "loss_function = nn.BCELoss()\n",
    "\n",
    "y_pred = model(x)\n",
    "loss_function(y_pred, y).item()"
   ]
  },
  {
   "cell_type": "code",
   "execution_count": 63,
   "id": "22460ba7",
   "metadata": {},
   "outputs": [
    {
     "name": "stdout",
     "output_type": "stream",
     "text": [
      "Epoch: 0: training loss: 0.7474785447120667\n",
      "Epoch: 1: training loss: 0.601238489151001\n",
      "Epoch: 2: training loss: 0.4604165554046631\n",
      "Epoch: 3: training loss: 0.3263360559940338\n",
      "Epoch: 4: training loss: 0.2135915756225586\n",
      "Epoch: 5: training loss: 0.13015595078468323\n",
      "Epoch: 6: training loss: 0.07496969401836395\n",
      "Epoch: 7: training loss: 0.041624151170253754\n",
      "Epoch: 8: training loss: 0.022727571427822113\n",
      "Epoch: 9: training loss: 0.012415153905749321\n"
     ]
    }
   ],
   "source": [
    "# model training\n",
    "n_epoch = 10\n",
    "\n",
    "for epoch in range(n_epoch):\n",
    "    \n",
    "    adam.zero_grad()\n",
    "    \n",
    "    y_pred = model(x)\n",
    "    \n",
    "    loss = loss_function(y_pred, y)\n",
    "    \n",
    "    print(f\"Epoch: {epoch}: training loss: {loss}\")\n",
    "    \n",
    "    loss.backward()\n",
    "    \n",
    "    adam.step()"
   ]
  },
  {
   "cell_type": "code",
   "execution_count": 64,
   "id": "b4dd1f44",
   "metadata": {},
   "outputs": [
    {
     "data": {
      "text/plain": [
       "tensor([[1.0000, 1.0000, 0.9999, 1.0000, 1.0000],\n",
       "        [0.9944, 0.9924, 0.9811, 0.9911, 0.9823],\n",
       "        [1.0000, 0.9999, 0.9995, 0.9998, 0.9997],\n",
       "        [0.9952, 0.9933, 0.9831, 0.9921, 0.9844],\n",
       "        [0.9985, 0.9974, 0.9922, 0.9966, 0.9936],\n",
       "        [0.9945, 0.9925, 0.9813, 0.9912, 0.9825],\n",
       "        [0.9982, 0.9970, 0.9910, 0.9961, 0.9925],\n",
       "        [0.9999, 0.9997, 0.9985, 0.9995, 0.9991],\n",
       "        [0.9893, 0.9872, 0.9714, 0.9858, 0.9713],\n",
       "        [0.9981, 0.9969, 0.9908, 0.9960, 0.9923]], grad_fn=<SigmoidBackward0>)"
      ]
     },
     "execution_count": 64,
     "metadata": {},
     "output_type": "execute_result"
    }
   ],
   "source": [
    "y_pred = model(x)\n",
    "y_pred"
   ]
  },
  {
   "cell_type": "code",
   "execution_count": null,
   "id": "e3cd9ed0",
   "metadata": {},
   "outputs": [],
   "source": []
  },
  {
   "cell_type": "code",
   "execution_count": null,
   "id": "cf27c735",
   "metadata": {},
   "outputs": [],
   "source": []
  },
  {
   "cell_type": "code",
   "execution_count": null,
   "id": "00442f19",
   "metadata": {},
   "outputs": [],
   "source": []
  },
  {
   "cell_type": "code",
   "execution_count": null,
   "id": "7207bc66",
   "metadata": {},
   "outputs": [],
   "source": []
  },
  {
   "cell_type": "code",
   "execution_count": null,
   "id": "3160b5d5",
   "metadata": {},
   "outputs": [],
   "source": []
  },
  {
   "cell_type": "code",
   "execution_count": null,
   "id": "f323cd7b",
   "metadata": {},
   "outputs": [],
   "source": []
  },
  {
   "cell_type": "code",
   "execution_count": null,
   "id": "2a0c6f31",
   "metadata": {},
   "outputs": [],
   "source": []
  }
 ],
 "metadata": {
  "kernelspec": {
   "display_name": "nlp_ptorch",
   "language": "python",
   "name": "nlp_ptorch"
  },
  "language_info": {
   "codemirror_mode": {
    "name": "ipython",
    "version": 3
   },
   "file_extension": ".py",
   "mimetype": "text/x-python",
   "name": "python",
   "nbconvert_exporter": "python",
   "pygments_lexer": "ipython3",
   "version": "3.9.17"
  }
 },
 "nbformat": 4,
 "nbformat_minor": 5
}
