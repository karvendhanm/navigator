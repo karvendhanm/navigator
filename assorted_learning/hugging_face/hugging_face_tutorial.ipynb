{
 "cells": [
  {
   "cell_type": "code",
   "execution_count": 1,
   "id": "5ef4dd04",
   "metadata": {},
   "outputs": [],
   "source": [
    "from IPython.core.interactiveshell import InteractiveShell\n",
    "InteractiveShell.ast_node_interactivity = \"all\""
   ]
  },
  {
   "cell_type": "code",
   "execution_count": 2,
   "id": "72d24ca7",
   "metadata": {},
   "outputs": [
    {
     "data": {
      "text/html": [
       "<style type=\"text/css\">\n",
       "table.dataframe td, table.dataframe th {\n",
       "    border: 1px  black solid !important;\n",
       "  color: black !important;\n",
       "}\n",
       "</style>\n"
      ],
      "text/plain": [
       "<IPython.core.display.HTML object>"
      ]
     },
     "metadata": {},
     "output_type": "display_data"
    }
   ],
   "source": [
    "%%HTML\n",
    "<style type=\"text/css\">\n",
    "table.dataframe td, table.dataframe th {\n",
    "    border: 1px  black solid !important;\n",
    "  color: black !important;\n",
    "}\n",
    "</style>"
   ]
  },
  {
   "cell_type": "code",
   "execution_count": 3,
   "id": "d66c7ad7",
   "metadata": {},
   "outputs": [
    {
     "name": "stderr",
     "output_type": "stream",
     "text": [
      "/home/karvsmech/.local/lib/python3.9/site-packages/tqdm/auto.py:21: TqdmWarning: IProgress not found. Please update jupyter and ipywidgets. See https://ipywidgets.readthedocs.io/en/stable/user_install.html\n",
      "  from .autonotebook import tqdm as notebook_tqdm\n"
     ]
    }
   ],
   "source": [
    "from collections import defaultdict, Counter\n",
    "import json\n",
    "\n",
    "import matplotlib.pyplot as plt\n",
    "import numpy as np\n",
    "import torch\n",
    "import transformers\n",
    "import datasets"
   ]
  },
  {
   "cell_type": "code",
   "execution_count": 4,
   "id": "dec06b63",
   "metadata": {},
   "outputs": [
    {
     "name": "stdout",
     "output_type": "stream",
     "text": [
      "True\n",
      "using device: cuda\n"
     ]
    }
   ],
   "source": [
    "print(torch.cuda.is_available())\n",
    "\n",
    "device = torch.device('cuda' if torch.cuda.is_available() else 'cpu')\n",
    "print(f'using device: {device}')"
   ]
  },
  {
   "cell_type": "code",
   "execution_count": 5,
   "id": "3a2091e8",
   "metadata": {},
   "outputs": [],
   "source": [
    "def print_encoding(model_inputs, indent=4):\n",
    "    indent_str = \" \" * indent\n",
    "    print(\"{\")\n",
    "    for k, v in model_inputs.items():\n",
    "        print(indent_str + k + \":\")\n",
    "        print(indent_str + indent_str + str(v))\n",
    "    print(\"}\")"
   ]
  },
  {
   "cell_type": "code",
   "execution_count": 6,
   "id": "88adf741",
   "metadata": {},
   "outputs": [],
   "source": [
    "from transformers import AutoTokenizer, AutoModelForSequenceClassification\n",
    "\n",
    "# initialize the tokenizer\n",
    "tokenizer = AutoTokenizer.from_pretrained('siebert/sentiment-roberta-large-english')\n",
    "# initialize the model\n",
    "model = AutoModelForSequenceClassification.from_pretrained('siebert/sentiment-roberta-large-english')"
   ]
  },
  {
   "cell_type": "code",
   "execution_count": 7,
   "id": "c365eaa0",
   "metadata": {},
   "outputs": [
    {
     "data": {
      "text/plain": [
       "{'input_ids': tensor([[    0,   100,   437,  2283,     7,  1532,    59, 30581,  3923, 12346,\n",
       "         34379,   328,     2]]), 'attention_mask': tensor([[1, 1, 1, 1, 1, 1, 1, 1, 1, 1, 1, 1, 1]])}"
      ]
     },
     "execution_count": 7,
     "metadata": {},
     "output_type": "execute_result"
    },
    {
     "data": {
      "text/plain": [
       "SequenceClassifierOutput(loss=None, logits=tensor([[-3.7605,  2.9262]], grad_fn=<AddmmBackward0>), hidden_states=None, attentions=None)"
      ]
     },
     "execution_count": 7,
     "metadata": {},
     "output_type": "execute_result"
    },
    {
     "name": "stdout",
     "output_type": "stream",
     "text": [
      "the prediction is: POSITIVE\n"
     ]
    }
   ],
   "source": [
    "inputs = \"I'm excited to learn about Hugging Face Transformers!\"\n",
    "tokenized_inputs = tokenizer(inputs, return_tensors='pt')\n",
    "tokenized_inputs\n",
    "\n",
    "outputs = model(**tokenized_inputs)\n",
    "outputs\n",
    "\n",
    "labels = ['NEGATIVE', 'POSITIVE']\n",
    "prediction = labels[torch.argmax(outputs.logits)]\n",
    "\n",
    "print(f'the prediction is: {prediction}')"
   ]
  },
  {
   "cell_type": "code",
   "execution_count": 8,
   "id": "c6d9b411",
   "metadata": {},
   "outputs": [
    {
     "name": "stdout",
     "output_type": "stream",
     "text": [
      "DistilBertTokenizer(name_or_path='distilbert-base-cased', vocab_size=28996, model_max_length=512, is_fast=False, padding_side='right', truncation_side='right', special_tokens={'unk_token': '[UNK]', 'sep_token': '[SEP]', 'pad_token': '[PAD]', 'cls_token': '[CLS]', 'mask_token': '[MASK]'}, clean_up_tokenization_spaces=True)\n",
      "DistilBertTokenizerFast(name_or_path='distilbert-base-cased', vocab_size=28996, model_max_length=512, is_fast=True, padding_side='right', truncation_side='right', special_tokens={'unk_token': '[UNK]', 'sep_token': '[SEP]', 'pad_token': '[PAD]', 'cls_token': '[CLS]', 'mask_token': '[MASK]'}, clean_up_tokenization_spaces=True)\n",
      "DistilBertTokenizerFast(name_or_path='distilbert-base-cased', vocab_size=28996, model_max_length=512, is_fast=True, padding_side='right', truncation_side='right', special_tokens={'unk_token': '[UNK]', 'sep_token': '[SEP]', 'pad_token': '[PAD]', 'cls_token': '[CLS]', 'mask_token': '[MASK]'}, clean_up_tokenization_spaces=True)\n"
     ]
    }
   ],
   "source": [
    "# tokenizers\n",
    "\n",
    "from transformers import DistilBertTokenizer, DistilBertTokenizerFast, AutoTokenizer\n",
    "\n",
    "tokenizer = DistilBertTokenizer.from_pretrained('distilbert-base-cased')\n",
    "print(tokenizer)\n",
    "\n",
    "tokenizer = DistilBertTokenizerFast.from_pretrained('distilbert-base-cased')\n",
    "print(tokenizer)\n",
    "\n",
    "tokenizer = AutoTokenizer.from_pretrained('distilbert-base-cased')\n",
    "print(tokenizer)"
   ]
  },
  {
   "cell_type": "code",
   "execution_count": 9,
   "id": "bd8e1065",
   "metadata": {},
   "outputs": [
    {
     "name": "stdout",
     "output_type": "stream",
     "text": [
      "{'input_ids': [101, 20164, 10932, 10289, 11303, 1468, 1110, 1632, 106, 102], 'attention_mask': [1, 1, 1, 1, 1, 1, 1, 1, 1, 1]}\n"
     ]
    }
   ],
   "source": [
    "input_str = \"Hugging Face transformers is great!\"\n",
    "tokenized_inputs = tokenizer(input_str)\n",
    "\n",
    "print(tokenized_inputs)"
   ]
  },
  {
   "cell_type": "code",
   "execution_count": 10,
   "id": "48f7360c",
   "metadata": {},
   "outputs": [
    {
     "name": "stdout",
     "output_type": "stream",
     "text": [
      "{\n",
      "    input_ids:\n",
      "        [101, 20164, 10932, 10289, 11303, 1468, 1110, 1632, 106, 102]\n",
      "    attention_mask:\n",
      "        [1, 1, 1, 1, 1, 1, 1, 1, 1, 1]\n",
      "}\n"
     ]
    }
   ],
   "source": [
    "print_encoding(tokenized_inputs)"
   ]
  },
  {
   "cell_type": "code",
   "execution_count": 11,
   "id": "56979ab4",
   "metadata": {},
   "outputs": [
    {
     "name": "stdout",
     "output_type": "stream",
     "text": [
      "start:                    Hugging Face transformers is great!\n",
      "tokenize:                 ['Hu', '##gging', 'Face', 'transform', '##ers', 'is', 'great', '!']\n",
      "convert_tokens_to_ids:    [20164, 10932, 10289, 11303, 1468, 1110, 1632, 106]\n",
      "add special tokens:       [101, 20164, 10932, 10289, 11303, 1468, 1110, 1632, 106, 102]\n",
      "---------\n",
      "decode:                   [CLS] Hugging Face transformers is great! [SEP]\n"
     ]
    }
   ],
   "source": [
    "cls = [tokenizer.cls_token_id]\n",
    "sep = [tokenizer.sep_token_id]\n",
    "\n",
    "# tokenization happens in a few steps\n",
    "input_tokens = tokenizer.tokenize(input_str)\n",
    "input_ids = tokenizer.convert_tokens_to_ids(input_tokens)\n",
    "input_ids_special_tokens = cls + input_ids + sep\n",
    "\n",
    "decoded_str = tokenizer.decode(input_ids_special_tokens)\n",
    "\n",
    "\n",
    "print(\"start:                   \", input_str)\n",
    "print(\"tokenize:                \", input_tokens)\n",
    "print(\"convert_tokens_to_ids:   \", input_ids)\n",
    "print(\"add special tokens:      \", input_ids_special_tokens)\n",
    "print(\"---------\")\n",
    "print(\"decode:                  \", decoded_str)"
   ]
  },
  {
   "cell_type": "code",
   "execution_count": 12,
   "id": "f1bbcb2b",
   "metadata": {},
   "outputs": [
    {
     "name": "stdout",
     "output_type": "stream",
     "text": [
      "Hugging Face transformers is great!\n",
      "-----\n",
      "Number of tokens: 10\n",
      "Ids: [101, 20164, 10932, 10289, 11303, 1468, 1110, 1632, 106, 102]\n",
      "Tokens: ['[CLS]', 'Hu', '##gging', 'Face', 'transform', '##ers', 'is', 'great', '!', '[SEP]']\n",
      "special_tokens_mask: [1, 0, 0, 0, 0, 0, 0, 0, 0, 1]\n"
     ]
    }
   ],
   "source": [
    "# for fast tokenizers there is another option too\n",
    "inputs = tokenizer._tokenizer.encode(input_str)\n",
    "\n",
    "print(input_str)\n",
    "print(\"-\" * 5)\n",
    "print(f\"Number of tokens: {len(inputs)}\")\n",
    "print(f\"Ids: {inputs.ids}\")\n",
    "print(f\"Tokens: {inputs.tokens}\")\n",
    "print(f\"special_tokens_mask: {inputs.special_tokens_mask}\")"
   ]
  },
  {
   "cell_type": "code",
   "execution_count": 13,
   "id": "f2b96a4f",
   "metadata": {},
   "outputs": [
    {
     "name": "stdout",
     "output_type": "stream",
     "text": [
      "PyTorch Tensors:\n",
      "{\n",
      "    input_ids:\n",
      "        tensor([[  101, 20164, 10932, 10289, 11303,  1468,  1110,  1632,   106,   102]])\n",
      "    attention_mask:\n",
      "        tensor([[1, 1, 1, 1, 1, 1, 1, 1, 1, 1]])\n",
      "}\n"
     ]
    }
   ],
   "source": [
    "# the tokenizer can return pytorch tensors\n",
    "model_inputs = tokenizer(input_str, return_tensors='pt')\n",
    "print('PyTorch Tensors:')\n",
    "print_encoding(model_inputs)"
   ]
  },
  {
   "cell_type": "code",
   "execution_count": 14,
   "id": "cb7fa172",
   "metadata": {},
   "outputs": [
    {
     "name": "stdout",
     "output_type": "stream",
     "text": [
      "Pad token: [PAD] | Pad token id: 0\n",
      "Padding:\n",
      "{\n",
      "    input_ids:\n",
      "        tensor([[  101, 20164, 10932, 10289, 13809, 14467, 19134,  1110,  1632,   106,\n",
      "           102,     0,     0,     0,     0,     0,     0,     0,     0,     0,\n",
      "             0,     0,     0,     0,     0,     0,     0,     0,     0],\n",
      "        [  101,  1109,  3613,  3058, 17594, 15457,  1166,  1103, 16688,  3676,\n",
      "           119,  1599,  1103,  3676,  1400,  1146,  1105,  1868,  1283,  1272,\n",
      "          1131,  1238,   112,   189,  1176, 17594,  1279,   119,   102]])\n",
      "    attention_mask:\n",
      "        tensor([[1, 1, 1, 1, 1, 1, 1, 1, 1, 1, 1, 0, 0, 0, 0, 0, 0, 0, 0, 0, 0, 0, 0, 0,\n",
      "         0, 0, 0, 0, 0],\n",
      "        [1, 1, 1, 1, 1, 1, 1, 1, 1, 1, 1, 1, 1, 1, 1, 1, 1, 1, 1, 1, 1, 1, 1, 1,\n",
      "         1, 1, 1, 1, 1]])\n",
      "}\n"
     ]
    }
   ],
   "source": [
    "# we can pass multiple strings to the tokenizer and pad them as we need.\n",
    "model_inputs = tokenizer([\"Hugging Face Transfomers is great!\",\n",
    "                         \"The quick brown fox jumps over the lazy dog. Then the dog got up and ran away because she didn't like foxes.\",\n",
    "                         ],\n",
    "                        return_tensors='pt', \n",
    "                        padding=True, \n",
    "                        truncation=True)\n",
    "print(f\"Pad token: {tokenizer.pad_token} | Pad token id: {tokenizer.pad_token_id}\")\n",
    "print(\"Padding:\")\n",
    "print_encoding(model_inputs)"
   ]
  },
  {
   "cell_type": "code",
   "execution_count": 15,
   "id": "f1af1750",
   "metadata": {},
   "outputs": [
    {
     "data": {
      "text/plain": [
       "['[CLS] Hugging Face Transfomers is great! [SEP] [PAD] [PAD] [PAD] [PAD] [PAD] [PAD] [PAD] [PAD] [PAD] [PAD] [PAD] [PAD] [PAD] [PAD] [PAD] [PAD] [PAD] [PAD]',\n",
       " \"[CLS] The quick brown fox jumps over the lazy dog. Then the dog got up and ran away because she didn't like foxes. [SEP]\"]"
      ]
     },
     "execution_count": 15,
     "metadata": {},
     "output_type": "execute_result"
    }
   ],
   "source": [
    "tokenizer.batch_decode(model_inputs.input_ids)"
   ]
  },
  {
   "cell_type": "code",
   "execution_count": 16,
   "id": "a7977956",
   "metadata": {},
   "outputs": [
    {
     "data": {
      "text/plain": [
       "['Hugging Face Transfomers is great!',\n",
       " \"The quick brown fox jumps over the lazy dog. Then the dog got up and ran away because she didn't like foxes.\"]"
      ]
     },
     "execution_count": 16,
     "metadata": {},
     "output_type": "execute_result"
    }
   ],
   "source": [
    "tokenizer.batch_decode(model_inputs.input_ids, skip_special_tokens=True)"
   ]
  },
  {
   "cell_type": "code",
   "execution_count": 17,
   "id": "21b71de4",
   "metadata": {},
   "outputs": [],
   "source": [
    "# Models"
   ]
  },
  {
   "cell_type": "code",
   "execution_count": 18,
   "id": "ceda9ffe",
   "metadata": {},
   "outputs": [
    {
     "name": "stderr",
     "output_type": "stream",
     "text": [
      "Some weights of the model checkpoint at siebert/sentiment-roberta-large-english were not used when initializing RobertaModel: ['classifier.out_proj.bias', 'classifier.dense.bias', 'classifier.out_proj.weight', 'classifier.dense.weight']\n",
      "- This IS expected if you are initializing RobertaModel from the checkpoint of a model trained on another task or with another architecture (e.g. initializing a BertForSequenceClassification model from a BertForPreTraining model).\n",
      "- This IS NOT expected if you are initializing RobertaModel from the checkpoint of a model that you expect to be exactly identical (initializing a BertForSequenceClassification model from a BertForSequenceClassification model).\n"
     ]
    }
   ],
   "source": [
    "from transformers import AutoTokenizer, AutoModel\n",
    "\n",
    "# initialize the tokenizer\n",
    "tokenizer = AutoTokenizer.from_pretrained('siebert/sentiment-roberta-large-english')\n",
    "# initialize the model\n",
    "# when you need the model for just getting its representations.\n",
    "model_rep = AutoModel.from_pretrained('siebert/sentiment-roberta-large-english')\n",
    "\n",
    "# when you need the model with a particular head. \n",
    "# For instance, in this case we have sequence classification head for sentiment analysis.\n",
    "model_head = AutoModelForSequenceClassification.from_pretrained('siebert/sentiment-roberta-large-english')"
   ]
  },
  {
   "cell_type": "code",
   "execution_count": 19,
   "id": "9614fc23",
   "metadata": {},
   "outputs": [
    {
     "data": {
      "text/plain": [
       "{'input_ids': tensor([[    0,   100,   437,  2283,     7,  1532,    59, 30581,  3923, 12346,\n",
       "         34379,   328,     2]]), 'attention_mask': tensor([[1, 1, 1, 1, 1, 1, 1, 1, 1, 1, 1, 1, 1]])}"
      ]
     },
     "execution_count": 19,
     "metadata": {},
     "output_type": "execute_result"
    },
    {
     "data": {
      "text/plain": [
       "BaseModelOutputWithPoolingAndCrossAttentions(last_hidden_state=tensor([[[-0.0525, -0.1342, -0.5488,  ...,  0.1036,  0.0879, -0.2249],\n",
       "         [-0.0568, -0.1349, -0.5527,  ...,  0.1023,  0.0883, -0.2277],\n",
       "         [-0.0568, -0.1349, -0.5525,  ...,  0.1026,  0.0884, -0.2279],\n",
       "         ...,\n",
       "         [-0.0576, -0.1346, -0.5536,  ...,  0.1007,  0.0885, -0.2269],\n",
       "         [-0.0565, -0.1349, -0.5526,  ...,  0.1028,  0.0883, -0.2282],\n",
       "         [-0.0578, -0.1352, -0.5541,  ...,  0.1014,  0.0881, -0.2279]]],\n",
       "       grad_fn=<NativeLayerNormBackward0>), pooler_output=tensor([[-0.3097,  0.2555,  0.5330,  ...,  0.2384,  0.1918, -0.5362]],\n",
       "       grad_fn=<TanhBackward0>), hidden_states=None, past_key_values=None, attentions=None, cross_attentions=None)"
      ]
     },
     "execution_count": 19,
     "metadata": {},
     "output_type": "execute_result"
    },
    {
     "data": {
      "text/plain": [
       "SequenceClassifierOutput(loss=None, logits=tensor([[-3.7605,  2.9262]], grad_fn=<AddmmBackward0>), hidden_states=None, attentions=None)"
      ]
     },
     "execution_count": 19,
     "metadata": {},
     "output_type": "execute_result"
    }
   ],
   "source": [
    "inputs = \"I'm excited to learn about Hugging Face Transformers!\"\n",
    "model_inputs = tokenizer(inputs, return_tensors=\"pt\")\n",
    "model_inputs\n",
    "\n",
    "outputs_representation = model_rep(**model_inputs)\n",
    "outputs_representation\n",
    "\n",
    "outputs_sequence_classification_head = model_head(**model_inputs)\n",
    "outputs_sequence_classification_head"
   ]
  },
  {
   "cell_type": "code",
   "execution_count": 20,
   "id": "761de109",
   "metadata": {},
   "outputs": [
    {
     "name": "stderr",
     "output_type": "stream",
     "text": [
      "Some weights of the model checkpoint at distilbert-base-cased were not used when initializing DistilBertForSequenceClassification: ['vocab_layer_norm.weight', 'vocab_transform.weight', 'vocab_projector.bias', 'vocab_transform.bias', 'vocab_layer_norm.bias']\n",
      "- This IS expected if you are initializing DistilBertForSequenceClassification from the checkpoint of a model trained on another task or with another architecture (e.g. initializing a BertForSequenceClassification model from a BertForPreTraining model).\n",
      "- This IS NOT expected if you are initializing DistilBertForSequenceClassification from the checkpoint of a model that you expect to be exactly identical (initializing a BertForSequenceClassification model from a BertForSequenceClassification model).\n",
      "Some weights of DistilBertForSequenceClassification were not initialized from the model checkpoint at distilbert-base-cased and are newly initialized: ['classifier.weight', 'pre_classifier.bias', 'classifier.bias', 'pre_classifier.weight']\n",
      "You should probably TRAIN this model on a down-stream task to be able to use it for predictions and inference.\n"
     ]
    },
    {
     "data": {
      "text/plain": [
       "{'input_ids': tensor([[ 101, 1103, 2523, 1108, 1363,  102]]), 'attention_mask': tensor([[1, 1, 1, 1, 1, 1]])}"
      ]
     },
     "execution_count": 20,
     "metadata": {},
     "output_type": "execute_result"
    },
    {
     "data": {
      "text/plain": [
       "SequenceClassifierOutput(loss=None, logits=tensor([[0.0998, 0.0674]], grad_fn=<AddmmBackward0>), hidden_states=None, attentions=None)"
      ]
     },
     "execution_count": 20,
     "metadata": {},
     "output_type": "execute_result"
    },
    {
     "name": "stdout",
     "output_type": "stream",
     "text": [
      "Distribution over labels: tensor([[0.5081, 0.4919]], grad_fn=<SoftmaxBackward0>)\n",
      "NEGATIVE\n"
     ]
    }
   ],
   "source": [
    "from transformers import AutoModelForSequenceClassification, DistilBertForSequenceClassification\n",
    "\n",
    "check_point = 'distilbert-base-cased'\n",
    "model_auto = AutoModelForSequenceClassification.from_pretrained(check_point)\n",
    "# model_bert = DistilBertForSequenceClassification.from_pretrained(check_point, num_labels = 2)\n",
    "\n",
    "tokenizer = AutoTokenizer.from_pretrained(check_point)\n",
    "\n",
    "input_str = \"the movie was good\"\n",
    "tokenized_inputs = tokenizer(input_str, return_tensors='pt')\n",
    "tokenized_inputs\n",
    "\n",
    "model_outputs = model_auto(**tokenized_inputs)\n",
    "model_outputs\n",
    "\n",
    "print(f\"Distribution over labels: {torch.softmax(model_outputs.logits, dim=1)}\")\n",
    "\n",
    "labels = ['NEGATIVE', 'POSITIVE']\n",
    "print(labels[torch.argmax(model_outputs.logits)])"
   ]
  },
  {
   "cell_type": "code",
   "execution_count": 21,
   "id": "f58ab4c7",
   "metadata": {},
   "outputs": [
    {
     "data": {
      "text/plain": [
       "{'input_ids': tensor([[   0,  627, 1569,   21,  205,    2]]), 'attention_mask': tensor([[1, 1, 1, 1, 1, 1]])}"
      ]
     },
     "execution_count": 21,
     "metadata": {},
     "output_type": "execute_result"
    },
    {
     "data": {
      "text/plain": [
       "SequenceClassifierOutput(loss=None, logits=tensor([[-3.6781,  2.8360]], grad_fn=<AddmmBackward0>), hidden_states=None, attentions=None)"
      ]
     },
     "execution_count": 21,
     "metadata": {},
     "output_type": "execute_result"
    },
    {
     "name": "stdout",
     "output_type": "stream",
     "text": [
      "Distribution over labels: tensor([[0.0015, 0.9985]], grad_fn=<SoftmaxBackward0>)\n",
      "POSITIVE\n"
     ]
    }
   ],
   "source": [
    "from transformers import AutoModelForSequenceClassification, DistilBertForSequenceClassification\n",
    "\n",
    "check_point = 'siebert/sentiment-roberta-large-english'\n",
    "model_auto = AutoModelForSequenceClassification.from_pretrained(check_point)\n",
    "# model_bert = DistilBertForSequenceClassification.from_pretrained(check_point, num_labels = 2)\n",
    "\n",
    "tokenizer = AutoTokenizer.from_pretrained(check_point)\n",
    "\n",
    "input_str = \"the movie was good\"\n",
    "tokenized_inputs = tokenizer(input_str, return_tensors='pt')\n",
    "tokenized_inputs\n",
    "\n",
    "model_outputs = model_auto(**tokenized_inputs)\n",
    "model_outputs\n",
    "\n",
    "print(f\"Distribution over labels: {torch.softmax(model_outputs.logits, dim=1)}\")\n",
    "\n",
    "labels = ['NEGATIVE', 'POSITIVE']\n",
    "print(labels[torch.argmax(model_outputs.logits)])"
   ]
  },
  {
   "cell_type": "code",
   "execution_count": 22,
   "id": "7a61fce3",
   "metadata": {},
   "outputs": [
    {
     "name": "stdout",
     "output_type": "stream",
     "text": [
      "tensor(0.0015, grad_fn=<NllLossBackward0>)\n"
     ]
    }
   ],
   "source": [
    "label = torch.tensor([1])\n",
    "loss = torch.nn.functional.cross_entropy(model_outputs.logits, label)\n",
    "print(loss)\n",
    "\n",
    "loss.backward()"
   ]
  },
  {
   "cell_type": "code",
   "execution_count": 23,
   "id": "932d5eb7",
   "metadata": {},
   "outputs": [
    {
     "data": {
      "text/plain": [
       "('roberta.embeddings.word_embeddings.weight',\n",
       " Parameter containing:\n",
       " tensor([[-0.1397, -0.0087,  0.0402,  ...,  0.0502, -0.0065, -0.0361],\n",
       "         [ 0.0078, -0.0156,  0.0156,  ..., -0.0156,  0.0230,  0.0156],\n",
       "         [-0.0820, -0.0008, -0.1182,  ...,  0.1095,  0.0693, -0.0350],\n",
       "         ...,\n",
       "         [ 0.0393,  0.0031,  0.0465,  ..., -0.0240, -0.0505,  0.0342],\n",
       "         [ 0.0498,  0.0272,  0.0412,  ..., -0.0370, -0.0100,  0.0071],\n",
       "         [-0.0149, -0.0113, -0.0222,  ...,  0.0440,  0.0116, -0.0330]],\n",
       "        requires_grad=True))"
      ]
     },
     "execution_count": 23,
     "metadata": {},
     "output_type": "execute_result"
    }
   ],
   "source": [
    "list(model.named_parameters())[0]"
   ]
  },
  {
   "cell_type": "code",
   "execution_count": 24,
   "id": "6cc96c5a",
   "metadata": {},
   "outputs": [
    {
     "name": "stdout",
     "output_type": "stream",
     "text": [
      "{'input_ids': tensor([[    0, 40710,  3923, 12346,  7891,   268,    16,   372,   328,     2]]), 'attention_mask': tensor([[1, 1, 1, 1, 1, 1, 1, 1, 1, 1]]), 'labels': tensor([1])}\n",
      "\n",
      "SequenceClassifierOutput(loss=tensor(0.0014, grad_fn=<NllLossBackward0>), logits=tensor([[-3.7117,  2.8718]], grad_fn=<AddmmBackward0>), hidden_states=None, attentions=None)\n",
      "\n",
      "Model predictions: POSITIVE\n"
     ]
    }
   ],
   "source": [
    "# to calculate the loss, we need to pass in the label\n",
    "input_str = \"Hugging Face transformers is great!\"\n",
    "\n",
    "model_inputs = tokenizer(input_str, return_tensors='pt')\n",
    "\n",
    "labels= ['NEGATIVE', 'POSITIVE']\n",
    "\n",
    "model_inputs['labels'] = torch.tensor([1])\n",
    "\n",
    "model_outputs = model_auto(**model_inputs)\n",
    "\n",
    "print(model_inputs)\n",
    "print()\n",
    "print(model_outputs)\n",
    "print()\n",
    "print(f\"Model predictions: {labels[model_outputs.logits.argmax()]}\")"
   ]
  },
  {
   "cell_type": "code",
   "execution_count": 25,
   "id": "c718f758",
   "metadata": {},
   "outputs": [
    {
     "name": "stderr",
     "output_type": "stream",
     "text": [
      "Some weights of the model checkpoint at distilbert-base-cased were not used when initializing DistilBertModel: ['vocab_layer_norm.weight', 'vocab_transform.weight', 'vocab_projector.bias', 'vocab_transform.bias', 'vocab_layer_norm.bias']\n",
      "- This IS expected if you are initializing DistilBertModel from the checkpoint of a model trained on another task or with another architecture (e.g. initializing a BertForSequenceClassification model from a BertForPreTraining model).\n",
      "- This IS NOT expected if you are initializing DistilBertModel from the checkpoint of a model that you expect to be exactly identical (initializing a BertForSequenceClassification model from a BertForSequenceClassification model).\n"
     ]
    },
    {
     "data": {
      "text/plain": [
       "DistilBertModel(\n",
       "  (embeddings): Embeddings(\n",
       "    (word_embeddings): Embedding(28996, 768, padding_idx=0)\n",
       "    (position_embeddings): Embedding(512, 768)\n",
       "    (LayerNorm): LayerNorm((768,), eps=1e-12, elementwise_affine=True)\n",
       "    (dropout): Dropout(p=0.1, inplace=False)\n",
       "  )\n",
       "  (transformer): Transformer(\n",
       "    (layer): ModuleList(\n",
       "      (0-5): 6 x TransformerBlock(\n",
       "        (attention): MultiHeadSelfAttention(\n",
       "          (dropout): Dropout(p=0.1, inplace=False)\n",
       "          (q_lin): Linear(in_features=768, out_features=768, bias=True)\n",
       "          (k_lin): Linear(in_features=768, out_features=768, bias=True)\n",
       "          (v_lin): Linear(in_features=768, out_features=768, bias=True)\n",
       "          (out_lin): Linear(in_features=768, out_features=768, bias=True)\n",
       "        )\n",
       "        (sa_layer_norm): LayerNorm((768,), eps=1e-12, elementwise_affine=True)\n",
       "        (ffn): FFN(\n",
       "          (dropout): Dropout(p=0.1, inplace=False)\n",
       "          (lin1): Linear(in_features=768, out_features=3072, bias=True)\n",
       "          (lin2): Linear(in_features=3072, out_features=768, bias=True)\n",
       "          (activation): GELUActivation()\n",
       "        )\n",
       "        (output_layer_norm): LayerNorm((768,), eps=1e-12, elementwise_affine=True)\n",
       "      )\n",
       "    )\n",
       "  )\n",
       ")"
      ]
     },
     "execution_count": 25,
     "metadata": {},
     "output_type": "execute_result"
    },
    {
     "name": "stdout",
     "output_type": "stream",
     "text": [
      "Hidden state size (per layer):  torch.Size([1, 10, 768])\n",
      "Attention head size (per layer):  torch.Size([1, 12, 10, 10])\n"
     ]
    }
   ],
   "source": [
    "# getting the hidden states and attention weights of the model\n",
    "from transformers import AutoModel\n",
    "\n",
    "input_str = \"Hugging Face transformers is great!\"\n",
    "\n",
    "check_point = 'distilbert-base-cased'\n",
    "tokenizer = AutoTokenizer.from_pretrained(check_point)\n",
    "\n",
    "model = AutoModel.from_pretrained(check_point, output_attentions=True, output_hidden_states=True)\n",
    "model.eval()\n",
    "\n",
    "\n",
    "model_inputs = tokenizer(input_str, return_tensors='pt')\n",
    "with torch.no_grad():\n",
    "    model_outputs = model(**model_inputs)\n",
    "    \n",
    "print(\"Hidden state size (per layer): \", model_outputs.hidden_states[0].shape)\n",
    "print(\"Attention head size (per layer): \", model_outputs.attentions[0].shape) # (layer, batch, query_word_idx, key_word_idx)"
   ]
  },
  {
   "cell_type": "code",
   "execution_count": 26,
   "id": "d043d3ed",
   "metadata": {},
   "outputs": [
    {
     "name": "stdout",
     "output_type": "stream",
     "text": [
      "['[CLS]', 'Hu', '##gging', 'Face', 'transform', '##ers', 'is', 'great', '!', '[SEP]']\n"
     ]
    },
    {
     "data": {
      "text/plain": [
       "<matplotlib.image.AxesImage at 0x7048cd83c340>"
      ]
     },
     "execution_count": 26,
     "metadata": {},
     "output_type": "execute_result"
    },
    {
     "data": {
      "text/plain": [
       "[<matplotlib.axis.XTick at 0x7048e0599a60>,\n",
       " <matplotlib.axis.XTick at 0x7048e05999d0>,\n",
       " <matplotlib.axis.XTick at 0x7048e1903df0>,\n",
       " <matplotlib.axis.XTick at 0x7048cd7fcaf0>,\n",
       " <matplotlib.axis.XTick at 0x7048cd79a5e0>,\n",
       " <matplotlib.axis.XTick at 0x7048cd79ad30>,\n",
       " <matplotlib.axis.XTick at 0x7048cd7fcf10>,\n",
       " <matplotlib.axis.XTick at 0x7048cd79cdc0>,\n",
       " <matplotlib.axis.XTick at 0x7048cd7a58b0>,\n",
       " <matplotlib.axis.XTick at 0x7048cd7a93a0>]"
      ]
     },
     "execution_count": 26,
     "metadata": {},
     "output_type": "execute_result"
    },
    {
     "data": {
      "text/plain": [
       "[Text(0, 0, '[CLS]'),\n",
       " Text(1, 0, 'Hu'),\n",
       " Text(2, 0, '##gging'),\n",
       " Text(3, 0, 'Face'),\n",
       " Text(4, 0, 'transform'),\n",
       " Text(5, 0, '##ers'),\n",
       " Text(6, 0, 'is'),\n",
       " Text(7, 0, 'great'),\n",
       " Text(8, 0, '!'),\n",
       " Text(9, 0, '[SEP]')]"
      ]
     },
     "execution_count": 26,
     "metadata": {},
     "output_type": "execute_result"
    },
    {
     "data": {
      "text/plain": [
       "[<matplotlib.axis.YTick at 0x7048cde9cb50>,\n",
       " <matplotlib.axis.YTick at 0x7048cf785610>,\n",
       " <matplotlib.axis.YTick at 0x7048e0599460>,\n",
       " <matplotlib.axis.YTick at 0x7048cd7a9d00>,\n",
       " <matplotlib.axis.YTick at 0x7048cd7b1880>,\n",
       " <matplotlib.axis.YTick at 0x7048cd7b7370>,\n",
       " <matplotlib.axis.YTick at 0x7048cd7b7e20>,\n",
       " <matplotlib.axis.YTick at 0x7048cd7b13d0>,\n",
       " <matplotlib.axis.YTick at 0x7048cd7ba880>,\n",
       " <matplotlib.axis.YTick at 0x7048cd743370>]"
      ]
     },
     "execution_count": 26,
     "metadata": {},
     "output_type": "execute_result"
    },
    {
     "data": {
      "text/plain": [
       "[Text(0, 0, '[CLS]'),\n",
       " Text(0, 1, 'Hu'),\n",
       " Text(0, 2, '##gging'),\n",
       " Text(0, 3, 'Face'),\n",
       " Text(0, 4, 'transform'),\n",
       " Text(0, 5, '##ers'),\n",
       " Text(0, 6, 'is'),\n",
       " Text(0, 7, 'great'),\n",
       " Text(0, 8, '!'),\n",
       " Text(0, 9, '[SEP]')]"
      ]
     },
     "execution_count": 26,
     "metadata": {},
     "output_type": "execute_result"
    },
    {
     "data": {
      "text/plain": [
       "[Text(0, 0.5, 'layer=0')]"
      ]
     },
     "execution_count": 26,
     "metadata": {},
     "output_type": "execute_result"
    },
    {
     "data": {
      "text/plain": [
       "<matplotlib.image.AxesImage at 0x7048cd7fc0d0>"
      ]
     },
     "execution_count": 26,
     "metadata": {},
     "output_type": "execute_result"
    },
    {
     "data": {
      "text/plain": [
       "[<matplotlib.axis.XTick at 0x7048e039f910>,\n",
       " <matplotlib.axis.XTick at 0x7048e039f8e0>,\n",
       " <matplotlib.axis.XTick at 0x7048e039f130>,\n",
       " <matplotlib.axis.XTick at 0x7048cd814430>,\n",
       " <matplotlib.axis.XTick at 0x7048cd7488e0>,\n",
       " <matplotlib.axis.XTick at 0x7048cd7503d0>,\n",
       " <matplotlib.axis.XTick at 0x7048cd750e80>,\n",
       " <matplotlib.axis.XTick at 0x7048cd7480a0>,\n",
       " <matplotlib.axis.XTick at 0x7048cd753790>,\n",
       " <matplotlib.axis.XTick at 0x7048cd75b280>]"
      ]
     },
     "execution_count": 26,
     "metadata": {},
     "output_type": "execute_result"
    },
    {
     "data": {
      "text/plain": [
       "[Text(0, 0, '[CLS]'),\n",
       " Text(1, 0, 'Hu'),\n",
       " Text(2, 0, '##gging'),\n",
       " Text(3, 0, 'Face'),\n",
       " Text(4, 0, 'transform'),\n",
       " Text(5, 0, '##ers'),\n",
       " Text(6, 0, 'is'),\n",
       " Text(7, 0, 'great'),\n",
       " Text(8, 0, '!'),\n",
       " Text(9, 0, '[SEP]')]"
      ]
     },
     "execution_count": 26,
     "metadata": {},
     "output_type": "execute_result"
    },
    {
     "data": {
      "text/plain": [
       "[<matplotlib.axis.YTick at 0x7048e0391610>,\n",
       " <matplotlib.axis.YTick at 0x7048e039ff70>,\n",
       " <matplotlib.axis.YTick at 0x7048e039f4c0>,\n",
       " <matplotlib.axis.YTick at 0x7048cd75b5b0>,\n",
       " <matplotlib.axis.YTick at 0x7048cd7627f0>,\n",
       " <matplotlib.axis.YTick at 0x7048cd7662e0>,\n",
       " <matplotlib.axis.YTick at 0x7048cd766d90>,\n",
       " <matplotlib.axis.YTick at 0x7048cd766fd0>,\n",
       " <matplotlib.axis.YTick at 0x7048cd76c6d0>,\n",
       " <matplotlib.axis.YTick at 0x7048cd76ce20>]"
      ]
     },
     "execution_count": 26,
     "metadata": {},
     "output_type": "execute_result"
    },
    {
     "data": {
      "text/plain": [
       "[Text(0, 0, '[CLS]'),\n",
       " Text(0, 1, 'Hu'),\n",
       " Text(0, 2, '##gging'),\n",
       " Text(0, 3, 'Face'),\n",
       " Text(0, 4, 'transform'),\n",
       " Text(0, 5, '##ers'),\n",
       " Text(0, 6, 'is'),\n",
       " Text(0, 7, 'great'),\n",
       " Text(0, 8, '!'),\n",
       " Text(0, 9, '[SEP]')]"
      ]
     },
     "execution_count": 26,
     "metadata": {},
     "output_type": "execute_result"
    },
    {
     "data": {
      "text/plain": [
       "<matplotlib.image.AxesImage at 0x7048cd773c70>"
      ]
     },
     "execution_count": 26,
     "metadata": {},
     "output_type": "execute_result"
    },
    {
     "data": {
      "text/plain": [
       "[<matplotlib.axis.XTick at 0x7048e0567700>,\n",
       " <matplotlib.axis.XTick at 0x7048e05676d0>,\n",
       " <matplotlib.axis.XTick at 0x7048e0576e50>,\n",
       " <matplotlib.axis.XTick at 0x7048cd77d340>,\n",
       " <matplotlib.axis.XTick at 0x7048cd77de80>,\n",
       " <matplotlib.axis.XTick at 0x7048cd77f820>,\n",
       " <matplotlib.axis.XTick at 0x7048cd702310>,\n",
       " <matplotlib.axis.XTick at 0x7048cd77f130>,\n",
       " <matplotlib.axis.XTick at 0x7048cd702d30>,\n",
       " <matplotlib.axis.XTick at 0x7048cd70b820>]"
      ]
     },
     "execution_count": 26,
     "metadata": {},
     "output_type": "execute_result"
    },
    {
     "data": {
      "text/plain": [
       "[Text(0, 0, '[CLS]'),\n",
       " Text(1, 0, 'Hu'),\n",
       " Text(2, 0, '##gging'),\n",
       " Text(3, 0, 'Face'),\n",
       " Text(4, 0, 'transform'),\n",
       " Text(5, 0, '##ers'),\n",
       " Text(6, 0, 'is'),\n",
       " Text(7, 0, 'great'),\n",
       " Text(8, 0, '!'),\n",
       " Text(9, 0, '[SEP]')]"
      ]
     },
     "execution_count": 26,
     "metadata": {},
     "output_type": "execute_result"
    },
    {
     "data": {
      "text/plain": [
       "[<matplotlib.axis.YTick at 0x7048e0566400>,\n",
       " <matplotlib.axis.YTick at 0x7048e0567d60>,\n",
       " <matplotlib.axis.YTick at 0x7048e05672b0>,\n",
       " <matplotlib.axis.YTick at 0x7048cd77fc40>,\n",
       " <matplotlib.axis.YTick at 0x7048cd711cd0>,\n",
       " <matplotlib.axis.YTick at 0x7048cd716b20>,\n",
       " <matplotlib.axis.YTick at 0x7048cd71c610>,\n",
       " <matplotlib.axis.YTick at 0x7048cd7162b0>,\n",
       " <matplotlib.axis.YTick at 0x7048cd71ce20>,\n",
       " <matplotlib.axis.YTick at 0x7048cd724910>]"
      ]
     },
     "execution_count": 26,
     "metadata": {},
     "output_type": "execute_result"
    },
    {
     "data": {
      "text/plain": [
       "[Text(0, 0, '[CLS]'),\n",
       " Text(0, 1, 'Hu'),\n",
       " Text(0, 2, '##gging'),\n",
       " Text(0, 3, 'Face'),\n",
       " Text(0, 4, 'transform'),\n",
       " Text(0, 5, '##ers'),\n",
       " Text(0, 6, 'is'),\n",
       " Text(0, 7, 'great'),\n",
       " Text(0, 8, '!'),\n",
       " Text(0, 9, '[SEP]')]"
      ]
     },
     "execution_count": 26,
     "metadata": {},
     "output_type": "execute_result"
    },
    {
     "data": {
      "text/plain": [
       "<matplotlib.image.AxesImage at 0x7048cd727730>"
      ]
     },
     "execution_count": 26,
     "metadata": {},
     "output_type": "execute_result"
    },
    {
     "data": {
      "text/plain": [
       "[<matplotlib.axis.XTick at 0x7048cf970280>,\n",
       " <matplotlib.axis.XTick at 0x7048cf970250>,\n",
       " <matplotlib.axis.XTick at 0x7048cf963a60>,\n",
       " <matplotlib.axis.XTick at 0x7048cd7279a0>,\n",
       " <matplotlib.axis.XTick at 0x7048cd72a580>,\n",
       " <matplotlib.axis.XTick at 0x7048cd72acd0>,\n",
       " <matplotlib.axis.XTick at 0x7048cd733bb0>,\n",
       " <matplotlib.axis.XTick at 0x7048cd733700>,\n",
       " <matplotlib.axis.XTick at 0x7048cd739430>,\n",
       " <matplotlib.axis.XTick at 0x7048cd739ee0>]"
      ]
     },
     "execution_count": 26,
     "metadata": {},
     "output_type": "execute_result"
    },
    {
     "data": {
      "text/plain": [
       "[Text(0, 0, '[CLS]'),\n",
       " Text(1, 0, 'Hu'),\n",
       " Text(2, 0, '##gging'),\n",
       " Text(3, 0, 'Face'),\n",
       " Text(4, 0, 'transform'),\n",
       " Text(5, 0, '##ers'),\n",
       " Text(6, 0, 'is'),\n",
       " Text(7, 0, 'great'),\n",
       " Text(8, 0, '!'),\n",
       " Text(9, 0, '[SEP]')]"
      ]
     },
     "execution_count": 26,
     "metadata": {},
     "output_type": "execute_result"
    },
    {
     "data": {
      "text/plain": [
       "[<matplotlib.axis.YTick at 0x7048cf970f40>,\n",
       " <matplotlib.axis.YTick at 0x7048cf9708e0>,\n",
       " <matplotlib.axis.YTick at 0x7048cf963df0>,\n",
       " <matplotlib.axis.YTick at 0x7048cd6c75e0>,\n",
       " <matplotlib.axis.YTick at 0x7048cd739820>,\n",
       " <matplotlib.axis.YTick at 0x7048cd6c7d30>,\n",
       " <matplotlib.axis.YTick at 0x7048cd6cbb80>,\n",
       " <matplotlib.axis.YTick at 0x7048cd6d0670>,\n",
       " <matplotlib.axis.YTick at 0x7048cd6d0fd0>,\n",
       " <matplotlib.axis.YTick at 0x7048cd6cb730>]"
      ]
     },
     "execution_count": 26,
     "metadata": {},
     "output_type": "execute_result"
    },
    {
     "data": {
      "text/plain": [
       "[Text(0, 0, '[CLS]'),\n",
       " Text(0, 1, 'Hu'),\n",
       " Text(0, 2, '##gging'),\n",
       " Text(0, 3, 'Face'),\n",
       " Text(0, 4, 'transform'),\n",
       " Text(0, 5, '##ers'),\n",
       " Text(0, 6, 'is'),\n",
       " Text(0, 7, 'great'),\n",
       " Text(0, 8, '!'),\n",
       " Text(0, 9, '[SEP]')]"
      ]
     },
     "execution_count": 26,
     "metadata": {},
     "output_type": "execute_result"
    },
    {
     "data": {
      "text/plain": [
       "<matplotlib.image.AxesImage at 0x7048cd6d5c40>"
      ]
     },
     "execution_count": 26,
     "metadata": {},
     "output_type": "execute_result"
    },
    {
     "data": {
      "text/plain": [
       "[<matplotlib.axis.XTick at 0x7048cf9c0ee0>,\n",
       " <matplotlib.axis.XTick at 0x7048cf9c0eb0>,\n",
       " <matplotlib.axis.XTick at 0x7048cf9c0700>,\n",
       " <matplotlib.axis.XTick at 0x7048cd6db8e0>,\n",
       " <matplotlib.axis.XTick at 0x7048cd6e53d0>,\n",
       " <matplotlib.axis.XTick at 0x7048cd6db040>,\n",
       " <matplotlib.axis.XTick at 0x7048cd71caf0>,\n",
       " <matplotlib.axis.XTick at 0x7048cd6e5f10>,\n",
       " <matplotlib.axis.XTick at 0x7048cd6eda00>,\n",
       " <matplotlib.axis.XTick at 0x7048cd6ef4f0>]"
      ]
     },
     "execution_count": 26,
     "metadata": {},
     "output_type": "execute_result"
    },
    {
     "data": {
      "text/plain": [
       "[Text(0, 0, '[CLS]'),\n",
       " Text(1, 0, 'Hu'),\n",
       " Text(2, 0, '##gging'),\n",
       " Text(3, 0, 'Face'),\n",
       " Text(4, 0, 'transform'),\n",
       " Text(5, 0, '##ers'),\n",
       " Text(6, 0, 'is'),\n",
       " Text(7, 0, 'great'),\n",
       " Text(8, 0, '!'),\n",
       " Text(9, 0, '[SEP]')]"
      ]
     },
     "execution_count": 26,
     "metadata": {},
     "output_type": "execute_result"
    },
    {
     "data": {
      "text/plain": [
       "[<matplotlib.axis.YTick at 0x7048cf9c2ac0>,\n",
       " <matplotlib.axis.YTick at 0x7048cf9c0fd0>,\n",
       " <matplotlib.axis.YTick at 0x7048cf9c0a90>,\n",
       " <matplotlib.axis.YTick at 0x7048cd6efee0>,\n",
       " <matplotlib.axis.YTick at 0x7048cd6faa60>,\n",
       " <matplotlib.axis.YTick at 0x7048cd6fd400>,\n",
       " <matplotlib.axis.YTick at 0x7048cd6fdeb0>,\n",
       " <matplotlib.axis.YTick at 0x7048cd6faca0>,\n",
       " <matplotlib.axis.YTick at 0x7048cd6817f0>,\n",
       " <matplotlib.axis.YTick at 0x7048cd6892e0>]"
      ]
     },
     "execution_count": 26,
     "metadata": {},
     "output_type": "execute_result"
    },
    {
     "data": {
      "text/plain": [
       "[Text(0, 0, '[CLS]'),\n",
       " Text(0, 1, 'Hu'),\n",
       " Text(0, 2, '##gging'),\n",
       " Text(0, 3, 'Face'),\n",
       " Text(0, 4, 'transform'),\n",
       " Text(0, 5, '##ers'),\n",
       " Text(0, 6, 'is'),\n",
       " Text(0, 7, 'great'),\n",
       " Text(0, 8, '!'),\n",
       " Text(0, 9, '[SEP]')]"
      ]
     },
     "execution_count": 26,
     "metadata": {},
     "output_type": "execute_result"
    },
    {
     "data": {
      "text/plain": [
       "<matplotlib.image.AxesImage at 0x7048cd6fd850>"
      ]
     },
     "execution_count": 26,
     "metadata": {},
     "output_type": "execute_result"
    },
    {
     "data": {
      "text/plain": [
       "[<matplotlib.axis.XTick at 0x7048cf1adbb0>,\n",
       " <matplotlib.axis.XTick at 0x7048cf1adb80>,\n",
       " <matplotlib.axis.XTick at 0x7048cf1ad3d0>,\n",
       " <matplotlib.axis.XTick at 0x7048cd68c340>,\n",
       " <matplotlib.axis.XTick at 0x7048cd68cdf0>,\n",
       " <matplotlib.axis.XTick at 0x7048cd694970>,\n",
       " <matplotlib.axis.XTick at 0x7048cd69a310>,\n",
       " <matplotlib.axis.XTick at 0x7048cd68c580>,\n",
       " <matplotlib.axis.XTick at 0x7048cd69ad30>,\n",
       " <matplotlib.axis.XTick at 0x7048cd6a0820>]"
      ]
     },
     "execution_count": 26,
     "metadata": {},
     "output_type": "execute_result"
    },
    {
     "data": {
      "text/plain": [
       "[Text(0, 0, '[CLS]'),\n",
       " Text(1, 0, 'Hu'),\n",
       " Text(2, 0, '##gging'),\n",
       " Text(3, 0, 'Face'),\n",
       " Text(4, 0, 'transform'),\n",
       " Text(5, 0, '##ers'),\n",
       " Text(6, 0, 'is'),\n",
       " Text(7, 0, 'great'),\n",
       " Text(8, 0, '!'),\n",
       " Text(9, 0, '[SEP]')]"
      ]
     },
     "execution_count": 26,
     "metadata": {},
     "output_type": "execute_result"
    },
    {
     "data": {
      "text/plain": [
       "[<matplotlib.axis.YTick at 0x7048cf1addc0>,\n",
       " <matplotlib.axis.YTick at 0x7048cf1add90>,\n",
       " <matplotlib.axis.YTick at 0x7048cf1ad760>,\n",
       " <matplotlib.axis.YTick at 0x7048cd694e50>,\n",
       " <matplotlib.axis.YTick at 0x7048cd6a6f70>,\n",
       " <matplotlib.axis.YTick at 0x7048cd6a9a60>,\n",
       " <matplotlib.axis.YTick at 0x7048cd6b0550>,\n",
       " <matplotlib.axis.YTick at 0x7048cd6a91f0>,\n",
       " <matplotlib.axis.YTick at 0x7048cd6b0ee0>,\n",
       " <matplotlib.axis.YTick at 0x7048cd6b89d0>]"
      ]
     },
     "execution_count": 26,
     "metadata": {},
     "output_type": "execute_result"
    },
    {
     "data": {
      "text/plain": [
       "[Text(0, 0, '[CLS]'),\n",
       " Text(0, 1, 'Hu'),\n",
       " Text(0, 2, '##gging'),\n",
       " Text(0, 3, 'Face'),\n",
       " Text(0, 4, 'transform'),\n",
       " Text(0, 5, '##ers'),\n",
       " Text(0, 6, 'is'),\n",
       " Text(0, 7, 'great'),\n",
       " Text(0, 8, '!'),\n",
       " Text(0, 9, '[SEP]')]"
      ]
     },
     "execution_count": 26,
     "metadata": {},
     "output_type": "execute_result"
    },
    {
     "data": {
      "text/plain": [
       "<matplotlib.image.AxesImage at 0x7048cd6fd820>"
      ]
     },
     "execution_count": 26,
     "metadata": {},
     "output_type": "execute_result"
    },
    {
     "data": {
      "text/plain": [
       "[<matplotlib.axis.XTick at 0x7048e03e7850>,\n",
       " <matplotlib.axis.XTick at 0x7048e03e7820>,\n",
       " <matplotlib.axis.XTick at 0x7048e03e7430>,\n",
       " <matplotlib.axis.XTick at 0x7048cd6bc9d0>,\n",
       " <matplotlib.axis.XTick at 0x7048cd6405b0>,\n",
       " <matplotlib.axis.XTick at 0x7048cd640f10>,\n",
       " <matplotlib.axis.XTick at 0x7048cd649a00>,\n",
       " <matplotlib.axis.XTick at 0x7048cd649c10>,\n",
       " <matplotlib.axis.XTick at 0x7048cd651340>,\n",
       " <matplotlib.axis.XTick at 0x7048cd651df0>]"
      ]
     },
     "execution_count": 26,
     "metadata": {},
     "output_type": "execute_result"
    },
    {
     "data": {
      "text/plain": [
       "[Text(0, 0, '[CLS]'),\n",
       " Text(1, 0, 'Hu'),\n",
       " Text(2, 0, '##gging'),\n",
       " Text(3, 0, 'Face'),\n",
       " Text(4, 0, 'transform'),\n",
       " Text(5, 0, '##ers'),\n",
       " Text(6, 0, 'is'),\n",
       " Text(7, 0, 'great'),\n",
       " Text(8, 0, '!'),\n",
       " Text(9, 0, '[SEP]')]"
      ]
     },
     "execution_count": 26,
     "metadata": {},
     "output_type": "execute_result"
    },
    {
     "data": {
      "text/plain": [
       "[<matplotlib.axis.YTick at 0x7048e03e1550>,\n",
       " <matplotlib.axis.YTick at 0x7048e03e7eb0>,\n",
       " <matplotlib.axis.YTick at 0x7048e03e7400>,\n",
       " <matplotlib.axis.YTick at 0x7048cd65f4f0>,\n",
       " <matplotlib.axis.YTick at 0x7048cd655ac0>,\n",
       " <matplotlib.axis.YTick at 0x7048cd65ffa0>,\n",
       " <matplotlib.axis.YTick at 0x7048cd65da90>,\n",
       " <matplotlib.axis.YTick at 0x7048cd668430>,\n",
       " <matplotlib.axis.YTick at 0x7048cd668ee0>,\n",
       " <matplotlib.axis.YTick at 0x7048cd65d520>]"
      ]
     },
     "execution_count": 26,
     "metadata": {},
     "output_type": "execute_result"
    },
    {
     "data": {
      "text/plain": [
       "[Text(0, 0, '[CLS]'),\n",
       " Text(0, 1, 'Hu'),\n",
       " Text(0, 2, '##gging'),\n",
       " Text(0, 3, 'Face'),\n",
       " Text(0, 4, 'transform'),\n",
       " Text(0, 5, '##ers'),\n",
       " Text(0, 6, 'is'),\n",
       " Text(0, 7, 'great'),\n",
       " Text(0, 8, '!'),\n",
       " Text(0, 9, '[SEP]')]"
      ]
     },
     "execution_count": 26,
     "metadata": {},
     "output_type": "execute_result"
    },
    {
     "data": {
      "text/plain": [
       "<matplotlib.image.AxesImage at 0x7048cd66cb50>"
      ]
     },
     "execution_count": 26,
     "metadata": {},
     "output_type": "execute_result"
    },
    {
     "data": {
      "text/plain": [
       "[<matplotlib.axis.XTick at 0x7048e042c4f0>,\n",
       " <matplotlib.axis.XTick at 0x7048e042c4c0>,\n",
       " <matplotlib.axis.XTick at 0x7048e0438e80>,\n",
       " <matplotlib.axis.XTick at 0x7048cd679760>,\n",
       " <matplotlib.axis.XTick at 0x7048cd679df0>,\n",
       " <matplotlib.axis.XTick at 0x7048cd6790d0>,\n",
       " <matplotlib.axis.XTick at 0x7048cd675c40>,\n",
       " <matplotlib.axis.XTick at 0x7048cd67e730>,\n",
       " <matplotlib.axis.XTick at 0x7048cd3c5220>,\n",
       " <matplotlib.axis.XTick at 0x7048cd3c5cd0>]"
      ]
     },
     "execution_count": 26,
     "metadata": {},
     "output_type": "execute_result"
    },
    {
     "data": {
      "text/plain": [
       "[Text(0, 0, '[CLS]'),\n",
       " Text(1, 0, 'Hu'),\n",
       " Text(2, 0, '##gging'),\n",
       " Text(3, 0, 'Face'),\n",
       " Text(4, 0, 'transform'),\n",
       " Text(5, 0, '##ers'),\n",
       " Text(6, 0, 'is'),\n",
       " Text(7, 0, 'great'),\n",
       " Text(8, 0, '!'),\n",
       " Text(9, 0, '[SEP]')]"
      ]
     },
     "execution_count": 26,
     "metadata": {},
     "output_type": "execute_result"
    },
    {
     "data": {
      "text/plain": [
       "[<matplotlib.axis.YTick at 0x7048e04241f0>,\n",
       " <matplotlib.axis.YTick at 0x7048e042cb50>,\n",
       " <matplotlib.axis.YTick at 0x7048e03d55b0>,\n",
       " <matplotlib.axis.YTick at 0x7048cd649df0>,\n",
       " <matplotlib.axis.YTick at 0x7048cd3ca6a0>,\n",
       " <matplotlib.axis.YTick at 0x7048cd3cad90>,\n",
       " <matplotlib.axis.YTick at 0x7048cd3d1be0>,\n",
       " <matplotlib.axis.YTick at 0x7048cd3ca8e0>,\n",
       " <matplotlib.axis.YTick at 0x7048cd3d6430>,\n",
       " <matplotlib.axis.YTick at 0x7048cd3d6ee0>]"
      ]
     },
     "execution_count": 26,
     "metadata": {},
     "output_type": "execute_result"
    },
    {
     "data": {
      "text/plain": [
       "[Text(0, 0, '[CLS]'),\n",
       " Text(0, 1, 'Hu'),\n",
       " Text(0, 2, '##gging'),\n",
       " Text(0, 3, 'Face'),\n",
       " Text(0, 4, 'transform'),\n",
       " Text(0, 5, '##ers'),\n",
       " Text(0, 6, 'is'),\n",
       " Text(0, 7, 'great'),\n",
       " Text(0, 8, '!'),\n",
       " Text(0, 9, '[SEP]')]"
      ]
     },
     "execution_count": 26,
     "metadata": {},
     "output_type": "execute_result"
    },
    {
     "data": {
      "text/plain": [
       "<matplotlib.image.AxesImage at 0x7048cd3d1490>"
      ]
     },
     "execution_count": 26,
     "metadata": {},
     "output_type": "execute_result"
    },
    {
     "data": {
      "text/plain": [
       "[<matplotlib.axis.XTick at 0x7048e052e190>,\n",
       " <matplotlib.axis.XTick at 0x7048e052e160>,\n",
       " <matplotlib.axis.XTick at 0x7048e053a970>,\n",
       " <matplotlib.axis.XTick at 0x7048cd3dffd0>,\n",
       " <matplotlib.axis.XTick at 0x7048cd3e2970>,\n",
       " <matplotlib.axis.XTick at 0x7048cd3eb460>,\n",
       " <matplotlib.axis.XTick at 0x7048cd3ebf10>,\n",
       " <matplotlib.axis.XTick at 0x7048cd3e2250>,\n",
       " <matplotlib.axis.XTick at 0x7048cd3f0970>,\n",
       " <matplotlib.axis.XTick at 0x7048cd3f6460>]"
      ]
     },
     "execution_count": 26,
     "metadata": {},
     "output_type": "execute_result"
    },
    {
     "data": {
      "text/plain": [
       "[Text(0, 0, '[CLS]'),\n",
       " Text(1, 0, 'Hu'),\n",
       " Text(2, 0, '##gging'),\n",
       " Text(3, 0, 'Face'),\n",
       " Text(4, 0, 'transform'),\n",
       " Text(5, 0, '##ers'),\n",
       " Text(6, 0, 'is'),\n",
       " Text(7, 0, 'great'),\n",
       " Text(8, 0, '!'),\n",
       " Text(9, 0, '[SEP]')]"
      ]
     },
     "execution_count": 26,
     "metadata": {},
     "output_type": "execute_result"
    },
    {
     "data": {
      "text/plain": [
       "[<matplotlib.axis.YTick at 0x7048e052ee50>,\n",
       " <matplotlib.axis.YTick at 0x7048e052e7f0>,\n",
       " <matplotlib.axis.YTick at 0x7048e053ad00>,\n",
       " <matplotlib.axis.YTick at 0x7048cd3f60d0>,\n",
       " <matplotlib.axis.YTick at 0x7048cd3fcb20>,\n",
       " <matplotlib.axis.YTick at 0x7048cd381610>,\n",
       " <matplotlib.axis.YTick at 0x7048cd381df0>,\n",
       " <matplotlib.axis.YTick at 0x7048cd381d00>,\n",
       " <matplotlib.axis.YTick at 0x7048cd387b20>,\n",
       " <matplotlib.axis.YTick at 0x7048cd38e610>]"
      ]
     },
     "execution_count": 26,
     "metadata": {},
     "output_type": "execute_result"
    },
    {
     "data": {
      "text/plain": [
       "[Text(0, 0, '[CLS]'),\n",
       " Text(0, 1, 'Hu'),\n",
       " Text(0, 2, '##gging'),\n",
       " Text(0, 3, 'Face'),\n",
       " Text(0, 4, 'transform'),\n",
       " Text(0, 5, '##ers'),\n",
       " Text(0, 6, 'is'),\n",
       " Text(0, 7, 'great'),\n",
       " Text(0, 8, '!'),\n",
       " Text(0, 9, '[SEP]')]"
      ]
     },
     "execution_count": 26,
     "metadata": {},
     "output_type": "execute_result"
    },
    {
     "data": {
      "text/plain": [
       "<matplotlib.image.AxesImage at 0x7048cd3d17c0>"
      ]
     },
     "execution_count": 26,
     "metadata": {},
     "output_type": "execute_result"
    },
    {
     "data": {
      "text/plain": [
       "[<matplotlib.axis.XTick at 0x7048e04ec0a0>,\n",
       " <matplotlib.axis.XTick at 0x7048e04ec070>,\n",
       " <matplotlib.axis.XTick at 0x7048e04f3880>,\n",
       " <matplotlib.axis.XTick at 0x7048cd3fc3d0>,\n",
       " <matplotlib.axis.XTick at 0x7048cd393df0>,\n",
       " <matplotlib.axis.XTick at 0x7048cd394b50>,\n",
       " <matplotlib.axis.XTick at 0x7048cd3a0640>,\n",
       " <matplotlib.axis.XTick at 0x7048cd3943d0>,\n",
       " <matplotlib.axis.XTick at 0x7048cd3a0f40>,\n",
       " <matplotlib.axis.XTick at 0x7048cd3a7a30>]"
      ]
     },
     "execution_count": 26,
     "metadata": {},
     "output_type": "execute_result"
    },
    {
     "data": {
      "text/plain": [
       "[Text(0, 0, '[CLS]'),\n",
       " Text(1, 0, 'Hu'),\n",
       " Text(2, 0, '##gging'),\n",
       " Text(3, 0, 'Face'),\n",
       " Text(4, 0, 'transform'),\n",
       " Text(5, 0, '##ers'),\n",
       " Text(6, 0, 'is'),\n",
       " Text(7, 0, 'great'),\n",
       " Text(8, 0, '!'),\n",
       " Text(9, 0, '[SEP]')]"
      ]
     },
     "execution_count": 26,
     "metadata": {},
     "output_type": "execute_result"
    },
    {
     "data": {
      "text/plain": [
       "[<matplotlib.axis.YTick at 0x7048e04ecd60>,\n",
       " <matplotlib.axis.YTick at 0x7048e04ec700>,\n",
       " <matplotlib.axis.YTick at 0x7048e04f3c10>,\n",
       " <matplotlib.axis.YTick at 0x7048cd3aae20>,\n",
       " <matplotlib.axis.YTick at 0x7048cd3aa910>,\n",
       " <matplotlib.axis.YTick at 0x7048cd3b0a00>,\n",
       " <matplotlib.axis.YTick at 0x7048cd3b64f0>,\n",
       " <matplotlib.axis.YTick at 0x7048cd3b6fa0>,\n",
       " <matplotlib.axis.YTick at 0x7048cd3bba90>,\n",
       " <matplotlib.axis.YTick at 0x7048cd3877c0>]"
      ]
     },
     "execution_count": 26,
     "metadata": {},
     "output_type": "execute_result"
    },
    {
     "data": {
      "text/plain": [
       "[Text(0, 0, '[CLS]'),\n",
       " Text(0, 1, 'Hu'),\n",
       " Text(0, 2, '##gging'),\n",
       " Text(0, 3, 'Face'),\n",
       " Text(0, 4, 'transform'),\n",
       " Text(0, 5, '##ers'),\n",
       " Text(0, 6, 'is'),\n",
       " Text(0, 7, 'great'),\n",
       " Text(0, 8, '!'),\n",
       " Text(0, 9, '[SEP]')]"
      ]
     },
     "execution_count": 26,
     "metadata": {},
     "output_type": "execute_result"
    },
    {
     "data": {
      "text/plain": [
       "<matplotlib.image.AxesImage at 0x7048cd342820>"
      ]
     },
     "execution_count": 26,
     "metadata": {},
     "output_type": "execute_result"
    },
    {
     "data": {
      "text/plain": [
       "[<matplotlib.axis.XTick at 0x7048e0479e20>,\n",
       " <matplotlib.axis.XTick at 0x7048e0479df0>,\n",
       " <matplotlib.axis.XTick at 0x7048e0479640>,\n",
       " <matplotlib.axis.XTick at 0x7048cd347460>,\n",
       " <matplotlib.axis.XTick at 0x7048cd347f40>,\n",
       " <matplotlib.axis.XTick at 0x7048cd347b80>,\n",
       " <matplotlib.axis.XTick at 0x7048cd350940>,\n",
       " <matplotlib.axis.XTick at 0x7048cd356430>,\n",
       " <matplotlib.axis.XTick at 0x7048cd356ee0>,\n",
       " <matplotlib.axis.XTick at 0x7048cd35b9d0>]"
      ]
     },
     "execution_count": 26,
     "metadata": {},
     "output_type": "execute_result"
    },
    {
     "data": {
      "text/plain": [
       "[Text(0, 0, '[CLS]'),\n",
       " Text(1, 0, 'Hu'),\n",
       " Text(2, 0, '##gging'),\n",
       " Text(3, 0, 'Face'),\n",
       " Text(4, 0, 'transform'),\n",
       " Text(5, 0, '##ers'),\n",
       " Text(6, 0, 'is'),\n",
       " Text(7, 0, 'great'),\n",
       " Text(8, 0, '!'),\n",
       " Text(9, 0, '[SEP]')]"
      ]
     },
     "execution_count": 26,
     "metadata": {},
     "output_type": "execute_result"
    },
    {
     "data": {
      "text/plain": [
       "[<matplotlib.axis.YTick at 0x7048e046eb20>,\n",
       " <matplotlib.axis.YTick at 0x7048e046e4c0>,\n",
       " <matplotlib.axis.YTick at 0x7048e04799d0>,\n",
       " <matplotlib.axis.YTick at 0x7048cd35f5e0>,\n",
       " <matplotlib.axis.YTick at 0x7048cd35fcd0>,\n",
       " <matplotlib.axis.YTick at 0x7048cd364a30>,\n",
       " <matplotlib.axis.YTick at 0x7048cd36c520>,\n",
       " <matplotlib.axis.YTick at 0x7048cd35f8e0>,\n",
       " <matplotlib.axis.YTick at 0x7048cd3b0640>,\n",
       " <matplotlib.axis.YTick at 0x7048cd36cb50>]"
      ]
     },
     "execution_count": 26,
     "metadata": {},
     "output_type": "execute_result"
    },
    {
     "data": {
      "text/plain": [
       "[Text(0, 0, '[CLS]'),\n",
       " Text(0, 1, 'Hu'),\n",
       " Text(0, 2, '##gging'),\n",
       " Text(0, 3, 'Face'),\n",
       " Text(0, 4, 'transform'),\n",
       " Text(0, 5, '##ers'),\n",
       " Text(0, 6, 'is'),\n",
       " Text(0, 7, 'great'),\n",
       " Text(0, 8, '!'),\n",
       " Text(0, 9, '[SEP]')]"
      ]
     },
     "execution_count": 26,
     "metadata": {},
     "output_type": "execute_result"
    },
    {
     "data": {
      "text/plain": [
       "<matplotlib.image.AxesImage at 0x7048cd36cd60>"
      ]
     },
     "execution_count": 26,
     "metadata": {},
     "output_type": "execute_result"
    },
    {
     "data": {
      "text/plain": [
       "[<matplotlib.axis.XTick at 0x7048e04ad760>,\n",
       " <matplotlib.axis.XTick at 0x7048e04ad730>,\n",
       " <matplotlib.axis.XTick at 0x7048e0518100>,\n",
       " <matplotlib.axis.XTick at 0x7048cd373bb0>,\n",
       " <matplotlib.axis.XTick at 0x7048cd37b730>,\n",
       " <matplotlib.axis.XTick at 0x7048cd37b880>,\n",
       " <matplotlib.axis.XTick at 0x7048cd301790>,\n",
       " <matplotlib.axis.XTick at 0x7048cd37ba90>,\n",
       " <matplotlib.axis.XTick at 0x7048cd301c10>,\n",
       " <matplotlib.axis.XTick at 0x7048cd30a430>]"
      ]
     },
     "execution_count": 26,
     "metadata": {},
     "output_type": "execute_result"
    },
    {
     "data": {
      "text/plain": [
       "[Text(0, 0, '[CLS]'),\n",
       " Text(1, 0, 'Hu'),\n",
       " Text(2, 0, '##gging'),\n",
       " Text(3, 0, 'Face'),\n",
       " Text(4, 0, 'transform'),\n",
       " Text(5, 0, '##ers'),\n",
       " Text(6, 0, 'is'),\n",
       " Text(7, 0, 'great'),\n",
       " Text(8, 0, '!'),\n",
       " Text(9, 0, '[SEP]')]"
      ]
     },
     "execution_count": 26,
     "metadata": {},
     "output_type": "execute_result"
    },
    {
     "data": {
      "text/plain": [
       "[<matplotlib.axis.YTick at 0x7048e04ac460>,\n",
       " <matplotlib.axis.YTick at 0x7048e04addc0>,\n",
       " <matplotlib.axis.YTick at 0x7048e04ad670>,\n",
       " <matplotlib.axis.YTick at 0x7048cd30e730>,\n",
       " <matplotlib.axis.YTick at 0x7048cd30aa00>,\n",
       " <matplotlib.axis.YTick at 0x7048cd30ee80>,\n",
       " <matplotlib.axis.YTick at 0x7048cd316790>,\n",
       " <matplotlib.axis.YTick at 0x7048cd30e0a0>,\n",
       " <matplotlib.axis.YTick at 0x7048cd31e550>,\n",
       " <matplotlib.axis.YTick at 0x7048cd316b20>]"
      ]
     },
     "execution_count": 26,
     "metadata": {},
     "output_type": "execute_result"
    },
    {
     "data": {
      "text/plain": [
       "[Text(0, 0, '[CLS]'),\n",
       " Text(0, 1, 'Hu'),\n",
       " Text(0, 2, '##gging'),\n",
       " Text(0, 3, 'Face'),\n",
       " Text(0, 4, 'transform'),\n",
       " Text(0, 5, '##ers'),\n",
       " Text(0, 6, 'is'),\n",
       " Text(0, 7, 'great'),\n",
       " Text(0, 8, '!'),\n",
       " Text(0, 9, '[SEP]')]"
      ]
     },
     "execution_count": 26,
     "metadata": {},
     "output_type": "execute_result"
    },
    {
     "data": {
      "text/plain": [
       "<matplotlib.image.AxesImage at 0x7048cd31eac0>"
      ]
     },
     "execution_count": 26,
     "metadata": {},
     "output_type": "execute_result"
    },
    {
     "data": {
      "text/plain": [
       "[<matplotlib.axis.XTick at 0x7048ceffce20>,\n",
       " <matplotlib.axis.XTick at 0x7048ceffce80>,\n",
       " <matplotlib.axis.XTick at 0x7048ceff2400>,\n",
       " <matplotlib.axis.XTick at 0x7048cd3295e0>,\n",
       " <matplotlib.axis.XTick at 0x7048cd329dc0>,\n",
       " <matplotlib.axis.XTick at 0x7048cd32ea60>,\n",
       " <matplotlib.axis.XTick at 0x7048cd3a0d60>,\n",
       " <matplotlib.axis.XTick at 0x7048cd32ef70>,\n",
       " <matplotlib.axis.XTick at 0x7048cd336790>,\n",
       " <matplotlib.axis.XTick at 0x7048cd336f70>]"
      ]
     },
     "execution_count": 26,
     "metadata": {},
     "output_type": "execute_result"
    },
    {
     "data": {
      "text/plain": [
       "[Text(0, 0, '[CLS]'),\n",
       " Text(1, 0, 'Hu'),\n",
       " Text(2, 0, '##gging'),\n",
       " Text(3, 0, 'Face'),\n",
       " Text(4, 0, 'transform'),\n",
       " Text(5, 0, '##ers'),\n",
       " Text(6, 0, 'is'),\n",
       " Text(7, 0, 'great'),\n",
       " Text(8, 0, '!'),\n",
       " Text(9, 0, '[SEP]')]"
      ]
     },
     "execution_count": 26,
     "metadata": {},
     "output_type": "execute_result"
    },
    {
     "data": {
      "text/plain": [
       "[<matplotlib.axis.YTick at 0x7048cdeb2ca0>,\n",
       " <matplotlib.axis.YTick at 0x7048cdeadd00>,\n",
       " <matplotlib.axis.YTick at 0x7048ceff79a0>,\n",
       " <matplotlib.axis.YTick at 0x7048cd336940>,\n",
       " <matplotlib.axis.YTick at 0x7048cd32edf0>,\n",
       " <matplotlib.axis.YTick at 0x7048cd2c16d0>,\n",
       " <matplotlib.axis.YTick at 0x7048cd2c1eb0>,\n",
       " <matplotlib.axis.YTick at 0x7048cd2ca6d0>,\n",
       " <matplotlib.axis.YTick at 0x7048cd2c1f70>,\n",
       " <matplotlib.axis.YTick at 0x7048cd2ca880>]"
      ]
     },
     "execution_count": 26,
     "metadata": {},
     "output_type": "execute_result"
    },
    {
     "data": {
      "text/plain": [
       "[Text(0, 0, '[CLS]'),\n",
       " Text(0, 1, 'Hu'),\n",
       " Text(0, 2, '##gging'),\n",
       " Text(0, 3, 'Face'),\n",
       " Text(0, 4, 'transform'),\n",
       " Text(0, 5, '##ers'),\n",
       " Text(0, 6, 'is'),\n",
       " Text(0, 7, 'great'),\n",
       " Text(0, 8, '!'),\n",
       " Text(0, 9, '[SEP]')]"
      ]
     },
     "execution_count": 26,
     "metadata": {},
     "output_type": "execute_result"
    },
    {
     "data": {
      "text/plain": [
       "[Text(0, 0.5, 'layer=1')]"
      ]
     },
     "execution_count": 26,
     "metadata": {},
     "output_type": "execute_result"
    },
    {
     "data": {
      "text/plain": [
       "<matplotlib.image.AxesImage at 0x7048cd2d5340>"
      ]
     },
     "execution_count": 26,
     "metadata": {},
     "output_type": "execute_result"
    },
    {
     "data": {
      "text/plain": [
       "[<matplotlib.axis.XTick at 0x7048cd24c100>,\n",
       " <matplotlib.axis.XTick at 0x7048cd24c0d0>,\n",
       " <matplotlib.axis.XTick at 0x7048cd25a8e0>,\n",
       " <matplotlib.axis.XTick at 0x7048cd2d5eb0>,\n",
       " <matplotlib.axis.XTick at 0x7048cd2d5940>,\n",
       " <matplotlib.axis.XTick at 0x7048cd2ca9d0>,\n",
       " <matplotlib.axis.XTick at 0x7048cd2dc730>,\n",
       " <matplotlib.axis.XTick at 0x7048cd2e3850>,\n",
       " <matplotlib.axis.XTick at 0x7048cd2e3fd0>,\n",
       " <matplotlib.axis.XTick at 0x7048cd2e3af0>]"
      ]
     },
     "execution_count": 26,
     "metadata": {},
     "output_type": "execute_result"
    },
    {
     "data": {
      "text/plain": [
       "[Text(0, 0, '[CLS]'),\n",
       " Text(1, 0, 'Hu'),\n",
       " Text(2, 0, '##gging'),\n",
       " Text(3, 0, 'Face'),\n",
       " Text(4, 0, 'transform'),\n",
       " Text(5, 0, '##ers'),\n",
       " Text(6, 0, 'is'),\n",
       " Text(7, 0, 'great'),\n",
       " Text(8, 0, '!'),\n",
       " Text(9, 0, '[SEP]')]"
      ]
     },
     "execution_count": 26,
     "metadata": {},
     "output_type": "execute_result"
    },
    {
     "data": {
      "text/plain": [
       "[<matplotlib.axis.YTick at 0x7048cd24cdf0>,\n",
       " <matplotlib.axis.YTick at 0x7048cd24c790>,\n",
       " <matplotlib.axis.YTick at 0x7048cd25ac70>,\n",
       " <matplotlib.axis.YTick at 0x7048cd2ebd30>,\n",
       " <matplotlib.axis.YTick at 0x7048cd2f4820>,\n",
       " <matplotlib.axis.YTick at 0x7048cd2f4f70>,\n",
       " <matplotlib.axis.YTick at 0x7048cd2f9a00>,\n",
       " <matplotlib.axis.YTick at 0x7048cd2eb1c0>,\n",
       " <matplotlib.axis.YTick at 0x7048cd2f9bb0>,\n",
       " <matplotlib.axis.YTick at 0x7048cd2ff3d0>]"
      ]
     },
     "execution_count": 26,
     "metadata": {},
     "output_type": "execute_result"
    },
    {
     "data": {
      "text/plain": [
       "[Text(0, 0, '[CLS]'),\n",
       " Text(0, 1, 'Hu'),\n",
       " Text(0, 2, '##gging'),\n",
       " Text(0, 3, 'Face'),\n",
       " Text(0, 4, 'transform'),\n",
       " Text(0, 5, '##ers'),\n",
       " Text(0, 6, 'is'),\n",
       " Text(0, 7, 'great'),\n",
       " Text(0, 8, '!'),\n",
       " Text(0, 9, '[SEP]')]"
      ]
     },
     "execution_count": 26,
     "metadata": {},
     "output_type": "execute_result"
    },
    {
     "data": {
      "text/plain": [
       "<matplotlib.image.AxesImage at 0x7048cd2d59d0>"
      ]
     },
     "execution_count": 26,
     "metadata": {},
     "output_type": "execute_result"
    },
    {
     "data": {
      "text/plain": [
       "[<matplotlib.axis.XTick at 0x7048ce9a0ee0>,\n",
       " <matplotlib.axis.XTick at 0x7048ce9a0eb0>,\n",
       " <matplotlib.axis.XTick at 0x7048ce9a0700>,\n",
       " <matplotlib.axis.XTick at 0x7048cd2ffa90>,\n",
       " <matplotlib.axis.XTick at 0x7048cd28a760>,\n",
       " <matplotlib.axis.XTick at 0x7048cd28aeb0>,\n",
       " <matplotlib.axis.XTick at 0x7048cd290880>,\n",
       " <matplotlib.axis.XTick at 0x7048cd2fff70>,\n",
       " <matplotlib.axis.XTick at 0x7048cd2dc340>,\n",
       " <matplotlib.axis.XTick at 0x7048cd290340>]"
      ]
     },
     "execution_count": 26,
     "metadata": {},
     "output_type": "execute_result"
    },
    {
     "data": {
      "text/plain": [
       "[Text(0, 0, '[CLS]'),\n",
       " Text(1, 0, 'Hu'),\n",
       " Text(2, 0, '##gging'),\n",
       " Text(3, 0, 'Face'),\n",
       " Text(4, 0, 'transform'),\n",
       " Text(5, 0, '##ers'),\n",
       " Text(6, 0, 'is'),\n",
       " Text(7, 0, 'great'),\n",
       " Text(8, 0, '!'),\n",
       " Text(9, 0, '[SEP]')]"
      ]
     },
     "execution_count": 26,
     "metadata": {},
     "output_type": "execute_result"
    },
    {
     "data": {
      "text/plain": [
       "[<matplotlib.axis.YTick at 0x7048ce99a790>,\n",
       " <matplotlib.axis.YTick at 0x7048ce99a5b0>,\n",
       " <matplotlib.axis.YTick at 0x7048ce9a0a90>,\n",
       " <matplotlib.axis.YTick at 0x7048cd299d90>,\n",
       " <matplotlib.axis.YTick at 0x7048cd299160>,\n",
       " <matplotlib.axis.YTick at 0x7048cd2f9d60>,\n",
       " <matplotlib.axis.YTick at 0x7048cd29fd30>,\n",
       " <matplotlib.axis.YTick at 0x7048cd2a84f0>,\n",
       " <matplotlib.axis.YTick at 0x7048cd2a8cd0>,\n",
       " <matplotlib.axis.YTick at 0x7048cd2a8ac0>]"
      ]
     },
     "execution_count": 26,
     "metadata": {},
     "output_type": "execute_result"
    },
    {
     "data": {
      "text/plain": [
       "[Text(0, 0, '[CLS]'),\n",
       " Text(0, 1, 'Hu'),\n",
       " Text(0, 2, '##gging'),\n",
       " Text(0, 3, 'Face'),\n",
       " Text(0, 4, 'transform'),\n",
       " Text(0, 5, '##ers'),\n",
       " Text(0, 6, 'is'),\n",
       " Text(0, 7, 'great'),\n",
       " Text(0, 8, '!'),\n",
       " Text(0, 9, '[SEP]')]"
      ]
     },
     "execution_count": 26,
     "metadata": {},
     "output_type": "execute_result"
    },
    {
     "data": {
      "text/plain": [
       "<matplotlib.image.AxesImage at 0x7048cd2dc610>"
      ]
     },
     "execution_count": 26,
     "metadata": {},
     "output_type": "execute_result"
    },
    {
     "data": {
      "text/plain": [
       "[<matplotlib.axis.XTick at 0x7048ce966c10>,\n",
       " <matplotlib.axis.XTick at 0x7048ce966be0>,\n",
       " <matplotlib.axis.XTick at 0x7048ce966400>,\n",
       " <matplotlib.axis.XTick at 0x7048cd2b0d90>,\n",
       " <matplotlib.axis.XTick at 0x7048cd2b7820>,\n",
       " <matplotlib.axis.XTick at 0x7048cd2b7f10>,\n",
       " <matplotlib.axis.XTick at 0x7048cd2b7400>,\n",
       " <matplotlib.axis.XTick at 0x7048cd29f8e0>,\n",
       " <matplotlib.axis.XTick at 0x7048cd2bcca0>,\n",
       " <matplotlib.axis.XTick at 0x7048cd20a4c0>]"
      ]
     },
     "execution_count": 26,
     "metadata": {},
     "output_type": "execute_result"
    },
    {
     "data": {
      "text/plain": [
       "[Text(0, 0, '[CLS]'),\n",
       " Text(1, 0, 'Hu'),\n",
       " Text(2, 0, '##gging'),\n",
       " Text(3, 0, 'Face'),\n",
       " Text(4, 0, 'transform'),\n",
       " Text(5, 0, '##ers'),\n",
       " Text(6, 0, 'is'),\n",
       " Text(7, 0, 'great'),\n",
       " Text(8, 0, '!'),\n",
       " Text(9, 0, '[SEP]')]"
      ]
     },
     "execution_count": 26,
     "metadata": {},
     "output_type": "execute_result"
    },
    {
     "data": {
      "text/plain": [
       "[<matplotlib.axis.YTick at 0x7048ce95c700>,\n",
       " <matplotlib.axis.YTick at 0x7048ce95c2e0>,\n",
       " <matplotlib.axis.YTick at 0x7048ce9667c0>,\n",
       " <matplotlib.axis.YTick at 0x7048cd20a640>,\n",
       " <matplotlib.axis.YTick at 0x7048cd20c6d0>,\n",
       " <matplotlib.axis.YTick at 0x7048cd20cfd0>,\n",
       " <matplotlib.axis.YTick at 0x7048cd20cfa0>,\n",
       " <matplotlib.axis.YTick at 0x7048cd215e80>,\n",
       " <matplotlib.axis.YTick at 0x7048cd20c160>,\n",
       " <matplotlib.axis.YTick at 0x7048cd215f40>]"
      ]
     },
     "execution_count": 26,
     "metadata": {},
     "output_type": "execute_result"
    },
    {
     "data": {
      "text/plain": [
       "[Text(0, 0, '[CLS]'),\n",
       " Text(0, 1, 'Hu'),\n",
       " Text(0, 2, '##gging'),\n",
       " Text(0, 3, 'Face'),\n",
       " Text(0, 4, 'transform'),\n",
       " Text(0, 5, '##ers'),\n",
       " Text(0, 6, 'is'),\n",
       " Text(0, 7, 'great'),\n",
       " Text(0, 8, '!'),\n",
       " Text(0, 9, '[SEP]')]"
      ]
     },
     "execution_count": 26,
     "metadata": {},
     "output_type": "execute_result"
    },
    {
     "data": {
      "text/plain": [
       "<matplotlib.image.AxesImage at 0x7048cd222a60>"
      ]
     },
     "execution_count": 26,
     "metadata": {},
     "output_type": "execute_result"
    },
    {
     "data": {
      "text/plain": [
       "[<matplotlib.axis.XTick at 0x7048cf16a910>,\n",
       " <matplotlib.axis.XTick at 0x7048cf16a8e0>,\n",
       " <matplotlib.axis.XTick at 0x7048cf16a130>,\n",
       " <matplotlib.axis.XTick at 0x7048cd229730>,\n",
       " <matplotlib.axis.XTick at 0x7048cd222220>,\n",
       " <matplotlib.axis.XTick at 0x7048cd229f10>,\n",
       " <matplotlib.axis.XTick at 0x7048cd230820>,\n",
       " <matplotlib.axis.XTick at 0x7048cd230fa0>,\n",
       " <matplotlib.axis.XTick at 0x7048cd2387c0>,\n",
       " <matplotlib.axis.XTick at 0x7048cd230ac0>]"
      ]
     },
     "execution_count": 26,
     "metadata": {},
     "output_type": "execute_result"
    },
    {
     "data": {
      "text/plain": [
       "[Text(0, 0, '[CLS]'),\n",
       " Text(1, 0, 'Hu'),\n",
       " Text(2, 0, '##gging'),\n",
       " Text(3, 0, 'Face'),\n",
       " Text(4, 0, 'transform'),\n",
       " Text(5, 0, '##ers'),\n",
       " Text(6, 0, 'is'),\n",
       " Text(7, 0, 'great'),\n",
       " Text(8, 0, '!'),\n",
       " Text(9, 0, '[SEP]')]"
      ]
     },
     "execution_count": 26,
     "metadata": {},
     "output_type": "execute_result"
    },
    {
     "data": {
      "text/plain": [
       "[<matplotlib.axis.YTick at 0x7048cf155520>,\n",
       " <matplotlib.axis.YTick at 0x7048cf16afa0>,\n",
       " <matplotlib.axis.YTick at 0x7048cf16a4c0>,\n",
       " <matplotlib.axis.YTick at 0x7048cd23e490>,\n",
       " <matplotlib.axis.YTick at 0x7048cd23efd0>,\n",
       " <matplotlib.axis.YTick at 0x7048cd1c0100>,\n",
       " <matplotlib.axis.YTick at 0x7048cd1c08b0>,\n",
       " <matplotlib.axis.YTick at 0x7048cd1c0a90>,\n",
       " <matplotlib.axis.YTick at 0x7048cd20cd60>,\n",
       " <matplotlib.axis.YTick at 0x7048cd1cbb50>]"
      ]
     },
     "execution_count": 26,
     "metadata": {},
     "output_type": "execute_result"
    },
    {
     "data": {
      "text/plain": [
       "[Text(0, 0, '[CLS]'),\n",
       " Text(0, 1, 'Hu'),\n",
       " Text(0, 2, '##gging'),\n",
       " Text(0, 3, 'Face'),\n",
       " Text(0, 4, 'transform'),\n",
       " Text(0, 5, '##ers'),\n",
       " Text(0, 6, 'is'),\n",
       " Text(0, 7, 'great'),\n",
       " Text(0, 8, '!'),\n",
       " Text(0, 9, '[SEP]')]"
      ]
     },
     "execution_count": 26,
     "metadata": {},
     "output_type": "execute_result"
    },
    {
     "data": {
      "text/plain": [
       "<matplotlib.image.AxesImage at 0x7048cd222dc0>"
      ]
     },
     "execution_count": 26,
     "metadata": {},
     "output_type": "execute_result"
    },
    {
     "data": {
      "text/plain": [
       "[<matplotlib.axis.XTick at 0x7048cf013730>,\n",
       " <matplotlib.axis.XTick at 0x7048cf013700>,\n",
       " <matplotlib.axis.XTick at 0x7048cf006eb0>,\n",
       " <matplotlib.axis.XTick at 0x7048cd1d54c0>,\n",
       " <matplotlib.axis.XTick at 0x7048cd1d5ca0>,\n",
       " <matplotlib.axis.XTick at 0x7048cd1d8130>,\n",
       " <matplotlib.axis.XTick at 0x7048cd1d88e0>,\n",
       " <matplotlib.axis.XTick at 0x7048cd1d82b0>,\n",
       " <matplotlib.axis.XTick at 0x7048cd1e3640>,\n",
       " <matplotlib.axis.XTick at 0x7048cd1e3e20>]"
      ]
     },
     "execution_count": 26,
     "metadata": {},
     "output_type": "execute_result"
    },
    {
     "data": {
      "text/plain": [
       "[Text(0, 0, '[CLS]'),\n",
       " Text(1, 0, 'Hu'),\n",
       " Text(2, 0, '##gging'),\n",
       " Text(3, 0, 'Face'),\n",
       " Text(4, 0, 'transform'),\n",
       " Text(5, 0, '##ers'),\n",
       " Text(6, 0, 'is'),\n",
       " Text(7, 0, 'great'),\n",
       " Text(8, 0, '!'),\n",
       " Text(9, 0, '[SEP]')]"
      ]
     },
     "execution_count": 26,
     "metadata": {},
     "output_type": "execute_result"
    },
    {
     "data": {
      "text/plain": [
       "[<matplotlib.axis.YTick at 0x7048cf01a460>,\n",
       " <matplotlib.axis.YTick at 0x7048cf013dc0>,\n",
       " <matplotlib.axis.YTick at 0x7048cf0132e0>,\n",
       " <matplotlib.axis.YTick at 0x7048cd1d8580>,\n",
       " <matplotlib.axis.YTick at 0x7048cd1edcd0>,\n",
       " <matplotlib.axis.YTick at 0x7048cd1f3970>,\n",
       " <matplotlib.axis.YTick at 0x7048cd1f31f0>,\n",
       " <matplotlib.axis.YTick at 0x7048cd1f3c10>,\n",
       " <matplotlib.axis.YTick at 0x7048cd1e3ca0>,\n",
       " <matplotlib.axis.YTick at 0x7048cd2b0040>]"
      ]
     },
     "execution_count": 26,
     "metadata": {},
     "output_type": "execute_result"
    },
    {
     "data": {
      "text/plain": [
       "[Text(0, 0, '[CLS]'),\n",
       " Text(0, 1, 'Hu'),\n",
       " Text(0, 2, '##gging'),\n",
       " Text(0, 3, 'Face'),\n",
       " Text(0, 4, 'transform'),\n",
       " Text(0, 5, '##ers'),\n",
       " Text(0, 6, 'is'),\n",
       " Text(0, 7, 'great'),\n",
       " Text(0, 8, '!'),\n",
       " Text(0, 9, '[SEP]')]"
      ]
     },
     "execution_count": 26,
     "metadata": {},
     "output_type": "execute_result"
    },
    {
     "data": {
      "text/plain": [
       "<matplotlib.image.AxesImage at 0x7048cd23e0a0>"
      ]
     },
     "execution_count": 26,
     "metadata": {},
     "output_type": "execute_result"
    },
    {
     "data": {
      "text/plain": [
       "[<matplotlib.axis.XTick at 0x7048cef34550>,\n",
       " <matplotlib.axis.XTick at 0x7048cef34520>,\n",
       " <matplotlib.axis.XTick at 0x7048cef29cd0>,\n",
       " <matplotlib.axis.XTick at 0x7048cd1fbdf0>,\n",
       " <matplotlib.axis.XTick at 0x7048cd184a90>,\n",
       " <matplotlib.axis.XTick at 0x7048cd18e3d0>,\n",
       " <matplotlib.axis.XTick at 0x7048cd18ebb0>,\n",
       " <matplotlib.axis.XTick at 0x7048cd18e640>,\n",
       " <matplotlib.axis.XTick at 0x7048cd1f33a0>,\n",
       " <matplotlib.axis.XTick at 0x7048cd195820>]"
      ]
     },
     "execution_count": 26,
     "metadata": {},
     "output_type": "execute_result"
    },
    {
     "data": {
      "text/plain": [
       "[Text(0, 0, '[CLS]'),\n",
       " Text(1, 0, 'Hu'),\n",
       " Text(2, 0, '##gging'),\n",
       " Text(3, 0, 'Face'),\n",
       " Text(4, 0, 'transform'),\n",
       " Text(5, 0, '##ers'),\n",
       " Text(6, 0, 'is'),\n",
       " Text(7, 0, 'great'),\n",
       " Text(8, 0, '!'),\n",
       " Text(9, 0, '[SEP]')]"
      ]
     },
     "execution_count": 26,
     "metadata": {},
     "output_type": "execute_result"
    },
    {
     "data": {
      "text/plain": [
       "[<matplotlib.axis.YTick at 0x7048cef3d280>,\n",
       " <matplotlib.axis.YTick at 0x7048cef34be0>,\n",
       " <matplotlib.axis.YTick at 0x7048cef34100>,\n",
       " <matplotlib.axis.YTick at 0x7048cd19fa00>,\n",
       " <matplotlib.axis.YTick at 0x7048cd1f63a0>,\n",
       " <matplotlib.axis.YTick at 0x7048cd29f430>,\n",
       " <matplotlib.axis.YTick at 0x7048cd184eb0>,\n",
       " <matplotlib.axis.YTick at 0x7048cd1f6e20>,\n",
       " <matplotlib.axis.YTick at 0x7048cd1ab640>,\n",
       " <matplotlib.axis.YTick at 0x7048cd1abe20>]"
      ]
     },
     "execution_count": 26,
     "metadata": {},
     "output_type": "execute_result"
    },
    {
     "data": {
      "text/plain": [
       "[Text(0, 0, '[CLS]'),\n",
       " Text(0, 1, 'Hu'),\n",
       " Text(0, 2, '##gging'),\n",
       " Text(0, 3, 'Face'),\n",
       " Text(0, 4, 'transform'),\n",
       " Text(0, 5, '##ers'),\n",
       " Text(0, 6, 'is'),\n",
       " Text(0, 7, 'great'),\n",
       " Text(0, 8, '!'),\n",
       " Text(0, 9, '[SEP]')]"
      ]
     },
     "execution_count": 26,
     "metadata": {},
     "output_type": "execute_result"
    },
    {
     "data": {
      "text/plain": [
       "<matplotlib.image.AxesImage at 0x7048cd184430>"
      ]
     },
     "execution_count": 26,
     "metadata": {},
     "output_type": "execute_result"
    },
    {
     "data": {
      "text/plain": [
       "[<matplotlib.axis.XTick at 0x7048cef66fd0>,\n",
       " <matplotlib.axis.XTick at 0x7048cef66fa0>,\n",
       " <matplotlib.axis.XTick at 0x7048cf15b790>,\n",
       " <matplotlib.axis.XTick at 0x7048cd1b36d0>,\n",
       " <matplotlib.axis.XTick at 0x7048cd1ba250>,\n",
       " <matplotlib.axis.XTick at 0x7048cd1bab50>,\n",
       " <matplotlib.axis.XTick at 0x7048cd1ba8e0>,\n",
       " <matplotlib.axis.XTick at 0x7048cd1bad00>,\n",
       " <matplotlib.axis.XTick at 0x7048cd1ba550>,\n",
       " <matplotlib.axis.XTick at 0x7048cd141f10>]"
      ]
     },
     "execution_count": 26,
     "metadata": {},
     "output_type": "execute_result"
    },
    {
     "data": {
      "text/plain": [
       "[Text(0, 0, '[CLS]'),\n",
       " Text(1, 0, 'Hu'),\n",
       " Text(2, 0, '##gging'),\n",
       " Text(3, 0, 'Face'),\n",
       " Text(4, 0, 'transform'),\n",
       " Text(5, 0, '##ers'),\n",
       " Text(6, 0, 'is'),\n",
       " Text(7, 0, 'great'),\n",
       " Text(8, 0, '!'),\n",
       " Text(9, 0, '[SEP]')]"
      ]
     },
     "execution_count": 26,
     "metadata": {},
     "output_type": "execute_result"
    },
    {
     "data": {
      "text/plain": [
       "[<matplotlib.axis.YTick at 0x7048ceef0d00>,\n",
       " <matplotlib.axis.YTick at 0x7048ceef06a0>,\n",
       " <matplotlib.axis.YTick at 0x7048cef66dc0>,\n",
       " <matplotlib.axis.YTick at 0x7048cd14a100>,\n",
       " <matplotlib.axis.YTick at 0x7048cd151220>,\n",
       " <matplotlib.axis.YTick at 0x7048cd151b20>,\n",
       " <matplotlib.axis.YTick at 0x7048cd158430>,\n",
       " <matplotlib.axis.YTick at 0x7048cd151310>,\n",
       " <matplotlib.axis.YTick at 0x7048cd14a9a0>,\n",
       " <matplotlib.axis.YTick at 0x7048cd158be0>]"
      ]
     },
     "execution_count": 26,
     "metadata": {},
     "output_type": "execute_result"
    },
    {
     "data": {
      "text/plain": [
       "[Text(0, 0, '[CLS]'),\n",
       " Text(0, 1, 'Hu'),\n",
       " Text(0, 2, '##gging'),\n",
       " Text(0, 3, 'Face'),\n",
       " Text(0, 4, 'transform'),\n",
       " Text(0, 5, '##ers'),\n",
       " Text(0, 6, 'is'),\n",
       " Text(0, 7, 'great'),\n",
       " Text(0, 8, '!'),\n",
       " Text(0, 9, '[SEP]')]"
      ]
     },
     "execution_count": 26,
     "metadata": {},
     "output_type": "execute_result"
    },
    {
     "data": {
      "text/plain": [
       "<matplotlib.image.AxesImage at 0x7048cd162610>"
      ]
     },
     "execution_count": 26,
     "metadata": {},
     "output_type": "execute_result"
    },
    {
     "data": {
      "text/plain": [
       "[<matplotlib.axis.XTick at 0x7048cef22e20>,\n",
       " <matplotlib.axis.XTick at 0x7048cef22df0>,\n",
       " <matplotlib.axis.XTick at 0x7048cef22640>,\n",
       " <matplotlib.axis.XTick at 0x7048cd164250>,\n",
       " <matplotlib.axis.XTick at 0x7048cd162e50>,\n",
       " <matplotlib.axis.XTick at 0x7048cd1621f0>,\n",
       " <matplotlib.axis.XTick at 0x7048cd170340>,\n",
       " <matplotlib.axis.XTick at 0x7048cd170b20>,\n",
       " <matplotlib.axis.XTick at 0x7048cd178340>,\n",
       " <matplotlib.axis.XTick at 0x7048cd170970>]"
      ]
     },
     "execution_count": 26,
     "metadata": {},
     "output_type": "execute_result"
    },
    {
     "data": {
      "text/plain": [
       "[Text(0, 0, '[CLS]'),\n",
       " Text(1, 0, 'Hu'),\n",
       " Text(2, 0, '##gging'),\n",
       " Text(3, 0, 'Face'),\n",
       " Text(4, 0, 'transform'),\n",
       " Text(5, 0, '##ers'),\n",
       " Text(6, 0, 'is'),\n",
       " Text(7, 0, 'great'),\n",
       " Text(8, 0, '!'),\n",
       " Text(9, 0, '[SEP]')]"
      ]
     },
     "execution_count": 26,
     "metadata": {},
     "output_type": "execute_result"
    },
    {
     "data": {
      "text/plain": [
       "[<matplotlib.axis.YTick at 0x7048ceeabb50>,\n",
       " <matplotlib.axis.YTick at 0x7048ceeab4f0>,\n",
       " <matplotlib.axis.YTick at 0x7048cef229d0>,\n",
       " <matplotlib.axis.YTick at 0x7048cd178f40>,\n",
       " <matplotlib.axis.YTick at 0x7048cd17fac0>,\n",
       " <matplotlib.axis.YTick at 0x7048cd17ff70>,\n",
       " <matplotlib.axis.YTick at 0x7048cd106a90>,\n",
       " <matplotlib.axis.YTick at 0x7048cd17f6a0>,\n",
       " <matplotlib.axis.YTick at 0x7048cd1060a0>,\n",
       " <matplotlib.axis.YTick at 0x7048cd10f460>]"
      ]
     },
     "execution_count": 26,
     "metadata": {},
     "output_type": "execute_result"
    },
    {
     "data": {
      "text/plain": [
       "[Text(0, 0, '[CLS]'),\n",
       " Text(0, 1, 'Hu'),\n",
       " Text(0, 2, '##gging'),\n",
       " Text(0, 3, 'Face'),\n",
       " Text(0, 4, 'transform'),\n",
       " Text(0, 5, '##ers'),\n",
       " Text(0, 6, 'is'),\n",
       " Text(0, 7, 'great'),\n",
       " Text(0, 8, '!'),\n",
       " Text(0, 9, '[SEP]')]"
      ]
     },
     "execution_count": 26,
     "metadata": {},
     "output_type": "execute_result"
    },
    {
     "data": {
      "text/plain": [
       "<matplotlib.image.AxesImage at 0x7048cef22610>"
      ]
     },
     "execution_count": 26,
     "metadata": {},
     "output_type": "execute_result"
    },
    {
     "data": {
      "text/plain": [
       "[<matplotlib.axis.XTick at 0x7048ceeddc40>,\n",
       " <matplotlib.axis.XTick at 0x7048ceeddc10>,\n",
       " <matplotlib.axis.XTick at 0x7048ceedd460>,\n",
       " <matplotlib.axis.XTick at 0x7048cd10ffd0>,\n",
       " <matplotlib.axis.XTick at 0x7048cd115ac0>,\n",
       " <matplotlib.axis.XTick at 0x7048cd11b430>,\n",
       " <matplotlib.axis.XTick at 0x7048cd11bc10>,\n",
       " <matplotlib.axis.XTick at 0x7048cd115340>,\n",
       " <matplotlib.axis.XTick at 0x7048cd164970>,\n",
       " <matplotlib.axis.XTick at 0x7048cd11b160>]"
      ]
     },
     "execution_count": 26,
     "metadata": {},
     "output_type": "execute_result"
    },
    {
     "data": {
      "text/plain": [
       "[Text(0, 0, '[CLS]'),\n",
       " Text(1, 0, 'Hu'),\n",
       " Text(2, 0, '##gging'),\n",
       " Text(3, 0, 'Face'),\n",
       " Text(4, 0, 'transform'),\n",
       " Text(5, 0, '##ers'),\n",
       " Text(6, 0, 'is'),\n",
       " Text(7, 0, 'great'),\n",
       " Text(8, 0, '!'),\n",
       " Text(9, 0, '[SEP]')]"
      ]
     },
     "execution_count": 26,
     "metadata": {},
     "output_type": "execute_result"
    },
    {
     "data": {
      "text/plain": [
       "[<matplotlib.axis.YTick at 0x7048cee67970>,\n",
       " <matplotlib.axis.YTick at 0x7048cee67310>,\n",
       " <matplotlib.axis.YTick at 0x7048ceedd7f0>,\n",
       " <matplotlib.axis.YTick at 0x7048cd129dc0>,\n",
       " <matplotlib.axis.YTick at 0x7048cd129280>,\n",
       " <matplotlib.axis.YTick at 0x7048cd106be0>,\n",
       " <matplotlib.axis.YTick at 0x7048cd12eee0>,\n",
       " <matplotlib.axis.YTick at 0x7048cd137700>,\n",
       " <matplotlib.axis.YTick at 0x7048cd137ee0>,\n",
       " <matplotlib.axis.YTick at 0x7048cd1379a0>]"
      ]
     },
     "execution_count": 26,
     "metadata": {},
     "output_type": "execute_result"
    },
    {
     "data": {
      "text/plain": [
       "[Text(0, 0, '[CLS]'),\n",
       " Text(0, 1, 'Hu'),\n",
       " Text(0, 2, '##gging'),\n",
       " Text(0, 3, 'Face'),\n",
       " Text(0, 4, 'transform'),\n",
       " Text(0, 5, '##ers'),\n",
       " Text(0, 6, 'is'),\n",
       " Text(0, 7, 'great'),\n",
       " Text(0, 8, '!'),\n",
       " Text(0, 9, '[SEP]')]"
      ]
     },
     "execution_count": 26,
     "metadata": {},
     "output_type": "execute_result"
    },
    {
     "data": {
      "text/plain": [
       "<matplotlib.image.AxesImage at 0x7048cd12ed60>"
      ]
     },
     "execution_count": 26,
     "metadata": {},
     "output_type": "execute_result"
    },
    {
     "data": {
      "text/plain": [
       "[<matplotlib.axis.XTick at 0x7048cee98940>,\n",
       " <matplotlib.axis.XTick at 0x7048cee98910>,\n",
       " <matplotlib.axis.XTick at 0x7048cee98160>,\n",
       " <matplotlib.axis.XTick at 0x7048cd13efd0>,\n",
       " <matplotlib.axis.XTick at 0x7048cd0c5ac0>,\n",
       " <matplotlib.axis.XTick at 0x7048cd0c5a60>,\n",
       " <matplotlib.axis.XTick at 0x7048cd0c5280>,\n",
       " <matplotlib.axis.XTick at 0x7048cd0cd9d0>,\n",
       " <matplotlib.axis.XTick at 0x7048cd13ebb0>,\n",
       " <matplotlib.axis.XTick at 0x7048cd0d59d0>]"
      ]
     },
     "execution_count": 26,
     "metadata": {},
     "output_type": "execute_result"
    },
    {
     "data": {
      "text/plain": [
       "[Text(0, 0, '[CLS]'),\n",
       " Text(1, 0, 'Hu'),\n",
       " Text(2, 0, '##gging'),\n",
       " Text(3, 0, 'Face'),\n",
       " Text(4, 0, 'transform'),\n",
       " Text(5, 0, '##ers'),\n",
       " Text(6, 0, 'is'),\n",
       " Text(7, 0, 'great'),\n",
       " Text(8, 0, '!'),\n",
       " Text(9, 0, '[SEP]')]"
      ]
     },
     "execution_count": 26,
     "metadata": {},
     "output_type": "execute_result"
    },
    {
     "data": {
      "text/plain": [
       "[<matplotlib.axis.YTick at 0x7048ceea2670>,\n",
       " <matplotlib.axis.YTick at 0x7048cee98fd0>,\n",
       " <matplotlib.axis.YTick at 0x7048cee984f0>,\n",
       " <matplotlib.axis.YTick at 0x7048cd1372b0>,\n",
       " <matplotlib.axis.YTick at 0x7048cd0dc8b0>,\n",
       " <matplotlib.axis.YTick at 0x7048cd0dcf10>,\n",
       " <matplotlib.axis.YTick at 0x7048cd0e2ac0>,\n",
       " <matplotlib.axis.YTick at 0x7048cd0e2880>,\n",
       " <matplotlib.axis.YTick at 0x7048cd0e2b80>,\n",
       " <matplotlib.axis.YTick at 0x7048cd0e2d30>]"
      ]
     },
     "execution_count": 26,
     "metadata": {},
     "output_type": "execute_result"
    },
    {
     "data": {
      "text/plain": [
       "[Text(0, 0, '[CLS]'),\n",
       " Text(0, 1, 'Hu'),\n",
       " Text(0, 2, '##gging'),\n",
       " Text(0, 3, 'Face'),\n",
       " Text(0, 4, 'transform'),\n",
       " Text(0, 5, '##ers'),\n",
       " Text(0, 6, 'is'),\n",
       " Text(0, 7, 'great'),\n",
       " Text(0, 8, '!'),\n",
       " Text(0, 9, '[SEP]')]"
      ]
     },
     "execution_count": 26,
     "metadata": {},
     "output_type": "execute_result"
    },
    {
     "data": {
      "text/plain": [
       "<matplotlib.image.AxesImage at 0x7048cd0ece50>"
      ]
     },
     "execution_count": 26,
     "metadata": {},
     "output_type": "execute_result"
    },
    {
     "data": {
      "text/plain": [
       "[<matplotlib.axis.XTick at 0x7048cebee460>,\n",
       " <matplotlib.axis.XTick at 0x7048cebee430>,\n",
       " <matplotlib.axis.XTick at 0x7048cebe0be0>,\n",
       " <matplotlib.axis.XTick at 0x7048cd0f7b50>,\n",
       " <matplotlib.axis.XTick at 0x7048cd0ec280>,\n",
       " <matplotlib.axis.XTick at 0x7048cd0ec1c0>,\n",
       " <matplotlib.axis.XTick at 0x7048cd0f4a90>,\n",
       " <matplotlib.axis.XTick at 0x7048cd0f4f70>,\n",
       " <matplotlib.axis.XTick at 0x7048cd082a90>,\n",
       " <matplotlib.axis.XTick at 0x7048cd082730>]"
      ]
     },
     "execution_count": 26,
     "metadata": {},
     "output_type": "execute_result"
    },
    {
     "data": {
      "text/plain": [
       "[Text(0, 0, '[CLS]'),\n",
       " Text(1, 0, 'Hu'),\n",
       " Text(2, 0, '##gging'),\n",
       " Text(3, 0, 'Face'),\n",
       " Text(4, 0, 'transform'),\n",
       " Text(5, 0, '##ers'),\n",
       " Text(6, 0, 'is'),\n",
       " Text(7, 0, 'great'),\n",
       " Text(8, 0, '!'),\n",
       " Text(9, 0, '[SEP]')]"
      ]
     },
     "execution_count": 26,
     "metadata": {},
     "output_type": "execute_result"
    },
    {
     "data": {
      "text/plain": [
       "[<matplotlib.axis.YTick at 0x7048cebf8190>,\n",
       " <matplotlib.axis.YTick at 0x7048cebeeaf0>,\n",
       " <matplotlib.axis.YTick at 0x7048cebe0f70>,\n",
       " <matplotlib.axis.YTick at 0x7048cd0877f0>,\n",
       " <matplotlib.axis.YTick at 0x7048cd0942e0>,\n",
       " <matplotlib.axis.YTick at 0x7048cd094c10>,\n",
       " <matplotlib.axis.YTick at 0x7048cd094970>,\n",
       " <matplotlib.axis.YTick at 0x7048cd0f46d0>,\n",
       " <matplotlib.axis.YTick at 0x7048cd097790>,\n",
       " <matplotlib.axis.YTick at 0x7048cd097f70>]"
      ]
     },
     "execution_count": 26,
     "metadata": {},
     "output_type": "execute_result"
    },
    {
     "data": {
      "text/plain": [
       "[Text(0, 0, '[CLS]'),\n",
       " Text(0, 1, 'Hu'),\n",
       " Text(0, 2, '##gging'),\n",
       " Text(0, 3, 'Face'),\n",
       " Text(0, 4, 'transform'),\n",
       " Text(0, 5, '##ers'),\n",
       " Text(0, 6, 'is'),\n",
       " Text(0, 7, 'great'),\n",
       " Text(0, 8, '!'),\n",
       " Text(0, 9, '[SEP]')]"
      ]
     },
     "execution_count": 26,
     "metadata": {},
     "output_type": "execute_result"
    },
    {
     "data": {
      "text/plain": [
       "<matplotlib.image.AxesImage at 0x7048cd082130>"
      ]
     },
     "execution_count": 26,
     "metadata": {},
     "output_type": "execute_result"
    },
    {
     "data": {
      "text/plain": [
       "[<matplotlib.axis.XTick at 0x7048ceba81f0>,\n",
       " <matplotlib.axis.XTick at 0x7048ceba81c0>,\n",
       " <matplotlib.axis.XTick at 0x7048ceba09d0>,\n",
       " <matplotlib.axis.XTick at 0x7048cd0a29a0>,\n",
       " <matplotlib.axis.XTick at 0x7048cd0a8490>,\n",
       " <matplotlib.axis.XTick at 0x7048cd0a8d90>,\n",
       " <matplotlib.axis.XTick at 0x7048cd0b05b0>,\n",
       " <matplotlib.axis.XTick at 0x7048cd0a8040>,\n",
       " <matplotlib.axis.XTick at 0x7048cd0b0b80>,\n",
       " <matplotlib.axis.XTick at 0x7048cd0b8340>]"
      ]
     },
     "execution_count": 26,
     "metadata": {},
     "output_type": "execute_result"
    },
    {
     "data": {
      "text/plain": [
       "[Text(0, 0, '[CLS]'),\n",
       " Text(1, 0, 'Hu'),\n",
       " Text(2, 0, '##gging'),\n",
       " Text(3, 0, 'Face'),\n",
       " Text(4, 0, 'transform'),\n",
       " Text(5, 0, '##ers'),\n",
       " Text(6, 0, 'is'),\n",
       " Text(7, 0, 'great'),\n",
       " Text(8, 0, '!'),\n",
       " Text(9, 0, '[SEP]')]"
      ]
     },
     "execution_count": 26,
     "metadata": {},
     "output_type": "execute_result"
    },
    {
     "data": {
      "text/plain": [
       "[<matplotlib.axis.YTick at 0x7048ceba8970>,\n",
       " <matplotlib.axis.YTick at 0x7048ceba8880>,\n",
       " <matplotlib.axis.YTick at 0x7048ceba0d60>,\n",
       " <matplotlib.axis.YTick at 0x7048cd0b80a0>,\n",
       " <matplotlib.axis.YTick at 0x7048cd0435b0>,\n",
       " <matplotlib.axis.YTick at 0x7048cd043eb0>,\n",
       " <matplotlib.axis.YTick at 0x7048cd045820>,\n",
       " <matplotlib.axis.YTick at 0x7048cd0437f0>,\n",
       " <matplotlib.axis.YTick at 0x7048cd0b0eb0>,\n",
       " <matplotlib.axis.YTick at 0x7048cd043220>]"
      ]
     },
     "execution_count": 26,
     "metadata": {},
     "output_type": "execute_result"
    },
    {
     "data": {
      "text/plain": [
       "[Text(0, 0, '[CLS]'),\n",
       " Text(0, 1, 'Hu'),\n",
       " Text(0, 2, '##gging'),\n",
       " Text(0, 3, 'Face'),\n",
       " Text(0, 4, 'transform'),\n",
       " Text(0, 5, '##ers'),\n",
       " Text(0, 6, 'is'),\n",
       " Text(0, 7, 'great'),\n",
       " Text(0, 8, '!'),\n",
       " Text(0, 9, '[SEP]')]"
      ]
     },
     "execution_count": 26,
     "metadata": {},
     "output_type": "execute_result"
    },
    {
     "data": {
      "text/plain": [
       "[Text(0, 0.5, 'layer=2')]"
      ]
     },
     "execution_count": 26,
     "metadata": {},
     "output_type": "execute_result"
    },
    {
     "data": {
      "text/plain": [
       "<matplotlib.image.AxesImage at 0x7048cd045130>"
      ]
     },
     "execution_count": 26,
     "metadata": {},
     "output_type": "execute_result"
    },
    {
     "data": {
      "text/plain": [
       "[<matplotlib.axis.XTick at 0x7048ceb5ef40>,\n",
       " <matplotlib.axis.XTick at 0x7048ceb5ef10>,\n",
       " <matplotlib.axis.XTick at 0x7048ceb5e760>,\n",
       " <matplotlib.axis.XTick at 0x7048cd057a60>,\n",
       " <matplotlib.axis.XTick at 0x7048cd0f7d60>,\n",
       " <matplotlib.axis.XTick at 0x7048cd0ecd00>,\n",
       " <matplotlib.axis.XTick at 0x7048cd056c10>,\n",
       " <matplotlib.axis.XTick at 0x7048cd060430>,\n",
       " <matplotlib.axis.XTick at 0x7048cd060c10>,\n",
       " <matplotlib.axis.XTick at 0x7048cd0602b0>]"
      ]
     },
     "execution_count": 26,
     "metadata": {},
     "output_type": "execute_result"
    },
    {
     "data": {
      "text/plain": [
       "[Text(0, 0, '[CLS]'),\n",
       " Text(1, 0, 'Hu'),\n",
       " Text(2, 0, '##gging'),\n",
       " Text(3, 0, 'Face'),\n",
       " Text(4, 0, 'transform'),\n",
       " Text(5, 0, '##ers'),\n",
       " Text(6, 0, 'is'),\n",
       " Text(7, 0, 'great'),\n",
       " Text(8, 0, '!'),\n",
       " Text(9, 0, '[SEP]')]"
      ]
     },
     "execution_count": 26,
     "metadata": {},
     "output_type": "execute_result"
    },
    {
     "data": {
      "text/plain": [
       "[<matplotlib.axis.YTick at 0x7048ceb65b50>,\n",
       " <matplotlib.axis.YTick at 0x7048ceb65610>,\n",
       " <matplotlib.axis.YTick at 0x7048ceb5eaf0>,\n",
       " <matplotlib.axis.YTick at 0x7048cd0688e0>,\n",
       " <matplotlib.axis.YTick at 0x7048cd06a3d0>,\n",
       " <matplotlib.axis.YTick at 0x7048cd06acd0>,\n",
       " <matplotlib.axis.YTick at 0x7048cd06ad00>,\n",
       " <matplotlib.axis.YTick at 0x7048cd0681c0>,\n",
       " <matplotlib.axis.YTick at 0x7048cd060790>,\n",
       " <matplotlib.axis.YTick at 0x7048cd076c70>]"
      ]
     },
     "execution_count": 26,
     "metadata": {},
     "output_type": "execute_result"
    },
    {
     "data": {
      "text/plain": [
       "[Text(0, 0, '[CLS]'),\n",
       " Text(0, 1, 'Hu'),\n",
       " Text(0, 2, '##gging'),\n",
       " Text(0, 3, 'Face'),\n",
       " Text(0, 4, 'transform'),\n",
       " Text(0, 5, '##ers'),\n",
       " Text(0, 6, 'is'),\n",
       " Text(0, 7, 'great'),\n",
       " Text(0, 8, '!'),\n",
       " Text(0, 9, '[SEP]')]"
      ]
     },
     "execution_count": 26,
     "metadata": {},
     "output_type": "execute_result"
    },
    {
     "data": {
      "text/plain": [
       "<matplotlib.image.AxesImage at 0x7048cd057610>"
      ]
     },
     "execution_count": 26,
     "metadata": {},
     "output_type": "execute_result"
    },
    {
     "data": {
      "text/plain": [
       "[<matplotlib.axis.XTick at 0x7048cead7d60>,\n",
       " <matplotlib.axis.XTick at 0x7048cead7d30>,\n",
       " <matplotlib.axis.XTick at 0x7048cead7580>,\n",
       " <matplotlib.axis.XTick at 0x7048cd07f760>,\n",
       " <matplotlib.axis.XTick at 0x7048ccdcb250>,\n",
       " <matplotlib.axis.XTick at 0x7048ccdcbbe0>,\n",
       " <matplotlib.axis.XTick at 0x7048ccdce490>,\n",
       " <matplotlib.axis.XTick at 0x7048ccdcbd90>,\n",
       " <matplotlib.axis.XTick at 0x7048ccdce910>,\n",
       " <matplotlib.axis.XTick at 0x7048cd07fbb0>]"
      ]
     },
     "execution_count": 26,
     "metadata": {},
     "output_type": "execute_result"
    },
    {
     "data": {
      "text/plain": [
       "[Text(0, 0, '[CLS]'),\n",
       " Text(1, 0, 'Hu'),\n",
       " Text(2, 0, '##gging'),\n",
       " Text(3, 0, 'Face'),\n",
       " Text(4, 0, 'transform'),\n",
       " Text(5, 0, '##ers'),\n",
       " Text(6, 0, 'is'),\n",
       " Text(7, 0, 'great'),\n",
       " Text(8, 0, '!'),\n",
       " Text(9, 0, '[SEP]')]"
      ]
     },
     "execution_count": 26,
     "metadata": {},
     "output_type": "execute_result"
    },
    {
     "data": {
      "text/plain": [
       "[<matplotlib.axis.YTick at 0x7048ceae0970>,\n",
       " <matplotlib.axis.YTick at 0x7048cead7fa0>,\n",
       " <matplotlib.axis.YTick at 0x7048cead7910>,\n",
       " <matplotlib.axis.YTick at 0x7048ccdcea90>,\n",
       " <matplotlib.axis.YTick at 0x7048ccdde3a0>,\n",
       " <matplotlib.axis.YTick at 0x7048ccdde490>,\n",
       " <matplotlib.axis.YTick at 0x7048ccde5580>,\n",
       " <matplotlib.axis.YTick at 0x7048ccdde790>,\n",
       " <matplotlib.axis.YTick at 0x7048cd0608b0>,\n",
       " <matplotlib.axis.YTick at 0x7048ccde5e80>]"
      ]
     },
     "execution_count": 26,
     "metadata": {},
     "output_type": "execute_result"
    },
    {
     "data": {
      "text/plain": [
       "[Text(0, 0, '[CLS]'),\n",
       " Text(0, 1, 'Hu'),\n",
       " Text(0, 2, '##gging'),\n",
       " Text(0, 3, 'Face'),\n",
       " Text(0, 4, 'transform'),\n",
       " Text(0, 5, '##ers'),\n",
       " Text(0, 6, 'is'),\n",
       " Text(0, 7, 'great'),\n",
       " Text(0, 8, '!'),\n",
       " Text(0, 9, '[SEP]')]"
      ]
     },
     "execution_count": 26,
     "metadata": {},
     "output_type": "execute_result"
    },
    {
     "data": {
      "text/plain": [
       "<matplotlib.image.AxesImage at 0x7048ccdee8b0>"
      ]
     },
     "execution_count": 26,
     "metadata": {},
     "output_type": "execute_result"
    },
    {
     "data": {
      "text/plain": [
       "[<matplotlib.axis.XTick at 0x7048cea53820>,\n",
       " <matplotlib.axis.XTick at 0x7048cea537f0>,\n",
       " <matplotlib.axis.XTick at 0x7048cea43fd0>,\n",
       " <matplotlib.axis.XTick at 0x7048ccdf54f0>,\n",
       " <matplotlib.axis.XTick at 0x7048ccdee400>,\n",
       " <matplotlib.axis.XTick at 0x7048ccde5be0>,\n",
       " <matplotlib.axis.XTick at 0x7048ccdfe6a0>,\n",
       " <matplotlib.axis.XTick at 0x7048ccdfee80>,\n",
       " <matplotlib.axis.XTick at 0x7048ccd846a0>,\n",
       " <matplotlib.axis.XTick at 0x7048ccdfe4f0>]"
      ]
     },
     "execution_count": 26,
     "metadata": {},
     "output_type": "execute_result"
    },
    {
     "data": {
      "text/plain": [
       "[Text(0, 0, '[CLS]'),\n",
       " Text(1, 0, 'Hu'),\n",
       " Text(2, 0, '##gging'),\n",
       " Text(3, 0, 'Face'),\n",
       " Text(4, 0, 'transform'),\n",
       " Text(5, 0, '##ers'),\n",
       " Text(6, 0, 'is'),\n",
       " Text(7, 0, 'great'),\n",
       " Text(8, 0, '!'),\n",
       " Text(9, 0, '[SEP]')]"
      ]
     },
     "execution_count": 26,
     "metadata": {},
     "output_type": "execute_result"
    },
    {
     "data": {
      "text/plain": [
       "[<matplotlib.axis.YTick at 0x7048cea5c550>,\n",
       " <matplotlib.axis.YTick at 0x7048cea53eb0>,\n",
       " <matplotlib.axis.YTick at 0x7048cea533d0>,\n",
       " <matplotlib.axis.YTick at 0x7048ccd8d370>,\n",
       " <matplotlib.axis.YTick at 0x7048ccd8de50>,\n",
       " <matplotlib.axis.YTick at 0x7048ccd8df40>,\n",
       " <matplotlib.axis.YTick at 0x7048ccd8d5b0>,\n",
       " <matplotlib.axis.YTick at 0x7048ccdfe070>,\n",
       " <matplotlib.axis.YTick at 0x7048ccd92100>,\n",
       " <matplotlib.axis.YTick at 0x7048ccd9a8b0>]"
      ]
     },
     "execution_count": 26,
     "metadata": {},
     "output_type": "execute_result"
    },
    {
     "data": {
      "text/plain": [
       "[Text(0, 0, '[CLS]'),\n",
       " Text(0, 1, 'Hu'),\n",
       " Text(0, 2, '##gging'),\n",
       " Text(0, 3, 'Face'),\n",
       " Text(0, 4, 'transform'),\n",
       " Text(0, 5, '##ers'),\n",
       " Text(0, 6, 'is'),\n",
       " Text(0, 7, 'great'),\n",
       " Text(0, 8, '!'),\n",
       " Text(0, 9, '[SEP]')]"
      ]
     },
     "execution_count": 26,
     "metadata": {},
     "output_type": "execute_result"
    },
    {
     "data": {
      "text/plain": [
       "<matplotlib.image.AxesImage at 0x7048ccd923d0>"
      ]
     },
     "execution_count": 26,
     "metadata": {},
     "output_type": "execute_result"
    },
    {
     "data": {
      "text/plain": [
       "[<matplotlib.axis.XTick at 0x7048cea0e640>,\n",
       " <matplotlib.axis.XTick at 0x7048cea0e610>,\n",
       " <matplotlib.axis.XTick at 0x7048cea02dc0>,\n",
       " <matplotlib.axis.XTick at 0x7048ccda33a0>,\n",
       " <matplotlib.axis.XTick at 0x7048ccda3e80>,\n",
       " <matplotlib.axis.XTick at 0x7048ccda3f70>,\n",
       " <matplotlib.axis.XTick at 0x7048ccdad790>,\n",
       " <matplotlib.axis.XTick at 0x7048ccdad100>,\n",
       " <matplotlib.axis.XTick at 0x7048ccd92b80>,\n",
       " <matplotlib.axis.XTick at 0x7048ccdada30>]"
      ]
     },
     "execution_count": 26,
     "metadata": {},
     "output_type": "execute_result"
    },
    {
     "data": {
      "text/plain": [
       "[Text(0, 0, '[CLS]'),\n",
       " Text(1, 0, 'Hu'),\n",
       " Text(2, 0, '##gging'),\n",
       " Text(3, 0, 'Face'),\n",
       " Text(4, 0, 'transform'),\n",
       " Text(5, 0, '##ers'),\n",
       " Text(6, 0, 'is'),\n",
       " Text(7, 0, 'great'),\n",
       " Text(8, 0, '!'),\n",
       " Text(9, 0, '[SEP]')]"
      ]
     },
     "execution_count": 26,
     "metadata": {},
     "output_type": "execute_result"
    },
    {
     "data": {
      "text/plain": [
       "[<matplotlib.axis.YTick at 0x7048cea16340>,\n",
       " <matplotlib.axis.YTick at 0x7048cea0eca0>,\n",
       " <matplotlib.axis.YTick at 0x7048cea0e1f0>,\n",
       " <matplotlib.axis.YTick at 0x7048ccdb9310>,\n",
       " <matplotlib.axis.YTick at 0x7048ccdab370>,\n",
       " <matplotlib.axis.YTick at 0x7048ccdab5e0>,\n",
       " <matplotlib.axis.YTick at 0x7048ccdb98e0>,\n",
       " <matplotlib.axis.YTick at 0x7048ccdb9550>,\n",
       " <matplotlib.axis.YTick at 0x7048ccd44fd0>,\n",
       " <matplotlib.axis.YTick at 0x7048ccd44a60>]"
      ]
     },
     "execution_count": 26,
     "metadata": {},
     "output_type": "execute_result"
    },
    {
     "data": {
      "text/plain": [
       "[Text(0, 0, '[CLS]'),\n",
       " Text(0, 1, 'Hu'),\n",
       " Text(0, 2, '##gging'),\n",
       " Text(0, 3, 'Face'),\n",
       " Text(0, 4, 'transform'),\n",
       " Text(0, 5, '##ers'),\n",
       " Text(0, 6, 'is'),\n",
       " Text(0, 7, 'great'),\n",
       " Text(0, 8, '!'),\n",
       " Text(0, 9, '[SEP]')]"
      ]
     },
     "execution_count": 26,
     "metadata": {},
     "output_type": "execute_result"
    },
    {
     "data": {
      "text/plain": [
       "<matplotlib.image.AxesImage at 0x7048ccd49580>"
      ]
     },
     "execution_count": 26,
     "metadata": {},
     "output_type": "execute_result"
    },
    {
     "data": {
      "text/plain": [
       "[<matplotlib.axis.XTick at 0x7048ce9ca310>,\n",
       " <matplotlib.axis.XTick at 0x7048ce9ca2e0>,\n",
       " <matplotlib.axis.XTick at 0x7048ce9c0af0>,\n",
       " <matplotlib.axis.XTick at 0x7048ccd49e20>,\n",
       " <matplotlib.axis.XTick at 0x7048ccd4fd00>,\n",
       " <matplotlib.axis.XTick at 0x7048ccd4fdf0>,\n",
       " <matplotlib.axis.XTick at 0x7048ccd49a90>,\n",
       " <matplotlib.axis.XTick at 0x7048ccd5bbb0>,\n",
       " <matplotlib.axis.XTick at 0x7048ccd623d0>,\n",
       " <matplotlib.axis.XTick at 0x7048ccd62b50>]"
      ]
     },
     "execution_count": 26,
     "metadata": {},
     "output_type": "execute_result"
    },
    {
     "data": {
      "text/plain": [
       "[Text(0, 0, '[CLS]'),\n",
       " Text(1, 0, 'Hu'),\n",
       " Text(2, 0, '##gging'),\n",
       " Text(3, 0, 'Face'),\n",
       " Text(4, 0, 'transform'),\n",
       " Text(5, 0, '##ers'),\n",
       " Text(6, 0, 'is'),\n",
       " Text(7, 0, 'great'),\n",
       " Text(8, 0, '!'),\n",
       " Text(9, 0, '[SEP]')]"
      ]
     },
     "execution_count": 26,
     "metadata": {},
     "output_type": "execute_result"
    },
    {
     "data": {
      "text/plain": [
       "[<matplotlib.axis.YTick at 0x7048ce9d1040>,\n",
       " <matplotlib.axis.YTick at 0x7048ce9ca9a0>,\n",
       " <matplotlib.axis.YTick at 0x7048ce9c0e20>,\n",
       " <matplotlib.axis.YTick at 0x7048ccd5b070>,\n",
       " <matplotlib.axis.YTick at 0x7048ccd6aa60>,\n",
       " <matplotlib.axis.YTick at 0x7048ccd6aa00>,\n",
       " <matplotlib.axis.YTick at 0x7048ccd6fc70>,\n",
       " <matplotlib.axis.YTick at 0x7048ccd6fa60>,\n",
       " <matplotlib.axis.YTick at 0x7048ccd6a160>,\n",
       " <matplotlib.axis.YTick at 0x7048ccd78610>]"
      ]
     },
     "execution_count": 26,
     "metadata": {},
     "output_type": "execute_result"
    },
    {
     "data": {
      "text/plain": [
       "[Text(0, 0, '[CLS]'),\n",
       " Text(0, 1, 'Hu'),\n",
       " Text(0, 2, '##gging'),\n",
       " Text(0, 3, 'Face'),\n",
       " Text(0, 4, 'transform'),\n",
       " Text(0, 5, '##ers'),\n",
       " Text(0, 6, 'is'),\n",
       " Text(0, 7, 'great'),\n",
       " Text(0, 8, '!'),\n",
       " Text(0, 9, '[SEP]')]"
      ]
     },
     "execution_count": 26,
     "metadata": {},
     "output_type": "execute_result"
    },
    {
     "data": {
      "text/plain": [
       "<matplotlib.image.AxesImage at 0x7048ccd78f70>"
      ]
     },
     "execution_count": 26,
     "metadata": {},
     "output_type": "execute_result"
    },
    {
     "data": {
      "text/plain": [
       "[<matplotlib.axis.XTick at 0x7048ce905130>,\n",
       " <matplotlib.axis.XTick at 0x7048ce905100>,\n",
       " <matplotlib.axis.XTick at 0x7048ce9fb910>,\n",
       " <matplotlib.axis.XTick at 0x7048ccd07c40>,\n",
       " <matplotlib.axis.XTick at 0x7048ccd78370>,\n",
       " <matplotlib.axis.XTick at 0x7048ccd07dc0>,\n",
       " <matplotlib.axis.XTick at 0x7048ccd03c10>,\n",
       " <matplotlib.axis.XTick at 0x7048ccd11430>,\n",
       " <matplotlib.axis.XTick at 0x7048ccd11c10>,\n",
       " <matplotlib.axis.XTick at 0x7048ccd11a00>]"
      ]
     },
     "execution_count": 26,
     "metadata": {},
     "output_type": "execute_result"
    },
    {
     "data": {
      "text/plain": [
       "[Text(0, 0, '[CLS]'),\n",
       " Text(1, 0, 'Hu'),\n",
       " Text(2, 0, '##gging'),\n",
       " Text(3, 0, 'Face'),\n",
       " Text(4, 0, 'transform'),\n",
       " Text(5, 0, '##ers'),\n",
       " Text(6, 0, 'is'),\n",
       " Text(7, 0, 'great'),\n",
       " Text(8, 0, '!'),\n",
       " Text(9, 0, '[SEP]')]"
      ]
     },
     "execution_count": 26,
     "metadata": {},
     "output_type": "execute_result"
    },
    {
     "data": {
      "text/plain": [
       "[<matplotlib.axis.YTick at 0x7048ce905e20>,\n",
       " <matplotlib.axis.YTick at 0x7048ce9057c0>,\n",
       " <matplotlib.axis.YTick at 0x7048ce9fbca0>,\n",
       " <matplotlib.axis.YTick at 0x7048ccd17970>,\n",
       " <matplotlib.axis.YTick at 0x7048ccd1b4f0>,\n",
       " <matplotlib.axis.YTick at 0x7048ccd1bdf0>,\n",
       " <matplotlib.axis.YTick at 0x7048ccd1b850>,\n",
       " <matplotlib.axis.YTick at 0x7048ccd1b5e0>,\n",
       " <matplotlib.axis.YTick at 0x7048ccd24a60>,\n",
       " <matplotlib.axis.YTick at 0x7048ccd24f40>]"
      ]
     },
     "execution_count": 26,
     "metadata": {},
     "output_type": "execute_result"
    },
    {
     "data": {
      "text/plain": [
       "[Text(0, 0, '[CLS]'),\n",
       " Text(0, 1, 'Hu'),\n",
       " Text(0, 2, '##gging'),\n",
       " Text(0, 3, 'Face'),\n",
       " Text(0, 4, 'transform'),\n",
       " Text(0, 5, '##ers'),\n",
       " Text(0, 6, 'is'),\n",
       " Text(0, 7, 'great'),\n",
       " Text(0, 8, '!'),\n",
       " Text(0, 9, '[SEP]')]"
      ]
     },
     "execution_count": 26,
     "metadata": {},
     "output_type": "execute_result"
    },
    {
     "data": {
      "text/plain": [
       "<matplotlib.image.AxesImage at 0x7048ccd5bf40>"
      ]
     },
     "execution_count": 26,
     "metadata": {},
     "output_type": "execute_result"
    },
    {
     "data": {
      "text/plain": [
       "[<matplotlib.axis.XTick at 0x7048ce939be0>,\n",
       " <matplotlib.axis.XTick at 0x7048ce939bb0>,\n",
       " <matplotlib.axis.XTick at 0x7048ce939400>,\n",
       " <matplotlib.axis.XTick at 0x7048ccd2e940>,\n",
       " <matplotlib.axis.XTick at 0x7048ccd336a0>,\n",
       " <matplotlib.axis.XTick at 0x7048ccd33790>,\n",
       " <matplotlib.axis.XTick at 0x7048ccd3c880>,\n",
       " <matplotlib.axis.XTick at 0x7048ccd2ef40>,\n",
       " <matplotlib.axis.XTick at 0x7048ccd3cca0>,\n",
       " <matplotlib.axis.XTick at 0x7048ccd2e8b0>]"
      ]
     },
     "execution_count": 26,
     "metadata": {},
     "output_type": "execute_result"
    },
    {
     "data": {
      "text/plain": [
       "[Text(0, 0, '[CLS]'),\n",
       " Text(1, 0, 'Hu'),\n",
       " Text(2, 0, '##gging'),\n",
       " Text(3, 0, 'Face'),\n",
       " Text(4, 0, 'transform'),\n",
       " Text(5, 0, '##ers'),\n",
       " Text(6, 0, 'is'),\n",
       " Text(7, 0, 'great'),\n",
       " Text(8, 0, '!'),\n",
       " Text(9, 0, '[SEP]')]"
      ]
     },
     "execution_count": 26,
     "metadata": {},
     "output_type": "execute_result"
    },
    {
     "data": {
      "text/plain": [
       "[<matplotlib.axis.YTick at 0x7048ce5c2910>,\n",
       " <matplotlib.axis.YTick at 0x7048ce5c22b0>,\n",
       " <matplotlib.axis.YTick at 0x7048ce939790>,\n",
       " <matplotlib.axis.YTick at 0x7048ccccc5e0>,\n",
       " <matplotlib.axis.YTick at 0x7048cccc30d0>,\n",
       " <matplotlib.axis.YTick at 0x7048ccd3cee0>,\n",
       " <matplotlib.axis.YTick at 0x7048cccd25e0>,\n",
       " <matplotlib.axis.YTick at 0x7048cccd2dc0>,\n",
       " <matplotlib.axis.YTick at 0x7048cccda5e0>,\n",
       " <matplotlib.axis.YTick at 0x7048cccd2970>]"
      ]
     },
     "execution_count": 26,
     "metadata": {},
     "output_type": "execute_result"
    },
    {
     "data": {
      "text/plain": [
       "[Text(0, 0, '[CLS]'),\n",
       " Text(0, 1, 'Hu'),\n",
       " Text(0, 2, '##gging'),\n",
       " Text(0, 3, 'Face'),\n",
       " Text(0, 4, 'transform'),\n",
       " Text(0, 5, '##ers'),\n",
       " Text(0, 6, 'is'),\n",
       " Text(0, 7, 'great'),\n",
       " Text(0, 8, '!'),\n",
       " Text(0, 9, '[SEP]')]"
      ]
     },
     "execution_count": 26,
     "metadata": {},
     "output_type": "execute_result"
    },
    {
     "data": {
      "text/plain": [
       "<matplotlib.image.AxesImage at 0x7048ccd338b0>"
      ]
     },
     "execution_count": 26,
     "metadata": {},
     "output_type": "execute_result"
    },
    {
     "data": {
      "text/plain": [
       "[<matplotlib.axis.XTick at 0x7048ce5f48e0>,\n",
       " <matplotlib.axis.XTick at 0x7048ce5f48b0>,\n",
       " <matplotlib.axis.XTick at 0x7048ce5f4100>,\n",
       " <matplotlib.axis.XTick at 0x7048ccdb9730>,\n",
       " <matplotlib.axis.XTick at 0x7048cccdadc0>,\n",
       " <matplotlib.axis.XTick at 0x7048ccce6a60>,\n",
       " <matplotlib.axis.XTick at 0x7048ccd07fa0>,\n",
       " <matplotlib.axis.XTick at 0x7048ccce6df0>,\n",
       " <matplotlib.axis.XTick at 0x7048cccef610>,\n",
       " <matplotlib.axis.XTick at 0x7048cccefdf0>]"
      ]
     },
     "execution_count": 26,
     "metadata": {},
     "output_type": "execute_result"
    },
    {
     "data": {
      "text/plain": [
       "[Text(0, 0, '[CLS]'),\n",
       " Text(1, 0, 'Hu'),\n",
       " Text(2, 0, '##gging'),\n",
       " Text(3, 0, 'Face'),\n",
       " Text(4, 0, 'transform'),\n",
       " Text(5, 0, '##ers'),\n",
       " Text(6, 0, 'is'),\n",
       " Text(7, 0, 'great'),\n",
       " Text(8, 0, '!'),\n",
       " Text(9, 0, '[SEP]')]"
      ]
     },
     "execution_count": 26,
     "metadata": {},
     "output_type": "execute_result"
    },
    {
     "data": {
      "text/plain": [
       "[<matplotlib.axis.YTick at 0x7048ce5fd610>,\n",
       " <matplotlib.axis.YTick at 0x7048ce5f4f70>,\n",
       " <matplotlib.axis.YTick at 0x7048ce5f4490>,\n",
       " <matplotlib.axis.YTick at 0x7048cccdad00>,\n",
       " <matplotlib.axis.YTick at 0x7048cccf7eb0>,\n",
       " <matplotlib.axis.YTick at 0x7048cccf7e50>,\n",
       " <matplotlib.axis.YTick at 0x7048cccfa850>,\n",
       " <matplotlib.axis.YTick at 0x7048cccfac10>,\n",
       " <matplotlib.axis.YTick at 0x7048cccef880>,\n",
       " <matplotlib.axis.YTick at 0x7048ccc83c70>]"
      ]
     },
     "execution_count": 26,
     "metadata": {},
     "output_type": "execute_result"
    },
    {
     "data": {
      "text/plain": [
       "[Text(0, 0, '[CLS]'),\n",
       " Text(0, 1, 'Hu'),\n",
       " Text(0, 2, '##gging'),\n",
       " Text(0, 3, 'Face'),\n",
       " Text(0, 4, 'transform'),\n",
       " Text(0, 5, '##ers'),\n",
       " Text(0, 6, 'is'),\n",
       " Text(0, 7, 'great'),\n",
       " Text(0, 8, '!'),\n",
       " Text(0, 9, '[SEP]')]"
      ]
     },
     "execution_count": 26,
     "metadata": {},
     "output_type": "execute_result"
    },
    {
     "data": {
      "text/plain": [
       "<matplotlib.image.AxesImage at 0x7048ccc8c550>"
      ]
     },
     "execution_count": 26,
     "metadata": {},
     "output_type": "execute_result"
    },
    {
     "data": {
      "text/plain": [
       "[<matplotlib.axis.XTick at 0x7048ce5b2700>,\n",
       " <matplotlib.axis.XTick at 0x7048ce5b26d0>,\n",
       " <matplotlib.axis.XTick at 0x7048ce5a1e80>,\n",
       " <matplotlib.axis.XTick at 0x7048ccc8cd60>,\n",
       " <matplotlib.axis.XTick at 0x7048ccc83af0>,\n",
       " <matplotlib.axis.XTick at 0x7048ccc83340>,\n",
       " <matplotlib.axis.XTick at 0x7048ccc95f70>,\n",
       " <matplotlib.axis.XTick at 0x7048ccc9aa90>,\n",
       " <matplotlib.axis.XTick at 0x7048ccc9af70>,\n",
       " <matplotlib.axis.XTick at 0x7048ccc9a7f0>]"
      ]
     },
     "execution_count": 26,
     "metadata": {},
     "output_type": "execute_result"
    },
    {
     "data": {
      "text/plain": [
       "[Text(0, 0, '[CLS]'),\n",
       " Text(1, 0, 'Hu'),\n",
       " Text(2, 0, '##gging'),\n",
       " Text(3, 0, 'Face'),\n",
       " Text(4, 0, 'transform'),\n",
       " Text(5, 0, '##ers'),\n",
       " Text(6, 0, 'is'),\n",
       " Text(7, 0, 'great'),\n",
       " Text(8, 0, '!'),\n",
       " Text(9, 0, '[SEP]')]"
      ]
     },
     "execution_count": 26,
     "metadata": {},
     "output_type": "execute_result"
    },
    {
     "data": {
      "text/plain": [
       "[<matplotlib.axis.YTick at 0x7048ce5b9430>,\n",
       " <matplotlib.axis.YTick at 0x7048ce5b2d90>,\n",
       " <matplotlib.axis.YTick at 0x7048ce5b22b0>,\n",
       " <matplotlib.axis.YTick at 0x7048ccca3df0>,\n",
       " <matplotlib.axis.YTick at 0x7048cccac8e0>,\n",
       " <matplotlib.axis.YTick at 0x7048cccac9d0>,\n",
       " <matplotlib.axis.YTick at 0x7048cccac550>,\n",
       " <matplotlib.axis.YTick at 0x7048ccc9a610>,\n",
       " <matplotlib.axis.YTick at 0x7048cccb0e80>,\n",
       " <matplotlib.axis.YTick at 0x7048cccb0610>]"
      ]
     },
     "execution_count": 26,
     "metadata": {},
     "output_type": "execute_result"
    },
    {
     "data": {
      "text/plain": [
       "[Text(0, 0, '[CLS]'),\n",
       " Text(0, 1, 'Hu'),\n",
       " Text(0, 2, '##gging'),\n",
       " Text(0, 3, 'Face'),\n",
       " Text(0, 4, 'transform'),\n",
       " Text(0, 5, '##ers'),\n",
       " Text(0, 6, 'is'),\n",
       " Text(0, 7, 'great'),\n",
       " Text(0, 8, '!'),\n",
       " Text(0, 9, '[SEP]')]"
      ]
     },
     "execution_count": 26,
     "metadata": {},
     "output_type": "execute_result"
    },
    {
     "data": {
      "text/plain": [
       "<matplotlib.image.AxesImage at 0x7048cccb0a00>"
      ]
     },
     "execution_count": 26,
     "metadata": {},
     "output_type": "execute_result"
    },
    {
     "data": {
      "text/plain": [
       "[<matplotlib.axis.XTick at 0x7048ce56b460>,\n",
       " <matplotlib.axis.XTick at 0x7048ce56b430>,\n",
       " <matplotlib.axis.XTick at 0x7048ce560be0>,\n",
       " <matplotlib.axis.XTick at 0x7048cccb8f70>,\n",
       " <matplotlib.axis.XTick at 0x7048ccc43af0>,\n",
       " <matplotlib.axis.XTick at 0x7048ccc43be0>,\n",
       " <matplotlib.axis.XTick at 0x7048ccc49ca0>,\n",
       " <matplotlib.axis.XTick at 0x7048ccc436a0>,\n",
       " <matplotlib.axis.XTick at 0x7048ccc49f40>,\n",
       " <matplotlib.axis.XTick at 0x7048ccc51760>]"
      ]
     },
     "execution_count": 26,
     "metadata": {},
     "output_type": "execute_result"
    },
    {
     "data": {
      "text/plain": [
       "[Text(0, 0, '[CLS]'),\n",
       " Text(1, 0, 'Hu'),\n",
       " Text(2, 0, '##gging'),\n",
       " Text(3, 0, 'Face'),\n",
       " Text(4, 0, 'transform'),\n",
       " Text(5, 0, '##ers'),\n",
       " Text(6, 0, 'is'),\n",
       " Text(7, 0, 'great'),\n",
       " Text(8, 0, '!'),\n",
       " Text(9, 0, '[SEP]')]"
      ]
     },
     "execution_count": 26,
     "metadata": {},
     "output_type": "execute_result"
    },
    {
     "data": {
      "text/plain": [
       "[<matplotlib.axis.YTick at 0x7048ce56bd90>,\n",
       " <matplotlib.axis.YTick at 0x7048ce56bb50>,\n",
       " <matplotlib.axis.YTick at 0x7048ce560f70>,\n",
       " <matplotlib.axis.YTick at 0x7048ccc58a60>,\n",
       " <matplotlib.axis.YTick at 0x7048ccc518e0>,\n",
       " <matplotlib.axis.YTick at 0x7048ccc51400>,\n",
       " <matplotlib.axis.YTick at 0x7048ccc59a60>,\n",
       " <matplotlib.axis.YTick at 0x7048ccc592e0>,\n",
       " <matplotlib.axis.YTick at 0x7048ccc59910>,\n",
       " <matplotlib.axis.YTick at 0x7048ccc598e0>]"
      ]
     },
     "execution_count": 26,
     "metadata": {},
     "output_type": "execute_result"
    },
    {
     "data": {
      "text/plain": [
       "[Text(0, 0, '[CLS]'),\n",
       " Text(0, 1, 'Hu'),\n",
       " Text(0, 2, '##gging'),\n",
       " Text(0, 3, 'Face'),\n",
       " Text(0, 4, 'transform'),\n",
       " Text(0, 5, '##ers'),\n",
       " Text(0, 6, 'is'),\n",
       " Text(0, 7, 'great'),\n",
       " Text(0, 8, '!'),\n",
       " Text(0, 9, '[SEP]')]"
      ]
     },
     "execution_count": 26,
     "metadata": {},
     "output_type": "execute_result"
    },
    {
     "data": {
      "text/plain": [
       "<matplotlib.image.AxesImage at 0x7048ccc66670>"
      ]
     },
     "execution_count": 26,
     "metadata": {},
     "output_type": "execute_result"
    },
    {
     "data": {
      "text/plain": [
       "[<matplotlib.axis.XTick at 0x7048ce51efa0>,\n",
       " <matplotlib.axis.XTick at 0x7048ce51ef70>,\n",
       " <matplotlib.axis.XTick at 0x7048ce51e7c0>,\n",
       " <matplotlib.axis.XTick at 0x7048ccc77910>,\n",
       " <matplotlib.axis.XTick at 0x7048ccc76490>,\n",
       " <matplotlib.axis.XTick at 0x7048ccc76d30>,\n",
       " <matplotlib.axis.XTick at 0x7048ccc76d00>,\n",
       " <matplotlib.axis.XTick at 0x7048ccc76ee0>,\n",
       " <matplotlib.axis.XTick at 0x7048ccc7d8e0>,\n",
       " <matplotlib.axis.XTick at 0x7048ccc49b20>]"
      ]
     },
     "execution_count": 26,
     "metadata": {},
     "output_type": "execute_result"
    },
    {
     "data": {
      "text/plain": [
       "[Text(0, 0, '[CLS]'),\n",
       " Text(1, 0, 'Hu'),\n",
       " Text(2, 0, '##gging'),\n",
       " Text(3, 0, 'Face'),\n",
       " Text(4, 0, 'transform'),\n",
       " Text(5, 0, '##ers'),\n",
       " Text(6, 0, 'is'),\n",
       " Text(7, 0, 'great'),\n",
       " Text(8, 0, '!'),\n",
       " Text(9, 0, '[SEP]')]"
      ]
     },
     "execution_count": 26,
     "metadata": {},
     "output_type": "execute_result"
    },
    {
     "data": {
      "text/plain": [
       "[<matplotlib.axis.YTick at 0x7048ce527be0>,\n",
       " <matplotlib.axis.YTick at 0x7048ce5276a0>,\n",
       " <matplotlib.axis.YTick at 0x7048ce51eb50>,\n",
       " <matplotlib.axis.YTick at 0x7048ccc7d250>,\n",
       " <matplotlib.axis.YTick at 0x7048ccc83790>,\n",
       " <matplotlib.axis.YTick at 0x7048ccc834f0>,\n",
       " <matplotlib.axis.YTick at 0x7048ccc05d00>,\n",
       " <matplotlib.axis.YTick at 0x7048ccc0dc40>,\n",
       " <matplotlib.axis.YTick at 0x7048ccc58e80>,\n",
       " <matplotlib.axis.YTick at 0x7048ccc0ddf0>]"
      ]
     },
     "execution_count": 26,
     "metadata": {},
     "output_type": "execute_result"
    },
    {
     "data": {
      "text/plain": [
       "[Text(0, 0, '[CLS]'),\n",
       " Text(0, 1, 'Hu'),\n",
       " Text(0, 2, '##gging'),\n",
       " Text(0, 3, 'Face'),\n",
       " Text(0, 4, 'transform'),\n",
       " Text(0, 5, '##ers'),\n",
       " Text(0, 6, 'is'),\n",
       " Text(0, 7, 'great'),\n",
       " Text(0, 8, '!'),\n",
       " Text(0, 9, '[SEP]')]"
      ]
     },
     "execution_count": 26,
     "metadata": {},
     "output_type": "execute_result"
    },
    {
     "data": {
      "text/plain": [
       "<matplotlib.image.AxesImage at 0x7048ccc17820>"
      ]
     },
     "execution_count": 26,
     "metadata": {},
     "output_type": "execute_result"
    },
    {
     "data": {
      "text/plain": [
       "[<matplotlib.axis.XTick at 0x7048ce4dbe20>,\n",
       " <matplotlib.axis.XTick at 0x7048ce4dbdf0>,\n",
       " <matplotlib.axis.XTick at 0x7048ce4db640>,\n",
       " <matplotlib.axis.XTick at 0x7048ccc23490>,\n",
       " <matplotlib.axis.XTick at 0x7048ccc170d0>,\n",
       " <matplotlib.axis.XTick at 0x7048ccc0d220>,\n",
       " <matplotlib.axis.XTick at 0x7048ccc28430>,\n",
       " <matplotlib.axis.XTick at 0x7048ccc28c10>,\n",
       " <matplotlib.axis.XTick at 0x7048ccc30430>,\n",
       " <matplotlib.axis.XTick at 0x7048ccc28790>]"
      ]
     },
     "execution_count": 26,
     "metadata": {},
     "output_type": "execute_result"
    },
    {
     "data": {
      "text/plain": [
       "[Text(0, 0, '[CLS]'),\n",
       " Text(1, 0, 'Hu'),\n",
       " Text(2, 0, '##gging'),\n",
       " Text(3, 0, 'Face'),\n",
       " Text(4, 0, 'transform'),\n",
       " Text(5, 0, '##ers'),\n",
       " Text(6, 0, 'is'),\n",
       " Text(7, 0, 'great'),\n",
       " Text(8, 0, '!'),\n",
       " Text(9, 0, '[SEP]')]"
      ]
     },
     "execution_count": 26,
     "metadata": {},
     "output_type": "execute_result"
    },
    {
     "data": {
      "text/plain": [
       "[<matplotlib.axis.YTick at 0x7048ce4e4a30>,\n",
       " <matplotlib.axis.YTick at 0x7048ce4dbf10>,\n",
       " <matplotlib.axis.YTick at 0x7048ce4db9d0>,\n",
       " <matplotlib.axis.YTick at 0x7048ccc37280>,\n",
       " <matplotlib.axis.YTick at 0x7048ccc37d30>,\n",
       " <matplotlib.axis.YTick at 0x7048ccc37e20>,\n",
       " <matplotlib.axis.YTick at 0x7048ccc375b0>,\n",
       " <matplotlib.axis.YTick at 0x7048ccc23dc0>,\n",
       " <matplotlib.axis.YTick at 0x7048ccc37670>,\n",
       " <matplotlib.axis.YTick at 0x7048ccc3ae50>]"
      ]
     },
     "execution_count": 26,
     "metadata": {},
     "output_type": "execute_result"
    },
    {
     "data": {
      "text/plain": [
       "[Text(0, 0, '[CLS]'),\n",
       " Text(0, 1, 'Hu'),\n",
       " Text(0, 2, '##gging'),\n",
       " Text(0, 3, 'Face'),\n",
       " Text(0, 4, 'transform'),\n",
       " Text(0, 5, '##ers'),\n",
       " Text(0, 6, 'is'),\n",
       " Text(0, 7, 'great'),\n",
       " Text(0, 8, '!'),\n",
       " Text(0, 9, '[SEP]')]"
      ]
     },
     "execution_count": 26,
     "metadata": {},
     "output_type": "execute_result"
    },
    {
     "data": {
      "text/plain": [
       "[Text(0, 0.5, 'layer=3')]"
      ]
     },
     "execution_count": 26,
     "metadata": {},
     "output_type": "execute_result"
    },
    {
     "data": {
      "text/plain": [
       "<matplotlib.image.AxesImage at 0x7048ccc3af70>"
      ]
     },
     "execution_count": 26,
     "metadata": {},
     "output_type": "execute_result"
    },
    {
     "data": {
      "text/plain": [
       "[<matplotlib.axis.XTick at 0x7048ce495c40>,\n",
       " <matplotlib.axis.XTick at 0x7048ce495c10>,\n",
       " <matplotlib.axis.XTick at 0x7048ce495460>,\n",
       " <matplotlib.axis.XTick at 0x7048ccbcd400>,\n",
       " <matplotlib.axis.XTick at 0x7048ccbcdf40>,\n",
       " <matplotlib.axis.XTick at 0x7048ccbce880>,\n",
       " <matplotlib.axis.XTick at 0x7048ccbce850>,\n",
       " <matplotlib.axis.XTick at 0x7048ccbce1c0>,\n",
       " <matplotlib.axis.XTick at 0x7048ccbc5ee0>,\n",
       " <matplotlib.axis.XTick at 0x7048ccbdbbb0>]"
      ]
     },
     "execution_count": 26,
     "metadata": {},
     "output_type": "execute_result"
    },
    {
     "data": {
      "text/plain": [
       "[Text(0, 0, '[CLS]'),\n",
       " Text(1, 0, 'Hu'),\n",
       " Text(2, 0, '##gging'),\n",
       " Text(3, 0, 'Face'),\n",
       " Text(4, 0, 'transform'),\n",
       " Text(5, 0, '##ers'),\n",
       " Text(6, 0, 'is'),\n",
       " Text(7, 0, 'great'),\n",
       " Text(8, 0, '!'),\n",
       " Text(9, 0, '[SEP]')]"
      ]
     },
     "execution_count": 26,
     "metadata": {},
     "output_type": "execute_result"
    },
    {
     "data": {
      "text/plain": [
       "[<matplotlib.axis.YTick at 0x7048ce49f970>,\n",
       " <matplotlib.axis.YTick at 0x7048ce49f310>,\n",
       " <matplotlib.axis.YTick at 0x7048ce4957f0>,\n",
       " <matplotlib.axis.YTick at 0x7048ccbe4f40>,\n",
       " <matplotlib.axis.YTick at 0x7048ccbe4760>,\n",
       " <matplotlib.axis.YTick at 0x7048ccbdb850>,\n",
       " <matplotlib.axis.YTick at 0x7048ccbeaeb0>,\n",
       " <matplotlib.axis.YTick at 0x7048ccbf26d0>,\n",
       " <matplotlib.axis.YTick at 0x7048ccbf2eb0>,\n",
       " <matplotlib.axis.YTick at 0x7048ccbf2970>]"
      ]
     },
     "execution_count": 26,
     "metadata": {},
     "output_type": "execute_result"
    },
    {
     "data": {
      "text/plain": [
       "[Text(0, 0, '[CLS]'),\n",
       " Text(0, 1, 'Hu'),\n",
       " Text(0, 2, '##gging'),\n",
       " Text(0, 3, 'Face'),\n",
       " Text(0, 4, 'transform'),\n",
       " Text(0, 5, '##ers'),\n",
       " Text(0, 6, 'is'),\n",
       " Text(0, 7, 'great'),\n",
       " Text(0, 8, '!'),\n",
       " Text(0, 9, '[SEP]')]"
      ]
     },
     "execution_count": 26,
     "metadata": {},
     "output_type": "execute_result"
    },
    {
     "data": {
      "text/plain": [
       "<matplotlib.image.AxesImage at 0x7048ccbf2f70>"
      ]
     },
     "execution_count": 26,
     "metadata": {},
     "output_type": "execute_result"
    },
    {
     "data": {
      "text/plain": [
       "[<matplotlib.axis.XTick at 0x7048ce450a60>,\n",
       " <matplotlib.axis.XTick at 0x7048ce450a30>,\n",
       " <matplotlib.axis.XTick at 0x7048ce450280>,\n",
       " <matplotlib.axis.XTick at 0x7048ccbf9d90>,\n",
       " <matplotlib.axis.XTick at 0x7048ccb81910>,\n",
       " <matplotlib.axis.XTick at 0x7048ccb81e80>,\n",
       " <matplotlib.axis.XTick at 0x7048ccb810d0>,\n",
       " <matplotlib.axis.XTick at 0x7048ccbf2490>,\n",
       " <matplotlib.axis.XTick at 0x7048ccb89d30>,\n",
       " <matplotlib.axis.XTick at 0x7048ccb90550>]"
      ]
     },
     "execution_count": 26,
     "metadata": {},
     "output_type": "execute_result"
    },
    {
     "data": {
      "text/plain": [
       "[Text(0, 0, '[CLS]'),\n",
       " Text(1, 0, 'Hu'),\n",
       " Text(2, 0, '##gging'),\n",
       " Text(3, 0, 'Face'),\n",
       " Text(4, 0, 'transform'),\n",
       " Text(5, 0, '##ers'),\n",
       " Text(6, 0, 'is'),\n",
       " Text(7, 0, 'great'),\n",
       " Text(8, 0, '!'),\n",
       " Text(9, 0, '[SEP]')]"
      ]
     },
     "execution_count": 26,
     "metadata": {},
     "output_type": "execute_result"
    },
    {
     "data": {
      "text/plain": [
       "[<matplotlib.axis.YTick at 0x7048ce459790>,\n",
       " <matplotlib.axis.YTick at 0x7048ce459130>,\n",
       " <matplotlib.axis.YTick at 0x7048ce450610>,\n",
       " <matplotlib.axis.YTick at 0x7048ccb906d0>,\n",
       " <matplotlib.axis.YTick at 0x7048ccb9c730>,\n",
       " <matplotlib.axis.YTick at 0x7048ccb9c820>,\n",
       " <matplotlib.axis.YTick at 0x7048ccb9f940>,\n",
       " <matplotlib.axis.YTick at 0x7048ccb9f6a0>,\n",
       " <matplotlib.axis.YTick at 0x7048ccb90d30>,\n",
       " <matplotlib.axis.YTick at 0x7048ccba74c0>]"
      ]
     },
     "execution_count": 26,
     "metadata": {},
     "output_type": "execute_result"
    },
    {
     "data": {
      "text/plain": [
       "[Text(0, 0, '[CLS]'),\n",
       " Text(0, 1, 'Hu'),\n",
       " Text(0, 2, '##gging'),\n",
       " Text(0, 3, 'Face'),\n",
       " Text(0, 4, 'transform'),\n",
       " Text(0, 5, '##ers'),\n",
       " Text(0, 6, 'is'),\n",
       " Text(0, 7, 'great'),\n",
       " Text(0, 8, '!'),\n",
       " Text(0, 9, '[SEP]')]"
      ]
     },
     "execution_count": 26,
     "metadata": {},
     "output_type": "execute_result"
    },
    {
     "data": {
      "text/plain": [
       "<matplotlib.image.AxesImage at 0x7048ce450250>"
      ]
     },
     "execution_count": 26,
     "metadata": {},
     "output_type": "execute_result"
    },
    {
     "data": {
      "text/plain": [
       "[<matplotlib.axis.XTick at 0x7048ce40d400>,\n",
       " <matplotlib.axis.XTick at 0x7048ce40d3d0>,\n",
       " <matplotlib.axis.XTick at 0x7048ce403be0>,\n",
       " <matplotlib.axis.XTick at 0x7048ccbaf8e0>,\n",
       " <matplotlib.axis.XTick at 0x7048ccba7700>,\n",
       " <matplotlib.axis.XTick at 0x7048ccbdb2e0>,\n",
       " <matplotlib.axis.XTick at 0x7048ccbea190>,\n",
       " <matplotlib.axis.XTick at 0x7048ccbba5b0>,\n",
       " <matplotlib.axis.XTick at 0x7048ccbbad90>,\n",
       " <matplotlib.axis.XTick at 0x7048ccbba910>]"
      ]
     },
     "execution_count": 26,
     "metadata": {},
     "output_type": "execute_result"
    },
    {
     "data": {
      "text/plain": [
       "[Text(0, 0, '[CLS]'),\n",
       " Text(1, 0, 'Hu'),\n",
       " Text(2, 0, '##gging'),\n",
       " Text(3, 0, 'Face'),\n",
       " Text(4, 0, 'transform'),\n",
       " Text(5, 0, '##ers'),\n",
       " Text(6, 0, 'is'),\n",
       " Text(7, 0, 'great'),\n",
       " Text(8, 0, '!'),\n",
       " Text(9, 0, '[SEP]')]"
      ]
     },
     "execution_count": 26,
     "metadata": {},
     "output_type": "execute_result"
    },
    {
     "data": {
      "text/plain": [
       "[<matplotlib.axis.YTick at 0x7048ce416130>,\n",
       " <matplotlib.axis.YTick at 0x7048ce40da90>,\n",
       " <matplotlib.axis.YTick at 0x7048ce403f10>,\n",
       " <matplotlib.axis.YTick at 0x7048ccb428e0>,\n",
       " <matplotlib.axis.YTick at 0x7048ccbad3d0>,\n",
       " <matplotlib.axis.YTick at 0x7048ccbad370>,\n",
       " <matplotlib.axis.YTick at 0x7048ccb4e5e0>,\n",
       " <matplotlib.axis.YTick at 0x7048ccbadee0>,\n",
       " <matplotlib.axis.YTick at 0x7048ccc30af0>,\n",
       " <matplotlib.axis.YTick at 0x7048ccb4ed90>]"
      ]
     },
     "execution_count": 26,
     "metadata": {},
     "output_type": "execute_result"
    },
    {
     "data": {
      "text/plain": [
       "[Text(0, 0, '[CLS]'),\n",
       " Text(0, 1, 'Hu'),\n",
       " Text(0, 2, '##gging'),\n",
       " Text(0, 3, 'Face'),\n",
       " Text(0, 4, 'transform'),\n",
       " Text(0, 5, '##ers'),\n",
       " Text(0, 6, 'is'),\n",
       " Text(0, 7, 'great'),\n",
       " Text(0, 8, '!'),\n",
       " Text(0, 9, '[SEP]')]"
      ]
     },
     "execution_count": 26,
     "metadata": {},
     "output_type": "execute_result"
    },
    {
     "data": {
      "text/plain": [
       "<matplotlib.image.AxesImage at 0x7048ccb587c0>"
      ]
     },
     "execution_count": 26,
     "metadata": {},
     "output_type": "execute_result"
    },
    {
     "data": {
      "text/plain": [
       "[<matplotlib.axis.XTick at 0x7048ce3c6220>,\n",
       " <matplotlib.axis.XTick at 0x7048ce3c61f0>,\n",
       " <matplotlib.axis.XTick at 0x7048ce43ea00>,\n",
       " <matplotlib.axis.XTick at 0x7048ccbadac0>,\n",
       " <matplotlib.axis.XTick at 0x7048ccb5d370>,\n",
       " <matplotlib.axis.XTick at 0x7048ccb5dd00>,\n",
       " <matplotlib.axis.XTick at 0x7048ccb5dcd0>,\n",
       " <matplotlib.axis.XTick at 0x7048ccb68bb0>,\n",
       " <matplotlib.axis.XTick at 0x7048ccba7940>,\n",
       " <matplotlib.axis.XTick at 0x7048ccb68d60>]"
      ]
     },
     "execution_count": 26,
     "metadata": {},
     "output_type": "execute_result"
    },
    {
     "data": {
      "text/plain": [
       "[Text(0, 0, '[CLS]'),\n",
       " Text(1, 0, 'Hu'),\n",
       " Text(2, 0, '##gging'),\n",
       " Text(3, 0, 'Face'),\n",
       " Text(4, 0, 'transform'),\n",
       " Text(5, 0, '##ers'),\n",
       " Text(6, 0, 'is'),\n",
       " Text(7, 0, 'great'),\n",
       " Text(8, 0, '!'),\n",
       " Text(9, 0, '[SEP]')]"
      ]
     },
     "execution_count": 26,
     "metadata": {},
     "output_type": "execute_result"
    },
    {
     "data": {
      "text/plain": [
       "[<matplotlib.axis.YTick at 0x7048ce3c6f10>,\n",
       " <matplotlib.axis.YTick at 0x7048ce3c68b0>,\n",
       " <matplotlib.axis.YTick at 0x7048ce43ed90>,\n",
       " <matplotlib.axis.YTick at 0x7048ccb72d90>,\n",
       " <matplotlib.axis.YTick at 0x7048ccb76be0>,\n",
       " <matplotlib.axis.YTick at 0x7048ccb68a00>,\n",
       " <matplotlib.axis.YTick at 0x7048ccb76fa0>,\n",
       " <matplotlib.axis.YTick at 0x7048ccb7e7c0>,\n",
       " <matplotlib.axis.YTick at 0x7048ccb7efa0>,\n",
       " <matplotlib.axis.YTick at 0x7048ccb057c0>]"
      ]
     },
     "execution_count": 26,
     "metadata": {},
     "output_type": "execute_result"
    },
    {
     "data": {
      "text/plain": [
       "[Text(0, 0, '[CLS]'),\n",
       " Text(0, 1, 'Hu'),\n",
       " Text(0, 2, '##gging'),\n",
       " Text(0, 3, 'Face'),\n",
       " Text(0, 4, 'transform'),\n",
       " Text(0, 5, '##ers'),\n",
       " Text(0, 6, 'is'),\n",
       " Text(0, 7, 'great'),\n",
       " Text(0, 8, '!'),\n",
       " Text(0, 9, '[SEP]')]"
      ]
     },
     "execution_count": 26,
     "metadata": {},
     "output_type": "execute_result"
    },
    {
     "data": {
      "text/plain": [
       "<matplotlib.image.AxesImage at 0x7048ccb7ea60>"
      ]
     },
     "execution_count": 26,
     "metadata": {},
     "output_type": "execute_result"
    },
    {
     "data": {
      "text/plain": [
       "[<matplotlib.axis.XTick at 0x7048ce382040>,\n",
       " <matplotlib.axis.XTick at 0x7048ce3f8fd0>,\n",
       " <matplotlib.axis.XTick at 0x7048ce3f8820>,\n",
       " <matplotlib.axis.XTick at 0x7048ccb05eb0>,\n",
       " <matplotlib.axis.XTick at 0x7048ccb0c9a0>,\n",
       " <matplotlib.axis.XTick at 0x7048ccb0cf70>,\n",
       " <matplotlib.axis.XTick at 0x7048ccb16c10>,\n",
       " <matplotlib.axis.XTick at 0x7048ccb05cd0>,\n",
       " <matplotlib.axis.XTick at 0x7048ccb16f10>,\n",
       " <matplotlib.axis.XTick at 0x7048ccb19730>]"
      ]
     },
     "execution_count": 26,
     "metadata": {},
     "output_type": "execute_result"
    },
    {
     "data": {
      "text/plain": [
       "[Text(0, 0, '[CLS]'),\n",
       " Text(1, 0, 'Hu'),\n",
       " Text(2, 0, '##gging'),\n",
       " Text(3, 0, 'Face'),\n",
       " Text(4, 0, 'transform'),\n",
       " Text(5, 0, '##ers'),\n",
       " Text(6, 0, 'is'),\n",
       " Text(7, 0, 'great'),\n",
       " Text(8, 0, '!'),\n",
       " Text(9, 0, '[SEP]')]"
      ]
     },
     "execution_count": 26,
     "metadata": {},
     "output_type": "execute_result"
    },
    {
     "data": {
      "text/plain": [
       "[<matplotlib.axis.YTick at 0x7048ce382d30>,\n",
       " <matplotlib.axis.YTick at 0x7048ce3826d0>,\n",
       " <matplotlib.axis.YTick at 0x7048ce3f8bb0>,\n",
       " <matplotlib.axis.YTick at 0x7048ccb192b0>,\n",
       " <matplotlib.axis.YTick at 0x7048ccb249a0>,\n",
       " <matplotlib.axis.YTick at 0x7048ccb24f70>,\n",
       " <matplotlib.axis.YTick at 0x7048ccb2ab80>,\n",
       " <matplotlib.axis.YTick at 0x7048ccb2a970>,\n",
       " <matplotlib.axis.YTick at 0x7048ccb19d90>,\n",
       " <matplotlib.axis.YTick at 0x7048ccb31700>]"
      ]
     },
     "execution_count": 26,
     "metadata": {},
     "output_type": "execute_result"
    },
    {
     "data": {
      "text/plain": [
       "[Text(0, 0, '[CLS]'),\n",
       " Text(0, 1, 'Hu'),\n",
       " Text(0, 2, '##gging'),\n",
       " Text(0, 3, 'Face'),\n",
       " Text(0, 4, 'transform'),\n",
       " Text(0, 5, '##ers'),\n",
       " Text(0, 6, 'is'),\n",
       " Text(0, 7, 'great'),\n",
       " Text(0, 8, '!'),\n",
       " Text(0, 9, '[SEP]')]"
      ]
     },
     "execution_count": 26,
     "metadata": {},
     "output_type": "execute_result"
    },
    {
     "data": {
      "text/plain": [
       "<matplotlib.image.AxesImage at 0x7048ccb05220>"
      ]
     },
     "execution_count": 26,
     "metadata": {},
     "output_type": "execute_result"
    },
    {
     "data": {
      "text/plain": [
       "[<matplotlib.axis.XTick at 0x7048ce3b4d00>,\n",
       " <matplotlib.axis.XTick at 0x7048ce3b4cd0>,\n",
       " <matplotlib.axis.XTick at 0x7048ce3b4520>,\n",
       " <matplotlib.axis.XTick at 0x7048ccb3bb20>,\n",
       " <matplotlib.axis.XTick at 0x7048ccb31880>,\n",
       " <matplotlib.axis.XTick at 0x7048ccb319a0>,\n",
       " <matplotlib.axis.XTick at 0x7048ccac3d00>,\n",
       " <matplotlib.axis.XTick at 0x7048ccacc520>,\n",
       " <matplotlib.axis.XTick at 0x7048ccaccd00>,\n",
       " <matplotlib.axis.XTick at 0x7048ccacc3a0>]"
      ]
     },
     "execution_count": 26,
     "metadata": {},
     "output_type": "execute_result"
    },
    {
     "data": {
      "text/plain": [
       "[Text(0, 0, '[CLS]'),\n",
       " Text(1, 0, 'Hu'),\n",
       " Text(2, 0, '##gging'),\n",
       " Text(3, 0, 'Face'),\n",
       " Text(4, 0, 'transform'),\n",
       " Text(5, 0, '##ers'),\n",
       " Text(6, 0, 'is'),\n",
       " Text(7, 0, 'great'),\n",
       " Text(8, 0, '!'),\n",
       " Text(9, 0, '[SEP]')]"
      ]
     },
     "execution_count": 26,
     "metadata": {},
     "output_type": "execute_result"
    },
    {
     "data": {
      "text/plain": [
       "[<matplotlib.axis.YTick at 0x7048ce430190>,\n",
       " <matplotlib.axis.YTick at 0x7048ce3be3d0>,\n",
       " <matplotlib.axis.YTick at 0x7048ce3b48b0>,\n",
       " <matplotlib.axis.YTick at 0x7048ccad2970>,\n",
       " <matplotlib.axis.YTick at 0x7048ccad73a0>,\n",
       " <matplotlib.axis.YTick at 0x7048ccad7c70>,\n",
       " <matplotlib.axis.YTick at 0x7048ccae0490>,\n",
       " <matplotlib.axis.YTick at 0x7048ccad7d30>,\n",
       " <matplotlib.axis.YTick at 0x7048ccacce80>,\n",
       " <matplotlib.axis.YTick at 0x7048ccb05970>]"
      ]
     },
     "execution_count": 26,
     "metadata": {},
     "output_type": "execute_result"
    },
    {
     "data": {
      "text/plain": [
       "[Text(0, 0, '[CLS]'),\n",
       " Text(0, 1, 'Hu'),\n",
       " Text(0, 2, '##gging'),\n",
       " Text(0, 3, 'Face'),\n",
       " Text(0, 4, 'transform'),\n",
       " Text(0, 5, '##ers'),\n",
       " Text(0, 6, 'is'),\n",
       " Text(0, 7, 'great'),\n",
       " Text(0, 8, '!'),\n",
       " Text(0, 9, '[SEP]')]"
      ]
     },
     "execution_count": 26,
     "metadata": {},
     "output_type": "execute_result"
    },
    {
     "data": {
      "text/plain": [
       "<matplotlib.image.AxesImage at 0x7048ccb2aeb0>"
      ]
     },
     "execution_count": 26,
     "metadata": {},
     "output_type": "execute_result"
    },
    {
     "data": {
      "text/plain": [
       "[<matplotlib.axis.XTick at 0x7048ce3718e0>,\n",
       " <matplotlib.axis.XTick at 0x7048ce3718b0>,\n",
       " <matplotlib.axis.XTick at 0x7048ce371100>,\n",
       " <matplotlib.axis.XTick at 0x7048ccae0d00>,\n",
       " <matplotlib.axis.XTick at 0x7048ccaeb880>,\n",
       " <matplotlib.axis.XTick at 0x7048ccaeb970>,\n",
       " <matplotlib.axis.XTick at 0x7048ccaf5a90>,\n",
       " <matplotlib.axis.XTick at 0x7048ccaeb130>,\n",
       " <matplotlib.axis.XTick at 0x7048ccaf5eb0>,\n",
       " <matplotlib.axis.XTick at 0x7048ccafd6d0>]"
      ]
     },
     "execution_count": 26,
     "metadata": {},
     "output_type": "execute_result"
    },
    {
     "data": {
      "text/plain": [
       "[Text(0, 0, '[CLS]'),\n",
       " Text(1, 0, 'Hu'),\n",
       " Text(2, 0, '##gging'),\n",
       " Text(3, 0, 'Face'),\n",
       " Text(4, 0, 'transform'),\n",
       " Text(5, 0, '##ers'),\n",
       " Text(6, 0, 'is'),\n",
       " Text(7, 0, 'great'),\n",
       " Text(8, 0, '!'),\n",
       " Text(9, 0, '[SEP]')]"
      ]
     },
     "execution_count": 26,
     "metadata": {},
     "output_type": "execute_result"
    },
    {
     "data": {
      "text/plain": [
       "[<matplotlib.axis.YTick at 0x7048ce37a610>,\n",
       " <matplotlib.axis.YTick at 0x7048ce371f70>,\n",
       " <matplotlib.axis.YTick at 0x7048ce371490>,\n",
       " <matplotlib.axis.YTick at 0x7048ccafd250>,\n",
       " <matplotlib.axis.YTick at 0x7048cca85940>,\n",
       " <matplotlib.axis.YTick at 0x7048ccafd0a0>,\n",
       " <matplotlib.axis.YTick at 0x7048cca898e0>,\n",
       " <matplotlib.axis.YTick at 0x7048cca89070>,\n",
       " <matplotlib.axis.YTick at 0x7048cca899a0>,\n",
       " <matplotlib.axis.YTick at 0x7048ccaeb310>]"
      ]
     },
     "execution_count": 26,
     "metadata": {},
     "output_type": "execute_result"
    },
    {
     "data": {
      "text/plain": [
       "[Text(0, 0, '[CLS]'),\n",
       " Text(0, 1, 'Hu'),\n",
       " Text(0, 2, '##gging'),\n",
       " Text(0, 3, 'Face'),\n",
       " Text(0, 4, 'transform'),\n",
       " Text(0, 5, '##ers'),\n",
       " Text(0, 6, 'is'),\n",
       " Text(0, 7, 'great'),\n",
       " Text(0, 8, '!'),\n",
       " Text(0, 9, '[SEP]')]"
      ]
     },
     "execution_count": 26,
     "metadata": {},
     "output_type": "execute_result"
    },
    {
     "data": {
      "text/plain": [
       "<matplotlib.image.AxesImage at 0x7048cca90ca0>"
      ]
     },
     "execution_count": 26,
     "metadata": {},
     "output_type": "execute_result"
    },
    {
     "data": {
      "text/plain": [
       "[<matplotlib.axis.XTick at 0x7048ce32c670>,\n",
       " <matplotlib.axis.XTick at 0x7048ce32c640>,\n",
       " <matplotlib.axis.XTick at 0x7048ce320df0>,\n",
       " <matplotlib.axis.XTick at 0x7048cca988e0>,\n",
       " <matplotlib.axis.XTick at 0x7048cca98070>,\n",
       " <matplotlib.axis.XTick at 0x7048cca90730>,\n",
       " <matplotlib.axis.XTick at 0x7048ccaa1970>,\n",
       " <matplotlib.axis.XTick at 0x7048ccaa11f0>,\n",
       " <matplotlib.axis.XTick at 0x7048ccaa1820>,\n",
       " <matplotlib.axis.XTick at 0x7048ccaa9f70>]"
      ]
     },
     "execution_count": 26,
     "metadata": {},
     "output_type": "execute_result"
    },
    {
     "data": {
      "text/plain": [
       "[Text(0, 0, '[CLS]'),\n",
       " Text(1, 0, 'Hu'),\n",
       " Text(2, 0, '##gging'),\n",
       " Text(3, 0, 'Face'),\n",
       " Text(4, 0, 'transform'),\n",
       " Text(5, 0, '##ers'),\n",
       " Text(6, 0, 'is'),\n",
       " Text(7, 0, 'great'),\n",
       " Text(8, 0, '!'),\n",
       " Text(9, 0, '[SEP]')]"
      ]
     },
     "execution_count": 26,
     "metadata": {},
     "output_type": "execute_result"
    },
    {
     "data": {
      "text/plain": [
       "[<matplotlib.axis.YTick at 0x7048ce3342b0>,\n",
       " <matplotlib.axis.YTick at 0x7048ce32cd00>,\n",
       " <matplotlib.axis.YTick at 0x7048ce32c220>,\n",
       " <matplotlib.axis.YTick at 0x7048ccaaf460>,\n",
       " <matplotlib.axis.YTick at 0x7048ccaaff10>,\n",
       " <matplotlib.axis.YTick at 0x7048ccab5880>,\n",
       " <matplotlib.axis.YTick at 0x7048ccab5fd0>,\n",
       " <matplotlib.axis.YTick at 0x7048ccab5370>,\n",
       " <matplotlib.axis.YTick at 0x7048ccaa9dc0>,\n",
       " <matplotlib.axis.YTick at 0x7048ccabdb80>]"
      ]
     },
     "execution_count": 26,
     "metadata": {},
     "output_type": "execute_result"
    },
    {
     "data": {
      "text/plain": [
       "[Text(0, 0, '[CLS]'),\n",
       " Text(0, 1, 'Hu'),\n",
       " Text(0, 2, '##gging'),\n",
       " Text(0, 3, 'Face'),\n",
       " Text(0, 4, 'transform'),\n",
       " Text(0, 5, '##ers'),\n",
       " Text(0, 6, 'is'),\n",
       " Text(0, 7, 'great'),\n",
       " Text(0, 8, '!'),\n",
       " Text(0, 9, '[SEP]')]"
      ]
     },
     "execution_count": 26,
     "metadata": {},
     "output_type": "execute_result"
    },
    {
     "data": {
      "text/plain": [
       "<matplotlib.image.AxesImage at 0x7048ccab5c70>"
      ]
     },
     "execution_count": 26,
     "metadata": {},
     "output_type": "execute_result"
    },
    {
     "data": {
      "text/plain": [
       "[<matplotlib.axis.XTick at 0x7048ce2e94c0>,\n",
       " <matplotlib.axis.XTick at 0x7048ce2e9490>,\n",
       " <matplotlib.axis.XTick at 0x7048ce2dec40>,\n",
       " <matplotlib.axis.XTick at 0x7048cca98670>,\n",
       " <matplotlib.axis.XTick at 0x7048cca47cd0>,\n",
       " <matplotlib.axis.XTick at 0x7048cca48970>,\n",
       " <matplotlib.axis.XTick at 0x7048cca481f0>,\n",
       " <matplotlib.axis.XTick at 0x7048cca48c10>,\n",
       " <matplotlib.axis.XTick at 0x7048cca479d0>,\n",
       " <matplotlib.axis.XTick at 0x7048cca57cd0>]"
      ]
     },
     "execution_count": 26,
     "metadata": {},
     "output_type": "execute_result"
    },
    {
     "data": {
      "text/plain": [
       "[Text(0, 0, '[CLS]'),\n",
       " Text(1, 0, 'Hu'),\n",
       " Text(2, 0, '##gging'),\n",
       " Text(3, 0, 'Face'),\n",
       " Text(4, 0, 'transform'),\n",
       " Text(5, 0, '##ers'),\n",
       " Text(6, 0, 'is'),\n",
       " Text(7, 0, 'great'),\n",
       " Text(8, 0, '!'),\n",
       " Text(9, 0, '[SEP]')]"
      ]
     },
     "execution_count": 26,
     "metadata": {},
     "output_type": "execute_result"
    },
    {
     "data": {
      "text/plain": [
       "[<matplotlib.axis.YTick at 0x7048ce2f10d0>,\n",
       " <matplotlib.axis.YTick at 0x7048ce2e9b50>,\n",
       " <matplotlib.axis.YTick at 0x7048ce2e9250>,\n",
       " <matplotlib.axis.YTick at 0x7048cca5ff10>,\n",
       " <matplotlib.axis.YTick at 0x7048cca67a00>,\n",
       " <matplotlib.axis.YTick at 0x7048cca576a0>,\n",
       " <matplotlib.axis.YTick at 0x7048cca67cd0>,\n",
       " <matplotlib.axis.YTick at 0x7048cca6d4f0>,\n",
       " <matplotlib.axis.YTick at 0x7048cca6dcd0>,\n",
       " <matplotlib.axis.YTick at 0x7048cca744f0>]"
      ]
     },
     "execution_count": 26,
     "metadata": {},
     "output_type": "execute_result"
    },
    {
     "data": {
      "text/plain": [
       "[Text(0, 0, '[CLS]'),\n",
       " Text(0, 1, 'Hu'),\n",
       " Text(0, 2, '##gging'),\n",
       " Text(0, 3, 'Face'),\n",
       " Text(0, 4, 'transform'),\n",
       " Text(0, 5, '##ers'),\n",
       " Text(0, 6, 'is'),\n",
       " Text(0, 7, 'great'),\n",
       " Text(0, 8, '!'),\n",
       " Text(0, 9, '[SEP]')]"
      ]
     },
     "execution_count": 26,
     "metadata": {},
     "output_type": "execute_result"
    },
    {
     "data": {
      "text/plain": [
       "<matplotlib.image.AxesImage at 0x7048ccaaf760>"
      ]
     },
     "execution_count": 26,
     "metadata": {},
     "output_type": "execute_result"
    },
    {
     "data": {
      "text/plain": [
       "[<matplotlib.axis.XTick at 0x7048ce2e9ca0>,\n",
       " <matplotlib.axis.XTick at 0x7048ce2a42b0>,\n",
       " <matplotlib.axis.XTick at 0x7048ce29aac0>,\n",
       " <matplotlib.axis.XTick at 0x7048cca74c10>,\n",
       " <matplotlib.axis.XTick at 0x7048cca79700>,\n",
       " <matplotlib.axis.XTick at 0x7048cca79fa0>,\n",
       " <matplotlib.axis.XTick at 0x7048cc7c4820>,\n",
       " <matplotlib.axis.XTick at 0x7048cca5f6d0>,\n",
       " <matplotlib.axis.XTick at 0x7048ccaa10d0>,\n",
       " <matplotlib.axis.XTick at 0x7048cc7c4c10>]"
      ]
     },
     "execution_count": 26,
     "metadata": {},
     "output_type": "execute_result"
    },
    {
     "data": {
      "text/plain": [
       "[Text(0, 0, '[CLS]'),\n",
       " Text(1, 0, 'Hu'),\n",
       " Text(2, 0, '##gging'),\n",
       " Text(3, 0, 'Face'),\n",
       " Text(4, 0, 'transform'),\n",
       " Text(5, 0, '##ers'),\n",
       " Text(6, 0, 'is'),\n",
       " Text(7, 0, 'great'),\n",
       " Text(8, 0, '!'),\n",
       " Text(9, 0, '[SEP]')]"
      ]
     },
     "execution_count": 26,
     "metadata": {},
     "output_type": "execute_result"
    },
    {
     "data": {
      "text/plain": [
       "[<matplotlib.axis.YTick at 0x7048ce2a4c70>,\n",
       " <matplotlib.axis.YTick at 0x7048ce32cee0>,\n",
       " <matplotlib.axis.YTick at 0x7048ce29adf0>,\n",
       " <matplotlib.axis.YTick at 0x7048cca74820>,\n",
       " <matplotlib.axis.YTick at 0x7048cc7cfe80>,\n",
       " <matplotlib.axis.YTick at 0x7048cc7cff70>,\n",
       " <matplotlib.axis.YTick at 0x7048cc7d3e80>,\n",
       " <matplotlib.axis.YTick at 0x7048cc7dd6a0>,\n",
       " <matplotlib.axis.YTick at 0x7048cc7d3f40>,\n",
       " <matplotlib.axis.YTick at 0x7048cc7dd850>]"
      ]
     },
     "execution_count": 26,
     "metadata": {},
     "output_type": "execute_result"
    },
    {
     "data": {
      "text/plain": [
       "[Text(0, 0, '[CLS]'),\n",
       " Text(0, 1, 'Hu'),\n",
       " Text(0, 2, '##gging'),\n",
       " Text(0, 3, 'Face'),\n",
       " Text(0, 4, 'transform'),\n",
       " Text(0, 5, '##ers'),\n",
       " Text(0, 6, 'is'),\n",
       " Text(0, 7, 'great'),\n",
       " Text(0, 8, '!'),\n",
       " Text(0, 9, '[SEP]')]"
      ]
     },
     "execution_count": 26,
     "metadata": {},
     "output_type": "execute_result"
    },
    {
     "data": {
      "text/plain": [
       "<matplotlib.image.AxesImage at 0x7048cc7e8130>"
      ]
     },
     "execution_count": 26,
     "metadata": {},
     "output_type": "execute_result"
    },
    {
     "data": {
      "text/plain": [
       "[<matplotlib.axis.XTick at 0x7048ce257e80>,\n",
       " <matplotlib.axis.XTick at 0x7048ce257e50>,\n",
       " <matplotlib.axis.XTick at 0x7048ce2576a0>,\n",
       " <matplotlib.axis.XTick at 0x7048cc7e8e80>,\n",
       " <matplotlib.axis.XTick at 0x7048cc7e8ac0>,\n",
       " <matplotlib.axis.XTick at 0x7048cc7ddaf0>,\n",
       " <matplotlib.axis.XTick at 0x7048cc7eee20>,\n",
       " <matplotlib.axis.XTick at 0x7048cc7f5640>,\n",
       " <matplotlib.axis.XTick at 0x7048cc7f5e20>,\n",
       " <matplotlib.axis.XTick at 0x7048cc7f5790>]"
      ]
     },
     "execution_count": 26,
     "metadata": {},
     "output_type": "execute_result"
    },
    {
     "data": {
      "text/plain": [
       "[Text(0, 0, '[CLS]'),\n",
       " Text(1, 0, 'Hu'),\n",
       " Text(2, 0, '##gging'),\n",
       " Text(3, 0, 'Face'),\n",
       " Text(4, 0, 'transform'),\n",
       " Text(5, 0, '##ers'),\n",
       " Text(6, 0, 'is'),\n",
       " Text(7, 0, 'great'),\n",
       " Text(8, 0, '!'),\n",
       " Text(9, 0, '[SEP]')]"
      ]
     },
     "execution_count": 26,
     "metadata": {},
     "output_type": "execute_result"
    },
    {
     "data": {
      "text/plain": [
       "[<matplotlib.axis.YTick at 0x7048ce260bb0>,\n",
       " <matplotlib.axis.YTick at 0x7048ce260550>,\n",
       " <matplotlib.axis.YTick at 0x7048ce257a30>,\n",
       " <matplotlib.axis.YTick at 0x7048cc7fbbe0>,\n",
       " <matplotlib.axis.YTick at 0x7048cc787760>,\n",
       " <matplotlib.axis.YTick at 0x7048cc787eb0>,\n",
       " <matplotlib.axis.YTick at 0x7048cc7879a0>,\n",
       " <matplotlib.axis.YTick at 0x7048cc7f5430>,\n",
       " <matplotlib.axis.YTick at 0x7048cc787a60>,\n",
       " <matplotlib.axis.YTick at 0x7048cc789f40>]"
      ]
     },
     "execution_count": 26,
     "metadata": {},
     "output_type": "execute_result"
    },
    {
     "data": {
      "text/plain": [
       "[Text(0, 0, '[CLS]'),\n",
       " Text(0, 1, 'Hu'),\n",
       " Text(0, 2, '##gging'),\n",
       " Text(0, 3, 'Face'),\n",
       " Text(0, 4, 'transform'),\n",
       " Text(0, 5, '##ers'),\n",
       " Text(0, 6, 'is'),\n",
       " Text(0, 7, 'great'),\n",
       " Text(0, 8, '!'),\n",
       " Text(0, 9, '[SEP]')]"
      ]
     },
     "execution_count": 26,
     "metadata": {},
     "output_type": "execute_result"
    },
    {
     "data": {
      "text/plain": [
       "<matplotlib.image.AxesImage at 0x7048cc7e8c70>"
      ]
     },
     "execution_count": 26,
     "metadata": {},
     "output_type": "execute_result"
    },
    {
     "data": {
      "text/plain": [
       "[<matplotlib.axis.XTick at 0x7048cdf90ca0>,\n",
       " <matplotlib.axis.XTick at 0x7048cdf90c70>,\n",
       " <matplotlib.axis.XTick at 0x7048cdf904c0>,\n",
       " <matplotlib.axis.XTick at 0x7048cc792d30>,\n",
       " <matplotlib.axis.XTick at 0x7048cc79a8b0>,\n",
       " <matplotlib.axis.XTick at 0x7048cc79a9a0>,\n",
       " <matplotlib.axis.XTick at 0x7048cc7a2a60>,\n",
       " <matplotlib.axis.XTick at 0x7048cc79a220>,\n",
       " <matplotlib.axis.XTick at 0x7048cc7a2ee0>,\n",
       " <matplotlib.axis.XTick at 0x7048cc792610>]"
      ]
     },
     "execution_count": 26,
     "metadata": {},
     "output_type": "execute_result"
    },
    {
     "data": {
      "text/plain": [
       "[Text(0, 0, '[CLS]'),\n",
       " Text(1, 0, 'Hu'),\n",
       " Text(2, 0, '##gging'),\n",
       " Text(3, 0, 'Face'),\n",
       " Text(4, 0, 'transform'),\n",
       " Text(5, 0, '##ers'),\n",
       " Text(6, 0, 'is'),\n",
       " Text(7, 0, 'great'),\n",
       " Text(8, 0, '!'),\n",
       " Text(9, 0, '[SEP]')]"
      ]
     },
     "execution_count": 26,
     "metadata": {},
     "output_type": "execute_result"
    },
    {
     "data": {
      "text/plain": [
       "[<matplotlib.axis.YTick at 0x7048cdf9a9d0>,\n",
       " <matplotlib.axis.YTick at 0x7048cdf9a370>,\n",
       " <matplotlib.axis.YTick at 0x7048cdf90850>,\n",
       " <matplotlib.axis.YTick at 0x7048cc7b6820>,\n",
       " <matplotlib.axis.YTick at 0x7048cc7ab2e0>,\n",
       " <matplotlib.axis.YTick at 0x7048cc7ab190>,\n",
       " <matplotlib.axis.YTick at 0x7048cc7b87f0>,\n",
       " <matplotlib.axis.YTick at 0x7048cc7b8fd0>,\n",
       " <matplotlib.axis.YTick at 0x7048cc7bf7f0>,\n",
       " <matplotlib.axis.YTick at 0x7048cc7b8a90>]"
      ]
     },
     "execution_count": 26,
     "metadata": {},
     "output_type": "execute_result"
    },
    {
     "data": {
      "text/plain": [
       "[Text(0, 0, '[CLS]'),\n",
       " Text(0, 1, 'Hu'),\n",
       " Text(0, 2, '##gging'),\n",
       " Text(0, 3, 'Face'),\n",
       " Text(0, 4, 'transform'),\n",
       " Text(0, 5, '##ers'),\n",
       " Text(0, 6, 'is'),\n",
       " Text(0, 7, 'great'),\n",
       " Text(0, 8, '!'),\n",
       " Text(0, 9, '[SEP]')]"
      ]
     },
     "execution_count": 26,
     "metadata": {},
     "output_type": "execute_result"
    },
    {
     "data": {
      "text/plain": [
       "[Text(0, 0.5, 'layer=4')]"
      ]
     },
     "execution_count": 26,
     "metadata": {},
     "output_type": "execute_result"
    },
    {
     "data": {
      "text/plain": [
       "<matplotlib.image.AxesImage at 0x7048cc7b61c0>"
      ]
     },
     "execution_count": 26,
     "metadata": {},
     "output_type": "execute_result"
    },
    {
     "data": {
      "text/plain": [
       "[<matplotlib.axis.XTick at 0x7048cdf4d9a0>,\n",
       " <matplotlib.axis.XTick at 0x7048cdf4d970>,\n",
       " <matplotlib.axis.XTick at 0x7048cdf4d1c0>,\n",
       " <matplotlib.axis.XTick at 0x7048cc751790>,\n",
       " <matplotlib.axis.XTick at 0x7048cc74b280>,\n",
       " <matplotlib.axis.XTick at 0x7048cc74bb80>,\n",
       " <matplotlib.axis.XTick at 0x7048cc7510d0>,\n",
       " <matplotlib.axis.XTick at 0x7048cc74bc40>,\n",
       " <matplotlib.axis.XTick at 0x7048cc759820>,\n",
       " <matplotlib.axis.XTick at 0x7048cc759040>]"
      ]
     },
     "execution_count": 26,
     "metadata": {},
     "output_type": "execute_result"
    },
    {
     "data": {
      "text/plain": [
       "[Text(0, 0, '[CLS]'),\n",
       " Text(1, 0, 'Hu'),\n",
       " Text(2, 0, '##gging'),\n",
       " Text(3, 0, 'Face'),\n",
       " Text(4, 0, 'transform'),\n",
       " Text(5, 0, '##ers'),\n",
       " Text(6, 0, 'is'),\n",
       " Text(7, 0, 'great'),\n",
       " Text(8, 0, '!'),\n",
       " Text(9, 0, '[SEP]')]"
      ]
     },
     "execution_count": 26,
     "metadata": {},
     "output_type": "execute_result"
    },
    {
     "data": {
      "text/plain": [
       "[<matplotlib.axis.YTick at 0x7048cdf576d0>,\n",
       " <matplotlib.axis.YTick at 0x7048cdf57070>,\n",
       " <matplotlib.axis.YTick at 0x7048cdf4d550>,\n",
       " <matplotlib.axis.YTick at 0x7048cc74b8e0>,\n",
       " <matplotlib.axis.YTick at 0x7048cc760d30>,\n",
       " <matplotlib.axis.YTick at 0x7048cc7649d0>,\n",
       " <matplotlib.axis.YTick at 0x7048cc764250>,\n",
       " <matplotlib.axis.YTick at 0x7048cc764b50>,\n",
       " <matplotlib.axis.YTick at 0x7048cc759ca0>,\n",
       " <matplotlib.axis.YTick at 0x7048cc7647f0>]"
      ]
     },
     "execution_count": 26,
     "metadata": {},
     "output_type": "execute_result"
    },
    {
     "data": {
      "text/plain": [
       "[Text(0, 0, '[CLS]'),\n",
       " Text(0, 1, 'Hu'),\n",
       " Text(0, 2, '##gging'),\n",
       " Text(0, 3, 'Face'),\n",
       " Text(0, 4, 'transform'),\n",
       " Text(0, 5, '##ers'),\n",
       " Text(0, 6, 'is'),\n",
       " Text(0, 7, 'great'),\n",
       " Text(0, 8, '!'),\n",
       " Text(0, 9, '[SEP]')]"
      ]
     },
     "execution_count": 26,
     "metadata": {},
     "output_type": "execute_result"
    },
    {
     "data": {
      "text/plain": [
       "<matplotlib.image.AxesImage at 0x7048cc76eac0>"
      ]
     },
     "execution_count": 26,
     "metadata": {},
     "output_type": "execute_result"
    },
    {
     "data": {
      "text/plain": [
       "[<matplotlib.axis.XTick at 0x7048cdf09460>,\n",
       " <matplotlib.axis.XTick at 0x7048cdf09430>,\n",
       " <matplotlib.axis.XTick at 0x7048cdf6f700>,\n",
       " <matplotlib.axis.XTick at 0x7048cc76ef10>,\n",
       " <matplotlib.axis.XTick at 0x7048cc77d9a0>,\n",
       " <matplotlib.axis.XTick at 0x7048cc77df70>,\n",
       " <matplotlib.axis.XTick at 0x7048cc701b80>,\n",
       " <matplotlib.axis.XTick at 0x7048cc701970>,\n",
       " <matplotlib.axis.XTick at 0x7048cc759190>,\n",
       " <matplotlib.axis.XTick at 0x7048cc709700>]"
      ]
     },
     "execution_count": 26,
     "metadata": {},
     "output_type": "execute_result"
    },
    {
     "data": {
      "text/plain": [
       "[Text(0, 0, '[CLS]'),\n",
       " Text(1, 0, 'Hu'),\n",
       " Text(2, 0, '##gging'),\n",
       " Text(3, 0, 'Face'),\n",
       " Text(4, 0, 'transform'),\n",
       " Text(5, 0, '##ers'),\n",
       " Text(6, 0, 'is'),\n",
       " Text(7, 0, 'great'),\n",
       " Text(8, 0, '!'),\n",
       " Text(9, 0, '[SEP]')]"
      ]
     },
     "execution_count": 26,
     "metadata": {},
     "output_type": "execute_result"
    },
    {
     "data": {
      "text/plain": [
       "[<matplotlib.axis.YTick at 0x7048cdf13190>,\n",
       " <matplotlib.axis.YTick at 0x7048cdf09af0>,\n",
       " <matplotlib.axis.YTick at 0x7048cdf7cf70>,\n",
       " <matplotlib.axis.YTick at 0x7048cc713880>,\n",
       " <matplotlib.axis.YTick at 0x7048cc714310>,\n",
       " <matplotlib.axis.YTick at 0x7048cc709a30>,\n",
       " <matplotlib.axis.YTick at 0x7048cc709cd0>,\n",
       " <matplotlib.axis.YTick at 0x7048cc714ca0>,\n",
       " <matplotlib.axis.YTick at 0x7048cc7204c0>,\n",
       " <matplotlib.axis.YTick at 0x7048cc720ca0>]"
      ]
     },
     "execution_count": 26,
     "metadata": {},
     "output_type": "execute_result"
    },
    {
     "data": {
      "text/plain": [
       "[Text(0, 0, '[CLS]'),\n",
       " Text(0, 1, 'Hu'),\n",
       " Text(0, 2, '##gging'),\n",
       " Text(0, 3, 'Face'),\n",
       " Text(0, 4, 'transform'),\n",
       " Text(0, 5, '##ers'),\n",
       " Text(0, 6, 'is'),\n",
       " Text(0, 7, 'great'),\n",
       " Text(0, 8, '!'),\n",
       " Text(0, 9, '[SEP]')]"
      ]
     },
     "execution_count": 26,
     "metadata": {},
     "output_type": "execute_result"
    },
    {
     "data": {
      "text/plain": [
       "<matplotlib.image.AxesImage at 0x7048cc7207f0>"
      ]
     },
     "execution_count": 26,
     "metadata": {},
     "output_type": "execute_result"
    },
    {
     "data": {
      "text/plain": [
       "[<matplotlib.axis.XTick at 0x7048cdec5280>,\n",
       " <matplotlib.axis.XTick at 0x7048cdec5250>,\n",
       " <matplotlib.axis.XTick at 0x7048cdf3aa60>,\n",
       " <matplotlib.axis.XTick at 0x7048cc7264c0>,\n",
       " <matplotlib.axis.XTick at 0x7048cc726ca0>,\n",
       " <matplotlib.axis.XTick at 0x7048cc72a8e0>,\n",
       " <matplotlib.axis.XTick at 0x7048cc72a8b0>,\n",
       " <matplotlib.axis.XTick at 0x7048cc72aa90>,\n",
       " <matplotlib.axis.XTick at 0x7048cc709250>,\n",
       " <matplotlib.axis.XTick at 0x7048cc735b50>]"
      ]
     },
     "execution_count": 26,
     "metadata": {},
     "output_type": "execute_result"
    },
    {
     "data": {
      "text/plain": [
       "[Text(0, 0, '[CLS]'),\n",
       " Text(1, 0, 'Hu'),\n",
       " Text(2, 0, '##gging'),\n",
       " Text(3, 0, 'Face'),\n",
       " Text(4, 0, 'transform'),\n",
       " Text(5, 0, '##ers'),\n",
       " Text(6, 0, 'is'),\n",
       " Text(7, 0, 'great'),\n",
       " Text(8, 0, '!'),\n",
       " Text(9, 0, '[SEP]')]"
      ]
     },
     "execution_count": 26,
     "metadata": {},
     "output_type": "execute_result"
    },
    {
     "data": {
      "text/plain": [
       "[<matplotlib.axis.YTick at 0x7048cdec5f70>,\n",
       " <matplotlib.axis.YTick at 0x7048cdec5910>,\n",
       " <matplotlib.axis.YTick at 0x7048cdf3adf0>,\n",
       " <matplotlib.axis.YTick at 0x7048cc73fee0>,\n",
       " <matplotlib.axis.YTick at 0x7048cc7358b0>,\n",
       " <matplotlib.axis.YTick at 0x7048cc735940>,\n",
       " <matplotlib.axis.YTick at 0x7048cc6c4e20>,\n",
       " <matplotlib.axis.YTick at 0x7048cc6cc5e0>,\n",
       " <matplotlib.axis.YTick at 0x7048cc6ccdc0>,\n",
       " <matplotlib.axis.YTick at 0x7048cc6cc970>]"
      ]
     },
     "execution_count": 26,
     "metadata": {},
     "output_type": "execute_result"
    },
    {
     "data": {
      "text/plain": [
       "[Text(0, 0, '[CLS]'),\n",
       " Text(0, 1, 'Hu'),\n",
       " Text(0, 2, '##gging'),\n",
       " Text(0, 3, 'Face'),\n",
       " Text(0, 4, 'transform'),\n",
       " Text(0, 5, '##ers'),\n",
       " Text(0, 6, 'is'),\n",
       " Text(0, 7, 'great'),\n",
       " Text(0, 8, '!'),\n",
       " Text(0, 9, '[SEP]')]"
      ]
     },
     "execution_count": 26,
     "metadata": {},
     "output_type": "execute_result"
    },
    {
     "data": {
      "text/plain": [
       "<matplotlib.image.AxesImage at 0x7048cc726250>"
      ]
     },
     "execution_count": 26,
     "metadata": {},
     "output_type": "execute_result"
    },
    {
     "data": {
      "text/plain": [
       "[<matplotlib.axis.XTick at 0x7048cdef6f40>,\n",
       " <matplotlib.axis.XTick at 0x7048cdef6f10>,\n",
       " <matplotlib.axis.XTick at 0x7048cdef6760>,\n",
       " <matplotlib.axis.XTick at 0x7048cc6d4c70>,\n",
       " <matplotlib.axis.XTick at 0x7048cc6e0760>,\n",
       " <matplotlib.axis.XTick at 0x7048cc6e0850>,\n",
       " <matplotlib.axis.XTick at 0x7048cc6e0d30>,\n",
       " <matplotlib.axis.XTick at 0x7048cc6cc0d0>,\n",
       " <matplotlib.axis.XTick at 0x7048cc6e4c40>,\n",
       " <matplotlib.axis.XTick at 0x7048cc6ee460>]"
      ]
     },
     "execution_count": 26,
     "metadata": {},
     "output_type": "execute_result"
    },
    {
     "data": {
      "text/plain": [
       "[Text(0, 0, '[CLS]'),\n",
       " Text(1, 0, 'Hu'),\n",
       " Text(2, 0, '##gging'),\n",
       " Text(3, 0, 'Face'),\n",
       " Text(4, 0, 'transform'),\n",
       " Text(5, 0, '##ers'),\n",
       " Text(6, 0, 'is'),\n",
       " Text(7, 0, 'great'),\n",
       " Text(8, 0, '!'),\n",
       " Text(9, 0, '[SEP]')]"
      ]
     },
     "execution_count": 26,
     "metadata": {},
     "output_type": "execute_result"
    },
    {
     "data": {
      "text/plain": [
       "[<matplotlib.axis.YTick at 0x7048cde40c70>,\n",
       " <matplotlib.axis.YTick at 0x7048cde40610>,\n",
       " <matplotlib.axis.YTick at 0x7048cdef6af0>,\n",
       " <matplotlib.axis.YTick at 0x7048cc6ee6d0>,\n",
       " <matplotlib.axis.YTick at 0x7048cc6f2460>,\n",
       " <matplotlib.axis.YTick at 0x7048cc6f2d60>,\n",
       " <matplotlib.axis.YTick at 0x7048cc6fa580>,\n",
       " <matplotlib.axis.YTick at 0x7048cc6fad60>,\n",
       " <matplotlib.axis.YTick at 0x7048cc6d4580>,\n",
       " <matplotlib.axis.YTick at 0x7048cc6faf10>]"
      ]
     },
     "execution_count": 26,
     "metadata": {},
     "output_type": "execute_result"
    },
    {
     "data": {
      "text/plain": [
       "[Text(0, 0, '[CLS]'),\n",
       " Text(0, 1, 'Hu'),\n",
       " Text(0, 2, '##gging'),\n",
       " Text(0, 3, 'Face'),\n",
       " Text(0, 4, 'transform'),\n",
       " Text(0, 5, '##ers'),\n",
       " Text(0, 6, 'is'),\n",
       " Text(0, 7, 'great'),\n",
       " Text(0, 8, '!'),\n",
       " Text(0, 9, '[SEP]')]"
      ]
     },
     "execution_count": 26,
     "metadata": {},
     "output_type": "execute_result"
    },
    {
     "data": {
      "text/plain": [
       "<matplotlib.image.AxesImage at 0x7048cc684940>"
      ]
     },
     "execution_count": 26,
     "metadata": {},
     "output_type": "execute_result"
    },
    {
     "data": {
      "text/plain": [
       "[<matplotlib.axis.XTick at 0x7048cde72d60>,\n",
       " <matplotlib.axis.XTick at 0x7048cde72d30>,\n",
       " <matplotlib.axis.XTick at 0x7048cde72580>,\n",
       " <matplotlib.axis.XTick at 0x7048cc689580>,\n",
       " <matplotlib.axis.XTick at 0x7048cc6840d0>,\n",
       " <matplotlib.axis.XTick at 0x7048cc6fa7c0>,\n",
       " <matplotlib.axis.XTick at 0x7048cc695670>,\n",
       " <matplotlib.axis.XTick at 0x7048cc695e50>,\n",
       " <matplotlib.axis.XTick at 0x7048cc69b670>,\n",
       " <matplotlib.axis.XTick at 0x7048cc6958b0>]"
      ]
     },
     "execution_count": 26,
     "metadata": {},
     "output_type": "execute_result"
    },
    {
     "data": {
      "text/plain": [
       "[Text(0, 0, '[CLS]'),\n",
       " Text(1, 0, 'Hu'),\n",
       " Text(2, 0, '##gging'),\n",
       " Text(3, 0, 'Face'),\n",
       " Text(4, 0, 'transform'),\n",
       " Text(5, 0, '##ers'),\n",
       " Text(6, 0, 'is'),\n",
       " Text(7, 0, 'great'),\n",
       " Text(8, 0, '!'),\n",
       " Text(9, 0, '[SEP]')]"
      ]
     },
     "execution_count": 26,
     "metadata": {},
     "output_type": "execute_result"
    },
    {
     "data": {
      "text/plain": [
       "[<matplotlib.axis.YTick at 0x7048cde72f70>,\n",
       " <matplotlib.axis.YTick at 0x7048cde72f40>,\n",
       " <matplotlib.axis.YTick at 0x7048cde72910>,\n",
       " <matplotlib.axis.YTick at 0x7048cc7091f0>,\n",
       " <matplotlib.axis.YTick at 0x7048cc6a5370>,\n",
       " <matplotlib.axis.YTick at 0x7048cc6a5c70>,\n",
       " <matplotlib.axis.YTick at 0x7048cc6aa5e0>,\n",
       " <matplotlib.axis.YTick at 0x7048cc6a55e0>,\n",
       " <matplotlib.axis.YTick at 0x7048cc689cd0>,\n",
       " <matplotlib.axis.YTick at 0x7048cc6aad30>]"
      ]
     },
     "execution_count": 26,
     "metadata": {},
     "output_type": "execute_result"
    },
    {
     "data": {
      "text/plain": [
       "[Text(0, 0, '[CLS]'),\n",
       " Text(0, 1, 'Hu'),\n",
       " Text(0, 2, '##gging'),\n",
       " Text(0, 3, 'Face'),\n",
       " Text(0, 4, 'transform'),\n",
       " Text(0, 5, '##ers'),\n",
       " Text(0, 6, 'is'),\n",
       " Text(0, 7, 'great'),\n",
       " Text(0, 8, '!'),\n",
       " Text(0, 9, '[SEP]')]"
      ]
     },
     "execution_count": 26,
     "metadata": {},
     "output_type": "execute_result"
    },
    {
     "data": {
      "text/plain": [
       "<matplotlib.image.AxesImage at 0x7048cc6b4760>"
      ]
     },
     "execution_count": 26,
     "metadata": {},
     "output_type": "execute_result"
    },
    {
     "data": {
      "text/plain": [
       "[<matplotlib.axis.XTick at 0x7048cde2f850>,\n",
       " <matplotlib.axis.XTick at 0x7048cde2f820>,\n",
       " <matplotlib.axis.XTick at 0x7048cde2f430>,\n",
       " <matplotlib.axis.XTick at 0x7048cc6a5e20>,\n",
       " <matplotlib.axis.XTick at 0x7048cc6be3a0>,\n",
       " <matplotlib.axis.XTick at 0x7048cc6beca0>,\n",
       " <matplotlib.axis.XTick at 0x7048cc6445b0>,\n",
       " <matplotlib.axis.XTick at 0x7048cc6bee50>,\n",
       " <matplotlib.axis.XTick at 0x7048cc6d41c0>,\n",
       " <matplotlib.axis.XTick at 0x7048cc644d00>]"
      ]
     },
     "execution_count": 26,
     "metadata": {},
     "output_type": "execute_result"
    },
    {
     "data": {
      "text/plain": [
       "[Text(0, 0, '[CLS]'),\n",
       " Text(1, 0, 'Hu'),\n",
       " Text(2, 0, '##gging'),\n",
       " Text(3, 0, 'Face'),\n",
       " Text(4, 0, 'transform'),\n",
       " Text(5, 0, '##ers'),\n",
       " Text(6, 0, 'is'),\n",
       " Text(7, 0, 'great'),\n",
       " Text(8, 0, '!'),\n",
       " Text(9, 0, '[SEP]')]"
      ]
     },
     "execution_count": 26,
     "metadata": {},
     "output_type": "execute_result"
    },
    {
     "data": {
      "text/plain": [
       "[<matplotlib.axis.YTick at 0x7048cde36460>,\n",
       " <matplotlib.axis.YTick at 0x7048cde2fee0>,\n",
       " <matplotlib.axis.YTick at 0x7048cde2f400>,\n",
       " <matplotlib.axis.YTick at 0x7048cc64eca0>,\n",
       " <matplotlib.axis.YTick at 0x7048cc657af0>,\n",
       " <matplotlib.axis.YTick at 0x7048cc64e0d0>,\n",
       " <matplotlib.axis.YTick at 0x7048cc64e2e0>,\n",
       " <matplotlib.axis.YTick at 0x7048cc65c610>,\n",
       " <matplotlib.axis.YTick at 0x7048cc65cf40>,\n",
       " <matplotlib.axis.YTick at 0x7048cc662760>]"
      ]
     },
     "execution_count": 26,
     "metadata": {},
     "output_type": "execute_result"
    },
    {
     "data": {
      "text/plain": [
       "[Text(0, 0, '[CLS]'),\n",
       " Text(0, 1, 'Hu'),\n",
       " Text(0, 2, '##gging'),\n",
       " Text(0, 3, 'Face'),\n",
       " Text(0, 4, 'transform'),\n",
       " Text(0, 5, '##ers'),\n",
       " Text(0, 6, 'is'),\n",
       " Text(0, 7, 'great'),\n",
       " Text(0, 8, '!'),\n",
       " Text(0, 9, '[SEP]')]"
      ]
     },
     "execution_count": 26,
     "metadata": {},
     "output_type": "execute_result"
    },
    {
     "data": {
      "text/plain": [
       "<matplotlib.image.AxesImage at 0x7048cc65c9d0>"
      ]
     },
     "execution_count": 26,
     "metadata": {},
     "output_type": "execute_result"
    },
    {
     "data": {
      "text/plain": [
       "[<matplotlib.axis.XTick at 0x7048cddea670>,\n",
       " <matplotlib.axis.XTick at 0x7048cddea640>,\n",
       " <matplotlib.axis.XTick at 0x7048cdddddf0>,\n",
       " <matplotlib.axis.XTick at 0x7048cc662ee0>,\n",
       " <matplotlib.axis.XTick at 0x7048cc66aa60>,\n",
       " <matplotlib.axis.XTick at 0x7048cc66ab50>,\n",
       " <matplotlib.axis.XTick at 0x7048cc671c40>,\n",
       " <matplotlib.axis.XTick at 0x7048cc64e6a0>,\n",
       " <matplotlib.axis.XTick at 0x7048cc671fa0>,\n",
       " <matplotlib.axis.XTick at 0x7048cc67a760>]"
      ]
     },
     "execution_count": 26,
     "metadata": {},
     "output_type": "execute_result"
    },
    {
     "data": {
      "text/plain": [
       "[Text(0, 0, '[CLS]'),\n",
       " Text(1, 0, 'Hu'),\n",
       " Text(2, 0, '##gging'),\n",
       " Text(3, 0, 'Face'),\n",
       " Text(4, 0, 'transform'),\n",
       " Text(5, 0, '##ers'),\n",
       " Text(6, 0, 'is'),\n",
       " Text(7, 0, 'great'),\n",
       " Text(8, 0, '!'),\n",
       " Text(9, 0, '[SEP]')]"
      ]
     },
     "execution_count": 26,
     "metadata": {},
     "output_type": "execute_result"
    },
    {
     "data": {
      "text/plain": [
       "[<matplotlib.axis.YTick at 0x7048cddf3280>,\n",
       " <matplotlib.axis.YTick at 0x7048cddead00>,\n",
       " <matplotlib.axis.YTick at 0x7048cddea220>,\n",
       " <matplotlib.axis.YTick at 0x7048cc67a520>,\n",
       " <matplotlib.axis.YTick at 0x7048cc6018e0>,\n",
       " <matplotlib.axis.YTick at 0x7048cc601eb0>,\n",
       " <matplotlib.axis.YTick at 0x7048cc6058e0>,\n",
       " <matplotlib.axis.YTick at 0x7048cc6052b0>,\n",
       " <matplotlib.axis.YTick at 0x7048cc6059a0>,\n",
       " <matplotlib.axis.YTick at 0x7048cc65c160>]"
      ]
     },
     "execution_count": 26,
     "metadata": {},
     "output_type": "execute_result"
    },
    {
     "data": {
      "text/plain": [
       "[Text(0, 0, '[CLS]'),\n",
       " Text(0, 1, 'Hu'),\n",
       " Text(0, 2, '##gging'),\n",
       " Text(0, 3, 'Face'),\n",
       " Text(0, 4, 'transform'),\n",
       " Text(0, 5, '##ers'),\n",
       " Text(0, 6, 'is'),\n",
       " Text(0, 7, 'great'),\n",
       " Text(0, 8, '!'),\n",
       " Text(0, 9, '[SEP]')]"
      ]
     },
     "execution_count": 26,
     "metadata": {},
     "output_type": "execute_result"
    },
    {
     "data": {
      "text/plain": [
       "<matplotlib.image.AxesImage at 0x7048cc610ca0>"
      ]
     },
     "execution_count": 26,
     "metadata": {},
     "output_type": "execute_result"
    },
    {
     "data": {
      "text/plain": [
       "[<matplotlib.axis.XTick at 0x7048cdda6490>,\n",
       " <matplotlib.axis.XTick at 0x7048cdda6460>,\n",
       " <matplotlib.axis.XTick at 0x7048cdd9ac10>,\n",
       " <matplotlib.axis.XTick at 0x7048cc6228e0>,\n",
       " <matplotlib.axis.XTick at 0x7048cc622070>,\n",
       " <matplotlib.axis.XTick at 0x7048cc605f40>,\n",
       " <matplotlib.axis.XTick at 0x7048cc605f10>,\n",
       " <matplotlib.axis.XTick at 0x7048cc61df70>,\n",
       " <matplotlib.axis.XTick at 0x7048cc629790>,\n",
       " <matplotlib.axis.XTick at 0x7048cc629f70>]"
      ]
     },
     "execution_count": 26,
     "metadata": {},
     "output_type": "execute_result"
    },
    {
     "data": {
      "text/plain": [
       "[Text(0, 0, '[CLS]'),\n",
       " Text(1, 0, 'Hu'),\n",
       " Text(2, 0, '##gging'),\n",
       " Text(3, 0, 'Face'),\n",
       " Text(4, 0, 'transform'),\n",
       " Text(5, 0, '##ers'),\n",
       " Text(6, 0, 'is'),\n",
       " Text(7, 0, 'great'),\n",
       " Text(8, 0, '!'),\n",
       " Text(9, 0, '[SEP]')]"
      ]
     },
     "execution_count": 26,
     "metadata": {},
     "output_type": "execute_result"
    },
    {
     "data": {
      "text/plain": [
       "[<matplotlib.axis.YTick at 0x7048cddae1c0>,\n",
       " <matplotlib.axis.YTick at 0x7048cdda6b20>,\n",
       " <matplotlib.axis.YTick at 0x7048cdd9afd0>,\n",
       " <matplotlib.axis.YTick at 0x7048cc630460>,\n",
       " <matplotlib.axis.YTick at 0x7048cc630f10>,\n",
       " <matplotlib.axis.YTick at 0x7048cc636880>,\n",
       " <matplotlib.axis.YTick at 0x7048cc636520>,\n",
       " <matplotlib.axis.YTick at 0x7048cc6363a0>,\n",
       " <matplotlib.axis.YTick at 0x7048cc629cd0>,\n",
       " <matplotlib.axis.YTick at 0x7048cc5c0b80>]"
      ]
     },
     "execution_count": 26,
     "metadata": {},
     "output_type": "execute_result"
    },
    {
     "data": {
      "text/plain": [
       "[Text(0, 0, '[CLS]'),\n",
       " Text(0, 1, 'Hu'),\n",
       " Text(0, 2, '##gging'),\n",
       " Text(0, 3, 'Face'),\n",
       " Text(0, 4, 'transform'),\n",
       " Text(0, 5, '##ers'),\n",
       " Text(0, 6, 'is'),\n",
       " Text(0, 7, 'great'),\n",
       " Text(0, 8, '!'),\n",
       " Text(0, 9, '[SEP]')]"
      ]
     },
     "execution_count": 26,
     "metadata": {},
     "output_type": "execute_result"
    },
    {
     "data": {
      "text/plain": [
       "<matplotlib.image.AxesImage at 0x7048cdd9ac40>"
      ]
     },
     "execution_count": 26,
     "metadata": {},
     "output_type": "execute_result"
    },
    {
     "data": {
      "text/plain": [
       "[<matplotlib.axis.XTick at 0x7048cdd61340>,\n",
       " <matplotlib.axis.XTick at 0x7048cdd61310>,\n",
       " <matplotlib.axis.XTick at 0x7048cdd56b20>,\n",
       " <matplotlib.axis.XTick at 0x7048cc61d0d0>,\n",
       " <matplotlib.axis.XTick at 0x7048cc5c8a00>,\n",
       " <matplotlib.axis.XTick at 0x7048cc5c8f70>,\n",
       " <matplotlib.axis.XTick at 0x7048cc5ccb80>,\n",
       " <matplotlib.axis.XTick at 0x7048cc5cc970>,\n",
       " <matplotlib.axis.XTick at 0x7048cc5ccc40>,\n",
       " <matplotlib.axis.XTick at 0x7048cc5ccdf0>]"
      ]
     },
     "execution_count": 26,
     "metadata": {},
     "output_type": "execute_result"
    },
    {
     "data": {
      "text/plain": [
       "[Text(0, 0, '[CLS]'),\n",
       " Text(1, 0, 'Hu'),\n",
       " Text(2, 0, '##gging'),\n",
       " Text(3, 0, 'Face'),\n",
       " Text(4, 0, 'transform'),\n",
       " Text(5, 0, '##ers'),\n",
       " Text(6, 0, 'is'),\n",
       " Text(7, 0, 'great'),\n",
       " Text(8, 0, '!'),\n",
       " Text(9, 0, '[SEP]')]"
      ]
     },
     "execution_count": 26,
     "metadata": {},
     "output_type": "execute_result"
    },
    {
     "data": {
      "text/plain": [
       "[<matplotlib.axis.YTick at 0x7048cdd6a070>,\n",
       " <matplotlib.axis.YTick at 0x7048cdd619d0>,\n",
       " <matplotlib.axis.YTick at 0x7048cdd56e50>,\n",
       " <matplotlib.axis.YTick at 0x7048cc5e5820>,\n",
       " <matplotlib.axis.YTick at 0x7048cc5e3310>,\n",
       " <matplotlib.axis.YTick at 0x7048cc5d8af0>,\n",
       " <matplotlib.axis.YTick at 0x7048cc5c8e20>,\n",
       " <matplotlib.axis.YTick at 0x7048cc5e3f40>,\n",
       " <matplotlib.axis.YTick at 0x7048cc5ef700>,\n",
       " <matplotlib.axis.YTick at 0x7048cc5e3df0>]"
      ]
     },
     "execution_count": 26,
     "metadata": {},
     "output_type": "execute_result"
    },
    {
     "data": {
      "text/plain": [
       "[Text(0, 0, '[CLS]'),\n",
       " Text(0, 1, 'Hu'),\n",
       " Text(0, 2, '##gging'),\n",
       " Text(0, 3, 'Face'),\n",
       " Text(0, 4, 'transform'),\n",
       " Text(0, 5, '##ers'),\n",
       " Text(0, 6, 'is'),\n",
       " Text(0, 7, 'great'),\n",
       " Text(0, 8, '!'),\n",
       " Text(0, 9, '[SEP]')]"
      ]
     },
     "execution_count": 26,
     "metadata": {},
     "output_type": "execute_result"
    },
    {
     "data": {
      "text/plain": [
       "<matplotlib.image.AxesImage at 0x7048cc5c8d00>"
      ]
     },
     "execution_count": 26,
     "metadata": {},
     "output_type": "execute_result"
    },
    {
     "data": {
      "text/plain": [
       "[<matplotlib.axis.XTick at 0x7048cdd15c10>,\n",
       " <matplotlib.axis.XTick at 0x7048cdd15be0>,\n",
       " <matplotlib.axis.XTick at 0x7048cdd15430>,\n",
       " <matplotlib.axis.XTick at 0x7048cc5f85b0>,\n",
       " <matplotlib.axis.XTick at 0x7048cc5f8d00>,\n",
       " <matplotlib.axis.XTick at 0x7048cc5809d0>,\n",
       " <matplotlib.axis.XTick at 0x7048cc5872e0>,\n",
       " <matplotlib.axis.XTick at 0x7048cc580b80>,\n",
       " <matplotlib.axis.XTick at 0x7048cc587640>,\n",
       " <matplotlib.axis.XTick at 0x7048cc5f88b0>]"
      ]
     },
     "execution_count": 26,
     "metadata": {},
     "output_type": "execute_result"
    },
    {
     "data": {
      "text/plain": [
       "[Text(0, 0, '[CLS]'),\n",
       " Text(1, 0, 'Hu'),\n",
       " Text(2, 0, '##gging'),\n",
       " Text(3, 0, 'Face'),\n",
       " Text(4, 0, 'transform'),\n",
       " Text(5, 0, '##ers'),\n",
       " Text(6, 0, 'is'),\n",
       " Text(7, 0, 'great'),\n",
       " Text(8, 0, '!'),\n",
       " Text(9, 0, '[SEP]')]"
      ]
     },
     "execution_count": 26,
     "metadata": {},
     "output_type": "execute_result"
    },
    {
     "data": {
      "text/plain": [
       "[<matplotlib.axis.YTick at 0x7048cdd1c940>,\n",
       " <matplotlib.axis.YTick at 0x7048cdd1c2e0>,\n",
       " <matplotlib.axis.YTick at 0x7048cdd157c0>,\n",
       " <matplotlib.axis.YTick at 0x7048cc5806d0>,\n",
       " <matplotlib.axis.YTick at 0x7048cc590eb0>,\n",
       " <matplotlib.axis.YTick at 0x7048cc590e50>,\n",
       " <matplotlib.axis.YTick at 0x7048cc593850>,\n",
       " <matplotlib.axis.YTick at 0x7048cc593c10>,\n",
       " <matplotlib.axis.YTick at 0x7048cc5f81c0>,\n",
       " <matplotlib.axis.YTick at 0x7048cc59da90>]"
      ]
     },
     "execution_count": 26,
     "metadata": {},
     "output_type": "execute_result"
    },
    {
     "data": {
      "text/plain": [
       "[Text(0, 0, '[CLS]'),\n",
       " Text(0, 1, 'Hu'),\n",
       " Text(0, 2, '##gging'),\n",
       " Text(0, 3, 'Face'),\n",
       " Text(0, 4, 'transform'),\n",
       " Text(0, 5, '##ers'),\n",
       " Text(0, 6, 'is'),\n",
       " Text(0, 7, 'great'),\n",
       " Text(0, 8, '!'),\n",
       " Text(0, 9, '[SEP]')]"
      ]
     },
     "execution_count": 26,
     "metadata": {},
     "output_type": "execute_result"
    },
    {
     "data": {
      "text/plain": [
       "<matplotlib.image.AxesImage at 0x7048cc5a64c0>"
      ]
     },
     "execution_count": 26,
     "metadata": {},
     "output_type": "execute_result"
    },
    {
     "data": {
      "text/plain": [
       "[<matplotlib.axis.XTick at 0x7048cdcd19a0>,\n",
       " <matplotlib.axis.XTick at 0x7048cdcd1970>,\n",
       " <matplotlib.axis.XTick at 0x7048cdcd11c0>,\n",
       " <matplotlib.axis.XTick at 0x7048cc5a6d60>,\n",
       " <matplotlib.axis.XTick at 0x7048cc59dc10>,\n",
       " <matplotlib.axis.XTick at 0x7048cc5b19a0>,\n",
       " <matplotlib.axis.XTick at 0x7048cc5b1f10>,\n",
       " <matplotlib.axis.XTick at 0x7048cc5b5af0>,\n",
       " <matplotlib.axis.XTick at 0x7048cc5ba310>,\n",
       " <matplotlib.axis.XTick at 0x7048cc5b5670>]"
      ]
     },
     "execution_count": 26,
     "metadata": {},
     "output_type": "execute_result"
    },
    {
     "data": {
      "text/plain": [
       "[Text(0, 0, '[CLS]'),\n",
       " Text(1, 0, 'Hu'),\n",
       " Text(2, 0, '##gging'),\n",
       " Text(3, 0, 'Face'),\n",
       " Text(4, 0, 'transform'),\n",
       " Text(5, 0, '##ers'),\n",
       " Text(6, 0, 'is'),\n",
       " Text(7, 0, 'great'),\n",
       " Text(8, 0, '!'),\n",
       " Text(9, 0, '[SEP]')]"
      ]
     },
     "execution_count": 26,
     "metadata": {},
     "output_type": "execute_result"
    },
    {
     "data": {
      "text/plain": [
       "[<matplotlib.axis.YTick at 0x7048cdcd86d0>,\n",
       " <matplotlib.axis.YTick at 0x7048cdcd8070>,\n",
       " <matplotlib.axis.YTick at 0x7048cdcd1550>,\n",
       " <matplotlib.axis.YTick at 0x7048cc5baf40>,\n",
       " <matplotlib.axis.YTick at 0x7048cc544ac0>,\n",
       " <matplotlib.axis.YTick at 0x7048cc544bb0>,\n",
       " <matplotlib.axis.YTick at 0x7048cc544670>,\n",
       " <matplotlib.axis.YTick at 0x7048cc5b5f70>,\n",
       " <matplotlib.axis.YTick at 0x7048cc545ee0>,\n",
       " <matplotlib.axis.YTick at 0x7048cc5536a0>]"
      ]
     },
     "execution_count": 26,
     "metadata": {},
     "output_type": "execute_result"
    },
    {
     "data": {
      "text/plain": [
       "[Text(0, 0, '[CLS]'),\n",
       " Text(0, 1, 'Hu'),\n",
       " Text(0, 2, '##gging'),\n",
       " Text(0, 3, 'Face'),\n",
       " Text(0, 4, 'transform'),\n",
       " Text(0, 5, '##ers'),\n",
       " Text(0, 6, 'is'),\n",
       " Text(0, 7, 'great'),\n",
       " Text(0, 8, '!'),\n",
       " Text(0, 9, '[SEP]')]"
      ]
     },
     "execution_count": 26,
     "metadata": {},
     "output_type": "execute_result"
    },
    {
     "data": {
      "text/plain": [
       "<matplotlib.image.AxesImage at 0x7048cc590a00>"
      ]
     },
     "execution_count": 26,
     "metadata": {},
     "output_type": "execute_result"
    },
    {
     "data": {
      "text/plain": [
       "[<matplotlib.axis.XTick at 0x7048cdc8b7f0>,\n",
       " <matplotlib.axis.XTick at 0x7048cdc8b7c0>,\n",
       " <matplotlib.axis.XTick at 0x7048cdcfdf70>,\n",
       " <matplotlib.axis.XTick at 0x7048cc553fa0>,\n",
       " <matplotlib.axis.XTick at 0x7048cc5609a0>,\n",
       " <matplotlib.axis.XTick at 0x7048cc560f70>,\n",
       " <matplotlib.axis.XTick at 0x7048cc564ac0>,\n",
       " <matplotlib.axis.XTick at 0x7048cc560220>,\n",
       " <matplotlib.axis.XTick at 0x7048cc564f40>,\n",
       " <matplotlib.axis.XTick at 0x7048cc56d760>]"
      ]
     },
     "execution_count": 26,
     "metadata": {},
     "output_type": "execute_result"
    },
    {
     "data": {
      "text/plain": [
       "[Text(0, 0, '[CLS]'),\n",
       " Text(1, 0, 'Hu'),\n",
       " Text(2, 0, '##gging'),\n",
       " Text(3, 0, 'Face'),\n",
       " Text(4, 0, 'transform'),\n",
       " Text(5, 0, '##ers'),\n",
       " Text(6, 0, 'is'),\n",
       " Text(7, 0, 'great'),\n",
       " Text(8, 0, '!'),\n",
       " Text(9, 0, '[SEP]')]"
      ]
     },
     "execution_count": 26,
     "metadata": {},
     "output_type": "execute_result"
    },
    {
     "data": {
      "text/plain": [
       "[<matplotlib.axis.YTick at 0x7048cdc93520>,\n",
       " <matplotlib.axis.YTick at 0x7048cdc8be80>,\n",
       " <matplotlib.axis.YTick at 0x7048cdc8b3a0>,\n",
       " <matplotlib.axis.YTick at 0x7048cc575a60>,\n",
       " <matplotlib.axis.YTick at 0x7048cc575610>,\n",
       " <matplotlib.axis.YTick at 0x7048cc560490>,\n",
       " <matplotlib.axis.YTick at 0x7048cc5efe50>,\n",
       " <matplotlib.axis.YTick at 0x7048cc576640>,\n",
       " <matplotlib.axis.YTick at 0x7048cc576e20>,\n",
       " <matplotlib.axis.YTick at 0x7048cc5769d0>]"
      ]
     },
     "execution_count": 26,
     "metadata": {},
     "output_type": "execute_result"
    },
    {
     "data": {
      "text/plain": [
       "[Text(0, 0, '[CLS]'),\n",
       " Text(0, 1, 'Hu'),\n",
       " Text(0, 2, '##gging'),\n",
       " Text(0, 3, 'Face'),\n",
       " Text(0, 4, 'transform'),\n",
       " Text(0, 5, '##ers'),\n",
       " Text(0, 6, 'is'),\n",
       " Text(0, 7, 'great'),\n",
       " Text(0, 8, '!'),\n",
       " Text(0, 9, '[SEP]')]"
      ]
     },
     "execution_count": 26,
     "metadata": {},
     "output_type": "execute_result"
    },
    {
     "data": {
      "text/plain": [
       "[Text(0.5, 0, 'head=0')]"
      ]
     },
     "execution_count": 26,
     "metadata": {},
     "output_type": "execute_result"
    },
    {
     "data": {
      "text/plain": [
       "[Text(0, 0.5, 'layer=5')]"
      ]
     },
     "execution_count": 26,
     "metadata": {},
     "output_type": "execute_result"
    },
    {
     "data": {
      "text/plain": [
       "<matplotlib.image.AxesImage at 0x7048cc5ba580>"
      ]
     },
     "execution_count": 26,
     "metadata": {},
     "output_type": "execute_result"
    },
    {
     "data": {
      "text/plain": [
       "[<matplotlib.axis.XTick at 0x7048cdc47610>,\n",
       " <matplotlib.axis.XTick at 0x7048cdc475e0>,\n",
       " <matplotlib.axis.XTick at 0x7048cdcb9d90>,\n",
       " <matplotlib.axis.XTick at 0x7048cc505df0>,\n",
       " <matplotlib.axis.XTick at 0x7048cc50e970>,\n",
       " <matplotlib.axis.XTick at 0x7048cc50ef40>,\n",
       " <matplotlib.axis.XTick at 0x7048cc50e070>,\n",
       " <matplotlib.axis.XTick at 0x7048cc5137f0>,\n",
       " <matplotlib.axis.XTick at 0x7048cc513fd0>,\n",
       " <matplotlib.axis.XTick at 0x7048cc51d7f0>]"
      ]
     },
     "execution_count": 26,
     "metadata": {},
     "output_type": "execute_result"
    },
    {
     "data": {
      "text/plain": [
       "[Text(0, 0, '[CLS]'),\n",
       " Text(1, 0, 'Hu'),\n",
       " Text(2, 0, '##gging'),\n",
       " Text(3, 0, 'Face'),\n",
       " Text(4, 0, 'transform'),\n",
       " Text(5, 0, '##ers'),\n",
       " Text(6, 0, 'is'),\n",
       " Text(7, 0, 'great'),\n",
       " Text(8, 0, '!'),\n",
       " Text(9, 0, '[SEP]')]"
      ]
     },
     "execution_count": 26,
     "metadata": {},
     "output_type": "execute_result"
    },
    {
     "data": {
      "text/plain": [
       "[<matplotlib.axis.YTick at 0x7048cdc47ee0>,\n",
       " <matplotlib.axis.YTick at 0x7048cdc47ca0>,\n",
       " <matplotlib.axis.YTick at 0x7048cdc471c0>,\n",
       " <matplotlib.axis.YTick at 0x7048cc51da90>,\n",
       " <matplotlib.axis.YTick at 0x7048cc5237c0>,\n",
       " <matplotlib.axis.YTick at 0x7048cc523f10>,\n",
       " <matplotlib.axis.YTick at 0x7048cc528940>,\n",
       " <matplotlib.axis.YTick at 0x7048cc5286a0>,\n",
       " <matplotlib.axis.YTick at 0x7048cc523160>,\n",
       " <matplotlib.axis.YTick at 0x7048cc5342e0>]"
      ]
     },
     "execution_count": 26,
     "metadata": {},
     "output_type": "execute_result"
    },
    {
     "data": {
      "text/plain": [
       "[Text(0, 0, '[CLS]'),\n",
       " Text(0, 1, 'Hu'),\n",
       " Text(0, 2, '##gging'),\n",
       " Text(0, 3, 'Face'),\n",
       " Text(0, 4, 'transform'),\n",
       " Text(0, 5, '##ers'),\n",
       " Text(0, 6, 'is'),\n",
       " Text(0, 7, 'great'),\n",
       " Text(0, 8, '!'),\n",
       " Text(0, 9, '[SEP]')]"
      ]
     },
     "execution_count": 26,
     "metadata": {},
     "output_type": "execute_result"
    },
    {
     "data": {
      "text/plain": [
       "[Text(0.5, 0, 'head=1')]"
      ]
     },
     "execution_count": 26,
     "metadata": {},
     "output_type": "execute_result"
    },
    {
     "data": {
      "text/plain": [
       "<matplotlib.image.AxesImage at 0x7048cc534c40>"
      ]
     },
     "execution_count": 26,
     "metadata": {},
     "output_type": "execute_result"
    },
    {
     "data": {
      "text/plain": [
       "[<matplotlib.axis.XTick at 0x7048cdc78d30>,\n",
       " <matplotlib.axis.XTick at 0x7048cdc78d00>,\n",
       " <matplotlib.axis.XTick at 0x7048cdc78550>,\n",
       " <matplotlib.axis.XTick at 0x7048cc53c910>,\n",
       " <matplotlib.axis.XTick at 0x7048cc523be0>,\n",
       " <matplotlib.axis.XTick at 0x7048cc523b20>,\n",
       " <matplotlib.axis.XTick at 0x7048cc4c28e0>,\n",
       " <matplotlib.axis.XTick at 0x7048cc4c22e0>,\n",
       " <matplotlib.axis.XTick at 0x7048cc4ca8e0>,\n",
       " <matplotlib.axis.XTick at 0x7048cc4c2a60>]"
      ]
     },
     "execution_count": 26,
     "metadata": {},
     "output_type": "execute_result"
    },
    {
     "data": {
      "text/plain": [
       "[Text(0, 0, '[CLS]'),\n",
       " Text(1, 0, 'Hu'),\n",
       " Text(2, 0, '##gging'),\n",
       " Text(3, 0, 'Face'),\n",
       " Text(4, 0, 'transform'),\n",
       " Text(5, 0, '##ers'),\n",
       " Text(6, 0, 'is'),\n",
       " Text(7, 0, 'great'),\n",
       " Text(8, 0, '!'),\n",
       " Text(9, 0, '[SEP]')]"
      ]
     },
     "execution_count": 26,
     "metadata": {},
     "output_type": "execute_result"
    },
    {
     "data": {
      "text/plain": [
       "[<matplotlib.axis.YTick at 0x7048cd9c0a60>,\n",
       " <matplotlib.axis.YTick at 0x7048cd9c0400>,\n",
       " <matplotlib.axis.YTick at 0x7048cdc788e0>,\n",
       " <matplotlib.axis.YTick at 0x7048cc4d7640>,\n",
       " <matplotlib.axis.YTick at 0x7048cc4d7d90>,\n",
       " <matplotlib.axis.YTick at 0x7048cc4d9ac0>,\n",
       " <matplotlib.axis.YTick at 0x7048cc4d9850>,\n",
       " <matplotlib.axis.YTick at 0x7048cc528550>,\n",
       " <matplotlib.axis.YTick at 0x7048cc4de6d0>,\n",
       " <matplotlib.axis.YTick at 0x7048cc4deeb0>]"
      ]
     },
     "execution_count": 26,
     "metadata": {},
     "output_type": "execute_result"
    },
    {
     "data": {
      "text/plain": [
       "[Text(0, 0, '[CLS]'),\n",
       " Text(0, 1, 'Hu'),\n",
       " Text(0, 2, '##gging'),\n",
       " Text(0, 3, 'Face'),\n",
       " Text(0, 4, 'transform'),\n",
       " Text(0, 5, '##ers'),\n",
       " Text(0, 6, 'is'),\n",
       " Text(0, 7, 'great'),\n",
       " Text(0, 8, '!'),\n",
       " Text(0, 9, '[SEP]')]"
      ]
     },
     "execution_count": 26,
     "metadata": {},
     "output_type": "execute_result"
    },
    {
     "data": {
      "text/plain": [
       "[Text(0.5, 0, 'head=2')]"
      ]
     },
     "execution_count": 26,
     "metadata": {},
     "output_type": "execute_result"
    },
    {
     "data": {
      "text/plain": [
       "<matplotlib.image.AxesImage at 0x7048cc534b80>"
      ]
     },
     "execution_count": 26,
     "metadata": {},
     "output_type": "execute_result"
    },
    {
     "data": {
      "text/plain": [
       "[<matplotlib.axis.XTick at 0x7048cd9f2a30>,\n",
       " <matplotlib.axis.XTick at 0x7048cd9f2a00>,\n",
       " <matplotlib.axis.XTick at 0x7048cd9f2250>,\n",
       " <matplotlib.axis.XTick at 0x7048cc4e7400>,\n",
       " <matplotlib.axis.XTick at 0x7048cc4ef2e0>,\n",
       " <matplotlib.axis.XTick at 0x7048cc4efbe0>,\n",
       " <matplotlib.axis.XTick at 0x7048cc4f9400>,\n",
       " <matplotlib.axis.XTick at 0x7048cc4ef4f0>,\n",
       " <matplotlib.axis.XTick at 0x7048cc4f9970>,\n",
       " <matplotlib.axis.XTick at 0x7048cc4e7c10>]"
      ]
     },
     "execution_count": 26,
     "metadata": {},
     "output_type": "execute_result"
    },
    {
     "data": {
      "text/plain": [
       "[Text(0, 0, '[CLS]'),\n",
       " Text(1, 0, 'Hu'),\n",
       " Text(2, 0, '##gging'),\n",
       " Text(3, 0, 'Face'),\n",
       " Text(4, 0, 'transform'),\n",
       " Text(5, 0, '##ers'),\n",
       " Text(6, 0, 'is'),\n",
       " Text(7, 0, 'great'),\n",
       " Text(8, 0, '!'),\n",
       " Text(9, 0, '[SEP]')]"
      ]
     },
     "execution_count": 26,
     "metadata": {},
     "output_type": "execute_result"
    },
    {
     "data": {
      "text/plain": [
       "[<matplotlib.axis.YTick at 0x7048cd9fc640>,\n",
       " <matplotlib.axis.YTick at 0x7048cd9fc100>,\n",
       " <matplotlib.axis.YTick at 0x7048cd9f25e0>,\n",
       " <matplotlib.axis.YTick at 0x7048cc480400>,\n",
       " <matplotlib.axis.YTick at 0x7048cc486490>,\n",
       " <matplotlib.axis.YTick at 0x7048cc486580>,\n",
       " <matplotlib.axis.YTick at 0x7048cc48e610>,\n",
       " <matplotlib.axis.YTick at 0x7048cc486e20>,\n",
       " <matplotlib.axis.YTick at 0x7048cc4806a0>,\n",
       " <matplotlib.axis.YTick at 0x7048cc48edc0>]"
      ]
     },
     "execution_count": 26,
     "metadata": {},
     "output_type": "execute_result"
    },
    {
     "data": {
      "text/plain": [
       "[Text(0, 0, '[CLS]'),\n",
       " Text(0, 1, 'Hu'),\n",
       " Text(0, 2, '##gging'),\n",
       " Text(0, 3, 'Face'),\n",
       " Text(0, 4, 'transform'),\n",
       " Text(0, 5, '##ers'),\n",
       " Text(0, 6, 'is'),\n",
       " Text(0, 7, 'great'),\n",
       " Text(0, 8, '!'),\n",
       " Text(0, 9, '[SEP]')]"
      ]
     },
     "execution_count": 26,
     "metadata": {},
     "output_type": "execute_result"
    },
    {
     "data": {
      "text/plain": [
       "[Text(0.5, 0, 'head=3')]"
      ]
     },
     "execution_count": 26,
     "metadata": {},
     "output_type": "execute_result"
    },
    {
     "data": {
      "text/plain": [
       "<matplotlib.image.AxesImage at 0x7048cc498760>"
      ]
     },
     "execution_count": 26,
     "metadata": {},
     "output_type": "execute_result"
    },
    {
     "data": {
      "text/plain": [
       "[<matplotlib.axis.XTick at 0x7048cd9b0850>,\n",
       " <matplotlib.axis.XTick at 0x7048cd9b0820>,\n",
       " <matplotlib.axis.XTick at 0x7048cd9b0430>,\n",
       " <matplotlib.axis.XTick at 0x7048cc4a0430>,\n",
       " <matplotlib.axis.XTick at 0x7048cc498040>,\n",
       " <matplotlib.axis.XTick at 0x7048cc4d9ee0>,\n",
       " <matplotlib.axis.XTick at 0x7048cc5136a0>,\n",
       " <matplotlib.axis.XTick at 0x7048cc4a0dc0>,\n",
       " <matplotlib.axis.XTick at 0x7048cc5054c0>,\n",
       " <matplotlib.axis.XTick at 0x7048cd79afd0>]"
      ]
     },
     "execution_count": 26,
     "metadata": {},
     "output_type": "execute_result"
    },
    {
     "data": {
      "text/plain": [
       "[Text(0, 0, '[CLS]'),\n",
       " Text(1, 0, 'Hu'),\n",
       " Text(2, 0, '##gging'),\n",
       " Text(3, 0, 'Face'),\n",
       " Text(4, 0, 'transform'),\n",
       " Text(5, 0, '##ers'),\n",
       " Text(6, 0, 'is'),\n",
       " Text(7, 0, 'great'),\n",
       " Text(8, 0, '!'),\n",
       " Text(9, 0, '[SEP]')]"
      ]
     },
     "execution_count": 26,
     "metadata": {},
     "output_type": "execute_result"
    },
    {
     "data": {
      "text/plain": [
       "[<matplotlib.axis.YTick at 0x7048cd9b9460>,\n",
       " <matplotlib.axis.YTick at 0x7048cd9b0ee0>,\n",
       " <matplotlib.axis.YTick at 0x7048cd9b0400>,\n",
       " <matplotlib.axis.YTick at 0x7048cd7b1f40>,\n",
       " <matplotlib.axis.YTick at 0x7048cd748520>,\n",
       " <matplotlib.axis.YTick at 0x7048cd750d60>,\n",
       " <matplotlib.axis.YTick at 0x7048cd7664f0>,\n",
       " <matplotlib.axis.YTick at 0x7048cd7b14c0>,\n",
       " <matplotlib.axis.YTick at 0x7048cd7628e0>,\n",
       " <matplotlib.axis.YTick at 0x7048cd77f3a0>]"
      ]
     },
     "execution_count": 26,
     "metadata": {},
     "output_type": "execute_result"
    },
    {
     "data": {
      "text/plain": [
       "[Text(0, 0, '[CLS]'),\n",
       " Text(0, 1, 'Hu'),\n",
       " Text(0, 2, '##gging'),\n",
       " Text(0, 3, 'Face'),\n",
       " Text(0, 4, 'transform'),\n",
       " Text(0, 5, '##ers'),\n",
       " Text(0, 6, 'is'),\n",
       " Text(0, 7, 'great'),\n",
       " Text(0, 8, '!'),\n",
       " Text(0, 9, '[SEP]')]"
      ]
     },
     "execution_count": 26,
     "metadata": {},
     "output_type": "execute_result"
    },
    {
     "data": {
      "text/plain": [
       "[Text(0.5, 0, 'head=4')]"
      ]
     },
     "execution_count": 26,
     "metadata": {},
     "output_type": "execute_result"
    },
    {
     "data": {
      "text/plain": [
       "<matplotlib.image.AxesImage at 0x7048cd702eb0>"
      ]
     },
     "execution_count": 26,
     "metadata": {},
     "output_type": "execute_result"
    },
    {
     "data": {
      "text/plain": [
       "[<matplotlib.axis.XTick at 0x7048cd96c670>,\n",
       " <matplotlib.axis.XTick at 0x7048cd96c640>,\n",
       " <matplotlib.axis.XTick at 0x7048cd960df0>,\n",
       " <matplotlib.axis.XTick at 0x7048cd7160a0>,\n",
       " <matplotlib.axis.XTick at 0x7048cd72af10>,\n",
       " <matplotlib.axis.XTick at 0x7048cd6c7e20>,\n",
       " <matplotlib.axis.XTick at 0x7048cd7333a0>,\n",
       " <matplotlib.axis.XTick at 0x7048cd7a98e0>,\n",
       " <matplotlib.axis.XTick at 0x7048cd71cca0>,\n",
       " <matplotlib.axis.XTick at 0x7048cd6fd4f0>]"
      ]
     },
     "execution_count": 26,
     "metadata": {},
     "output_type": "execute_result"
    },
    {
     "data": {
      "text/plain": [
       "[Text(0, 0, '[CLS]'),\n",
       " Text(1, 0, 'Hu'),\n",
       " Text(2, 0, '##gging'),\n",
       " Text(3, 0, 'Face'),\n",
       " Text(4, 0, 'transform'),\n",
       " Text(5, 0, '##ers'),\n",
       " Text(6, 0, 'is'),\n",
       " Text(7, 0, 'great'),\n",
       " Text(8, 0, '!'),\n",
       " Text(9, 0, '[SEP]')]"
      ]
     },
     "execution_count": 26,
     "metadata": {},
     "output_type": "execute_result"
    },
    {
     "data": {
      "text/plain": [
       "[<matplotlib.axis.YTick at 0x7048cd9743a0>,\n",
       " <matplotlib.axis.YTick at 0x7048cd96cd00>,\n",
       " <matplotlib.axis.YTick at 0x7048cd96c220>,\n",
       " <matplotlib.axis.YTick at 0x7048cd739a90>,\n",
       " <matplotlib.axis.YTick at 0x7048cd6a6f40>,\n",
       " <matplotlib.axis.YTick at 0x7048cd640a90>,\n",
       " <matplotlib.axis.YTick at 0x7048cd668c10>,\n",
       " <matplotlib.axis.YTick at 0x7048cd6403a0>,\n",
       " <matplotlib.axis.YTick at 0x7048cd675850>,\n",
       " <matplotlib.axis.YTick at 0x7048cd651880>]"
      ]
     },
     "execution_count": 26,
     "metadata": {},
     "output_type": "execute_result"
    },
    {
     "data": {
      "text/plain": [
       "[Text(0, 0, '[CLS]'),\n",
       " Text(0, 1, 'Hu'),\n",
       " Text(0, 2, '##gging'),\n",
       " Text(0, 3, 'Face'),\n",
       " Text(0, 4, 'transform'),\n",
       " Text(0, 5, '##ers'),\n",
       " Text(0, 6, 'is'),\n",
       " Text(0, 7, 'great'),\n",
       " Text(0, 8, '!'),\n",
       " Text(0, 9, '[SEP]')]"
      ]
     },
     "execution_count": 26,
     "metadata": {},
     "output_type": "execute_result"
    },
    {
     "data": {
      "text/plain": [
       "[Text(0.5, 0, 'head=5')]"
      ]
     },
     "execution_count": 26,
     "metadata": {},
     "output_type": "execute_result"
    },
    {
     "data": {
      "text/plain": [
       "<matplotlib.image.AxesImage at 0x7048cd649fd0>"
      ]
     },
     "execution_count": 26,
     "metadata": {},
     "output_type": "execute_result"
    },
    {
     "data": {
      "text/plain": [
       "[<matplotlib.axis.XTick at 0x7048cd926130>,\n",
       " <matplotlib.axis.XTick at 0x7048cd926100>,\n",
       " <matplotlib.axis.XTick at 0x7048cd91c910>,\n",
       " <matplotlib.axis.XTick at 0x7048cd68c760>,\n",
       " <matplotlib.axis.XTick at 0x7048cd6b06a0>,\n",
       " <matplotlib.axis.XTick at 0x7048cd69ac10>,\n",
       " <matplotlib.axis.XTick at 0x7048cd3e2af0>,\n",
       " <matplotlib.axis.XTick at 0x7048cd69a0a0>,\n",
       " <matplotlib.axis.XTick at 0x7048cd381820>,\n",
       " <matplotlib.axis.XTick at 0x7048cd3ebd00>]"
      ]
     },
     "execution_count": 26,
     "metadata": {},
     "output_type": "execute_result"
    },
    {
     "data": {
      "text/plain": [
       "[Text(0, 0, '[CLS]'),\n",
       " Text(1, 0, 'Hu'),\n",
       " Text(2, 0, '##gging'),\n",
       " Text(3, 0, 'Face'),\n",
       " Text(4, 0, 'transform'),\n",
       " Text(5, 0, '##ers'),\n",
       " Text(6, 0, 'is'),\n",
       " Text(7, 0, 'great'),\n",
       " Text(8, 0, '!'),\n",
       " Text(9, 0, '[SEP]')]"
      ]
     },
     "execution_count": 26,
     "metadata": {},
     "output_type": "execute_result"
    },
    {
     "data": {
      "text/plain": [
       "[<matplotlib.axis.YTick at 0x7048cd926e20>,\n",
       " <matplotlib.axis.YTick at 0x7048cd9267c0>,\n",
       " <matplotlib.axis.YTick at 0x7048cd91cca0>,\n",
       " <matplotlib.axis.YTick at 0x7048cd3a0190>,\n",
       " <matplotlib.axis.YTick at 0x7048cd3fcb50>,\n",
       " <matplotlib.axis.YTick at 0x7048cd3b6580>,\n",
       " <matplotlib.axis.YTick at 0x7048cd342730>,\n",
       " <matplotlib.axis.YTick at 0x7048cd35fa30>,\n",
       " <matplotlib.axis.YTick at 0x7048cd3aa520>,\n",
       " <matplotlib.axis.YTick at 0x7048cd347f10>]"
      ]
     },
     "execution_count": 26,
     "metadata": {},
     "output_type": "execute_result"
    },
    {
     "data": {
      "text/plain": [
       "[Text(0, 0, '[CLS]'),\n",
       " Text(0, 1, 'Hu'),\n",
       " Text(0, 2, '##gging'),\n",
       " Text(0, 3, 'Face'),\n",
       " Text(0, 4, 'transform'),\n",
       " Text(0, 5, '##ers'),\n",
       " Text(0, 6, 'is'),\n",
       " Text(0, 7, 'great'),\n",
       " Text(0, 8, '!'),\n",
       " Text(0, 9, '[SEP]')]"
      ]
     },
     "execution_count": 26,
     "metadata": {},
     "output_type": "execute_result"
    },
    {
     "data": {
      "text/plain": [
       "[Text(0.5, 0, 'head=6')]"
      ]
     },
     "execution_count": 26,
     "metadata": {},
     "output_type": "execute_result"
    },
    {
     "data": {
      "text/plain": [
       "<matplotlib.image.AxesImage at 0x7048cc48e9d0>"
      ]
     },
     "execution_count": 26,
     "metadata": {},
     "output_type": "execute_result"
    },
    {
     "data": {
      "text/plain": [
       "[<matplotlib.axis.XTick at 0x7048cd8dae80>,\n",
       " <matplotlib.axis.XTick at 0x7048cd8dae50>,\n",
       " <matplotlib.axis.XTick at 0x7048cd8da6a0>,\n",
       " <matplotlib.axis.XTick at 0x7048cc76e730>,\n",
       " <matplotlib.axis.XTick at 0x7048cd28ad60>,\n",
       " <matplotlib.axis.XTick at 0x7048cc5761c0>,\n",
       " <matplotlib.axis.XTick at 0x7048cd36c760>,\n",
       " <matplotlib.axis.XTick at 0x7048cd3c5250>,\n",
       " <matplotlib.axis.XTick at 0x7048cd6e5820>,\n",
       " <matplotlib.axis.XTick at 0x7048cc1a32e0>]"
      ]
     },
     "execution_count": 26,
     "metadata": {},
     "output_type": "execute_result"
    },
    {
     "data": {
      "text/plain": [
       "[Text(0, 0, '[CLS]'),\n",
       " Text(1, 0, 'Hu'),\n",
       " Text(2, 0, '##gging'),\n",
       " Text(3, 0, 'Face'),\n",
       " Text(4, 0, 'transform'),\n",
       " Text(5, 0, '##ers'),\n",
       " Text(6, 0, 'is'),\n",
       " Text(7, 0, 'great'),\n",
       " Text(8, 0, '!'),\n",
       " Text(9, 0, '[SEP]')]"
      ]
     },
     "execution_count": 26,
     "metadata": {},
     "output_type": "execute_result"
    },
    {
     "data": {
      "text/plain": [
       "[<matplotlib.axis.YTick at 0x7048cd8e2bb0>,\n",
       " <matplotlib.axis.YTick at 0x7048cd8e2550>,\n",
       " <matplotlib.axis.YTick at 0x7048cd8daa30>,\n",
       " <matplotlib.axis.YTick at 0x7048cd381e80>,\n",
       " <matplotlib.axis.YTick at 0x7048cc1a3df0>,\n",
       " <matplotlib.axis.YTick at 0x7048cc1ae8e0>,\n",
       " <matplotlib.axis.YTick at 0x7048cc1b63d0>,\n",
       " <matplotlib.axis.YTick at 0x7048cc1aeaf0>,\n",
       " <matplotlib.axis.YTick at 0x7048cc1b6cd0>,\n",
       " <matplotlib.axis.YTick at 0x7048cc1bc7c0>]"
      ]
     },
     "execution_count": 26,
     "metadata": {},
     "output_type": "execute_result"
    },
    {
     "data": {
      "text/plain": [
       "[Text(0, 0, '[CLS]'),\n",
       " Text(0, 1, 'Hu'),\n",
       " Text(0, 2, '##gging'),\n",
       " Text(0, 3, 'Face'),\n",
       " Text(0, 4, 'transform'),\n",
       " Text(0, 5, '##ers'),\n",
       " Text(0, 6, 'is'),\n",
       " Text(0, 7, 'great'),\n",
       " Text(0, 8, '!'),\n",
       " Text(0, 9, '[SEP]')]"
      ]
     },
     "execution_count": 26,
     "metadata": {},
     "output_type": "execute_result"
    },
    {
     "data": {
      "text/plain": [
       "[Text(0.5, 0, 'head=7')]"
      ]
     },
     "execution_count": 26,
     "metadata": {},
     "output_type": "execute_result"
    },
    {
     "data": {
      "text/plain": [
       "<matplotlib.image.AxesImage at 0x7048cc4a9850>"
      ]
     },
     "execution_count": 26,
     "metadata": {},
     "output_type": "execute_result"
    },
    {
     "data": {
      "text/plain": [
       "[<matplotlib.axis.XTick at 0x7048cd893ca0>,\n",
       " <matplotlib.axis.XTick at 0x7048cd893c70>,\n",
       " <matplotlib.axis.XTick at 0x7048cd8934c0>,\n",
       " <matplotlib.axis.XTick at 0x7048cc141760>,\n",
       " <matplotlib.axis.XTick at 0x7048cc1482e0>,\n",
       " <matplotlib.axis.XTick at 0x7048cc148d30>,\n",
       " <matplotlib.axis.XTick at 0x7048cc14e820>,\n",
       " <matplotlib.axis.XTick at 0x7048cc1b6970>,\n",
       " <matplotlib.axis.XTick at 0x7048cc14edf0>,\n",
       " <matplotlib.axis.XTick at 0x7048cc155c40>]"
      ]
     },
     "execution_count": 26,
     "metadata": {},
     "output_type": "execute_result"
    },
    {
     "data": {
      "text/plain": [
       "[Text(0, 0, '[CLS]'),\n",
       " Text(1, 0, 'Hu'),\n",
       " Text(2, 0, '##gging'),\n",
       " Text(3, 0, 'Face'),\n",
       " Text(4, 0, 'transform'),\n",
       " Text(5, 0, '##ers'),\n",
       " Text(6, 0, 'is'),\n",
       " Text(7, 0, 'great'),\n",
       " Text(8, 0, '!'),\n",
       " Text(9, 0, '[SEP]')]"
      ]
     },
     "execution_count": 26,
     "metadata": {},
     "output_type": "execute_result"
    },
    {
     "data": {
      "text/plain": [
       "[<matplotlib.axis.YTick at 0x7048cd89b9d0>,\n",
       " <matplotlib.axis.YTick at 0x7048cd89b370>,\n",
       " <matplotlib.axis.YTick at 0x7048cd893850>,\n",
       " <matplotlib.axis.YTick at 0x7048cc1488e0>,\n",
       " <matplotlib.axis.YTick at 0x7048cc15f340>,\n",
       " <matplotlib.axis.YTick at 0x7048cc15fdf0>,\n",
       " <matplotlib.axis.YTick at 0x7048cc1658e0>,\n",
       " <matplotlib.axis.YTick at 0x7048cc165b20>,\n",
       " <matplotlib.axis.YTick at 0x7048cc16d2b0>,\n",
       " <matplotlib.axis.YTick at 0x7048cc16dd60>]"
      ]
     },
     "execution_count": 26,
     "metadata": {},
     "output_type": "execute_result"
    },
    {
     "data": {
      "text/plain": [
       "[Text(0, 0, '[CLS]'),\n",
       " Text(0, 1, 'Hu'),\n",
       " Text(0, 2, '##gging'),\n",
       " Text(0, 3, 'Face'),\n",
       " Text(0, 4, 'transform'),\n",
       " Text(0, 5, '##ers'),\n",
       " Text(0, 6, 'is'),\n",
       " Text(0, 7, 'great'),\n",
       " Text(0, 8, '!'),\n",
       " Text(0, 9, '[SEP]')]"
      ]
     },
     "execution_count": 26,
     "metadata": {},
     "output_type": "execute_result"
    },
    {
     "data": {
      "text/plain": [
       "[Text(0.5, 0, 'head=8')]"
      ]
     },
     "execution_count": 26,
     "metadata": {},
     "output_type": "execute_result"
    },
    {
     "data": {
      "text/plain": [
       "<matplotlib.image.AxesImage at 0x7048cc14ed30>"
      ]
     },
     "execution_count": 26,
     "metadata": {},
     "output_type": "execute_result"
    },
    {
     "data": {
      "text/plain": [
       "[<matplotlib.axis.XTick at 0x7048cd850ac0>,\n",
       " <matplotlib.axis.XTick at 0x7048cd850a90>,\n",
       " <matplotlib.axis.XTick at 0x7048cd8502e0>,\n",
       " <matplotlib.axis.XTick at 0x7048cc171d60>,\n",
       " <matplotlib.axis.XTick at 0x7048cc179880>,\n",
       " <matplotlib.axis.XTick at 0x7048cc17f370>,\n",
       " <matplotlib.axis.XTick at 0x7048cc17fe20>,\n",
       " <matplotlib.axis.XTick at 0x7048cc17fa60>,\n",
       " <matplotlib.axis.XTick at 0x7048cc1037f0>,\n",
       " <matplotlib.axis.XTick at 0x7048cc10c2e0>]"
      ]
     },
     "execution_count": 26,
     "metadata": {},
     "output_type": "execute_result"
    },
    {
     "data": {
      "text/plain": [
       "[Text(0, 0, '[CLS]'),\n",
       " Text(1, 0, 'Hu'),\n",
       " Text(2, 0, '##gging'),\n",
       " Text(3, 0, 'Face'),\n",
       " Text(4, 0, 'transform'),\n",
       " Text(5, 0, '##ers'),\n",
       " Text(6, 0, 'is'),\n",
       " Text(7, 0, 'great'),\n",
       " Text(8, 0, '!'),\n",
       " Text(9, 0, '[SEP]')]"
      ]
     },
     "execution_count": 26,
     "metadata": {},
     "output_type": "execute_result"
    },
    {
     "data": {
      "text/plain": [
       "[<matplotlib.axis.YTick at 0x7048cd850ca0>,\n",
       " <matplotlib.axis.YTick at 0x7048cd858190>,\n",
       " <matplotlib.axis.YTick at 0x7048cd850670>,\n",
       " <matplotlib.axis.YTick at 0x7048cc10c4f0>,\n",
       " <matplotlib.axis.YTick at 0x7048cc115b20>,\n",
       " <matplotlib.axis.YTick at 0x7048cc116610>,\n",
       " <matplotlib.axis.YTick at 0x7048cc116d60>,\n",
       " <matplotlib.axis.YTick at 0x7048cc116910>,\n",
       " <matplotlib.axis.YTick at 0x7048cc11bb20>,\n",
       " <matplotlib.axis.YTick at 0x7048cc123610>]"
      ]
     },
     "execution_count": 26,
     "metadata": {},
     "output_type": "execute_result"
    },
    {
     "data": {
      "text/plain": [
       "[Text(0, 0, '[CLS]'),\n",
       " Text(0, 1, 'Hu'),\n",
       " Text(0, 2, '##gging'),\n",
       " Text(0, 3, 'Face'),\n",
       " Text(0, 4, 'transform'),\n",
       " Text(0, 5, '##ers'),\n",
       " Text(0, 6, 'is'),\n",
       " Text(0, 7, 'great'),\n",
       " Text(0, 8, '!'),\n",
       " Text(0, 9, '[SEP]')]"
      ]
     },
     "execution_count": 26,
     "metadata": {},
     "output_type": "execute_result"
    },
    {
     "data": {
      "text/plain": [
       "[Text(0.5, 0, 'head=9')]"
      ]
     },
     "execution_count": 26,
     "metadata": {},
     "output_type": "execute_result"
    },
    {
     "data": {
      "text/plain": [
       "<matplotlib.image.AxesImage at 0x7048cc15bc10>"
      ]
     },
     "execution_count": 26,
     "metadata": {},
     "output_type": "execute_result"
    },
    {
     "data": {
      "text/plain": [
       "[<matplotlib.axis.XTick at 0x7048cd80c4f0>,\n",
       " <matplotlib.axis.XTick at 0x7048cd80c4c0>,\n",
       " <matplotlib.axis.XTick at 0x7048cd800c70>,\n",
       " <matplotlib.axis.XTick at 0x7048cc127520>,\n",
       " <matplotlib.axis.XTick at 0x7048cc127fd0>,\n",
       " <matplotlib.axis.XTick at 0x7048cc12cac0>,\n",
       " <matplotlib.axis.XTick at 0x7048cc1355b0>,\n",
       " <matplotlib.axis.XTick at 0x7048cc115370>,\n",
       " <matplotlib.axis.XTick at 0x7048cc135fd0>,\n",
       " <matplotlib.axis.XTick at 0x7048cc13bac0>]"
      ]
     },
     "execution_count": 26,
     "metadata": {},
     "output_type": "execute_result"
    },
    {
     "data": {
      "text/plain": [
       "[Text(0, 0, '[CLS]'),\n",
       " Text(1, 0, 'Hu'),\n",
       " Text(2, 0, '##gging'),\n",
       " Text(3, 0, 'Face'),\n",
       " Text(4, 0, 'transform'),\n",
       " Text(5, 0, '##ers'),\n",
       " Text(6, 0, 'is'),\n",
       " Text(7, 0, 'great'),\n",
       " Text(8, 0, '!'),\n",
       " Text(9, 0, '[SEP]')]"
      ]
     },
     "execution_count": 26,
     "metadata": {},
     "output_type": "execute_result"
    },
    {
     "data": {
      "text/plain": [
       "[<matplotlib.axis.YTick at 0x7048cd80c640>,\n",
       " <matplotlib.axis.YTick at 0x7048cd80cb80>,\n",
       " <matplotlib.axis.YTick at 0x7048cd80c0a0>,\n",
       " <matplotlib.axis.YTick at 0x7048cc1357f0>,\n",
       " <matplotlib.axis.YTick at 0x7048cc0c18e0>,\n",
       " <matplotlib.axis.YTick at 0x7048cc0c63d0>,\n",
       " <matplotlib.axis.YTick at 0x7048cc0c6e80>,\n",
       " <matplotlib.axis.YTick at 0x7048cc0c6ac0>,\n",
       " <matplotlib.axis.YTick at 0x7048cc0ce7c0>,\n",
       " <matplotlib.axis.YTick at 0x7048cc0d42b0>]"
      ]
     },
     "execution_count": 26,
     "metadata": {},
     "output_type": "execute_result"
    },
    {
     "data": {
      "text/plain": [
       "[Text(0, 0, '[CLS]'),\n",
       " Text(0, 1, 'Hu'),\n",
       " Text(0, 2, '##gging'),\n",
       " Text(0, 3, 'Face'),\n",
       " Text(0, 4, 'transform'),\n",
       " Text(0, 5, '##ers'),\n",
       " Text(0, 6, 'is'),\n",
       " Text(0, 7, 'great'),\n",
       " Text(0, 8, '!'),\n",
       " Text(0, 9, '[SEP]')]"
      ]
     },
     "execution_count": 26,
     "metadata": {},
     "output_type": "execute_result"
    },
    {
     "data": {
      "text/plain": [
       "[Text(0.5, 0, 'head=10')]"
      ]
     },
     "execution_count": 26,
     "metadata": {},
     "output_type": "execute_result"
    },
    {
     "data": {
      "text/plain": [
       "<matplotlib.image.AxesImage at 0x7048cc0d4f70>"
      ]
     },
     "execution_count": 26,
     "metadata": {},
     "output_type": "execute_result"
    },
    {
     "data": {
      "text/plain": [
       "[<matplotlib.axis.XTick at 0x7048cd7c6310>,\n",
       " <matplotlib.axis.XTick at 0x7048cd7c62e0>,\n",
       " <matplotlib.axis.XTick at 0x7048cd83caf0>,\n",
       " <matplotlib.axis.XTick at 0x7048cc0ceac0>,\n",
       " <matplotlib.axis.XTick at 0x7048cc0dde20>,\n",
       " <matplotlib.axis.XTick at 0x7048cc0e0910>,\n",
       " <matplotlib.axis.XTick at 0x7048cc0e6400>,\n",
       " <matplotlib.axis.XTick at 0x7048cc0e0160>,\n",
       " <matplotlib.axis.XTick at 0x7048cc0e6d00>,\n",
       " <matplotlib.axis.XTick at 0x7048cc0eb7f0>]"
      ]
     },
     "execution_count": 26,
     "metadata": {},
     "output_type": "execute_result"
    },
    {
     "data": {
      "text/plain": [
       "[Text(0, 0, '[CLS]'),\n",
       " Text(1, 0, 'Hu'),\n",
       " Text(2, 0, '##gging'),\n",
       " Text(3, 0, 'Face'),\n",
       " Text(4, 0, 'transform'),\n",
       " Text(5, 0, '##ers'),\n",
       " Text(6, 0, 'is'),\n",
       " Text(7, 0, 'great'),\n",
       " Text(8, 0, '!'),\n",
       " Text(9, 0, '[SEP]')]"
      ]
     },
     "execution_count": 26,
     "metadata": {},
     "output_type": "execute_result"
    },
    {
     "data": {
      "text/plain": [
       "[<matplotlib.axis.YTick at 0x7048cd7d1040>,\n",
       " <matplotlib.axis.YTick at 0x7048cd7c69a0>,\n",
       " <matplotlib.axis.YTick at 0x7048cd83ce20>,\n",
       " <matplotlib.axis.YTick at 0x7048cc0f2df0>,\n",
       " <matplotlib.axis.YTick at 0x7048cc0f2790>,\n",
       " <matplotlib.axis.YTick at 0x7048cc0f57c0>,\n",
       " <matplotlib.axis.YTick at 0x7048cc0fe2b0>,\n",
       " <matplotlib.axis.YTick at 0x7048cc0fed60>,\n",
       " <matplotlib.axis.YTick at 0x7048cc082850>,\n",
       " <matplotlib.axis.YTick at 0x7048cc0f5a30>]"
      ]
     },
     "execution_count": 26,
     "metadata": {},
     "output_type": "execute_result"
    },
    {
     "data": {
      "text/plain": [
       "[Text(0, 0, '[CLS]'),\n",
       " Text(0, 1, 'Hu'),\n",
       " Text(0, 2, '##gging'),\n",
       " Text(0, 3, 'Face'),\n",
       " Text(0, 4, 'transform'),\n",
       " Text(0, 5, '##ers'),\n",
       " Text(0, 6, 'is'),\n",
       " Text(0, 7, 'great'),\n",
       " Text(0, 8, '!'),\n",
       " Text(0, 9, '[SEP]')]"
      ]
     },
     "execution_count": 26,
     "metadata": {},
     "output_type": "execute_result"
    },
    {
     "data": {
      "text/plain": [
       "[Text(0.5, 0, 'head=11')]"
      ]
     },
     "execution_count": 26,
     "metadata": {},
     "output_type": "execute_result"
    },
    {
     "data": {
      "image/png": "[encoded data removed]",
      "text/plain": [
       "<Figure size 640x480 with 72 Axes>"
      ]
     },
     "metadata": {},
     "output_type": "display_data"
    }
   ],
   "source": [
    "tokens = tokenizer.convert_ids_to_tokens(model_inputs.input_ids[0])\n",
    "print(tokens)\n",
    "\n",
    "n_layers = len(model_outputs.attentions)\n",
    "n_heads = len(model_outputs.attentions[0][0])\n",
    "fig, axes = plt.subplots(6, 12)\n",
    "for layer in range(n_layers):\n",
    "    for i in range(n_heads):\n",
    "        axes[layer, i].imshow(model_outputs.attentions[layer][0, i])\n",
    "        axes[layer][i].set_xticks(list(range(10)))\n",
    "        axes[layer][i].set_xticklabels(labels=tokens, rotation='vertical')\n",
    "        axes[layer][i].set_yticks(list(range(10)))\n",
    "        axes[layer][i].set_yticklabels(labels=tokens)\n",
    "        \n",
    "        if layer == 5:\n",
    "            axes[layer, i].set(xlabel=f\"head={i}\")\n",
    "        if i == 0:\n",
    "            axes[layer, i].set(ylabel=f\"layer={layer}\")\n",
    "            \n",
    "plt.subplots_adjust(wspace=0.3)\n",
    "plt.show()"
   ]
  },
  {
   "cell_type": "code",
   "execution_count": 27,
   "id": "96c0afc5",
   "metadata": {},
   "outputs": [],
   "source": [
    "# fine tuning\n",
    "\n",
    "from datasets import load_dataset, DatasetDict\n",
    "\n",
    "imdb_dataset = load_dataset('imdb')\n",
    "\n"
   ]
  },
  {
   "cell_type": "code",
   "execution_count": null,
   "id": "ba8bf16c",
   "metadata": {},
   "outputs": [],
   "source": []
  },
  {
   "cell_type": "code",
   "execution_count": null,
   "id": "9c6fc4a1",
   "metadata": {},
   "outputs": [],
   "source": []
  },
  {
   "cell_type": "code",
   "execution_count": null,
   "id": "52766342",
   "metadata": {},
   "outputs": [],
   "source": []
  },
  {
   "cell_type": "code",
   "execution_count": null,
   "id": "71c7c1e1",
   "metadata": {},
   "outputs": [],
   "source": []
  },
  {
   "cell_type": "code",
   "execution_count": null,
   "id": "3fb97ccd",
   "metadata": {},
   "outputs": [],
   "source": []
  },
  {
   "cell_type": "code",
   "execution_count": null,
   "id": "a418cfeb",
   "metadata": {},
   "outputs": [],
   "source": []
  },
  {
   "cell_type": "code",
   "execution_count": null,
   "id": "391eca0b",
   "metadata": {},
   "outputs": [],
   "source": []
  },
  {
   "cell_type": "code",
   "execution_count": null,
   "id": "93a8772f",
   "metadata": {},
   "outputs": [],
   "source": []
  },
  {
   "cell_type": "code",
   "execution_count": null,
   "id": "e464f06d",
   "metadata": {},
   "outputs": [],
   "source": []
  },
  {
   "cell_type": "code",
   "execution_count": null,
   "id": "c1ad5ac8",
   "metadata": {},
   "outputs": [],
   "source": []
  },
  {
   "cell_type": "code",
   "execution_count": null,
   "id": "20d6ac2d",
   "metadata": {},
   "outputs": [],
   "source": []
  },
  {
   "cell_type": "code",
   "execution_count": null,
   "id": "f6aea515",
   "metadata": {},
   "outputs": [],
   "source": []
  },
  {
   "cell_type": "code",
   "execution_count": null,
   "id": "2f3bd7d5",
   "metadata": {},
   "outputs": [],
   "source": []
  },
  {
   "cell_type": "code",
   "execution_count": null,
   "id": "5d9db61a",
   "metadata": {},
   "outputs": [],
   "source": []
  },
  {
   "cell_type": "code",
   "execution_count": null,
   "id": "ab845fce",
   "metadata": {},
   "outputs": [],
   "source": []
  },
  {
   "cell_type": "code",
   "execution_count": null,
   "id": "5ba6380b",
   "metadata": {},
   "outputs": [],
   "source": []
  },
  {
   "cell_type": "code",
   "execution_count": null,
   "id": "c55edbf0",
   "metadata": {},
   "outputs": [],
   "source": []
  },
  {
   "cell_type": "code",
   "execution_count": null,
   "id": "08ce5e34",
   "metadata": {},
   "outputs": [],
   "source": []
  },
  {
   "cell_type": "code",
   "execution_count": null,
   "id": "c2941116",
   "metadata": {},
   "outputs": [],
   "source": []
  },
  {
   "cell_type": "code",
   "execution_count": null,
   "id": "607ef5ae",
   "metadata": {},
   "outputs": [],
   "source": []
  }
 ],
 "metadata": {
  "kernelspec": {
   "display_name": "ptorch",
   "language": "python",
   "name": "ptorch"
  },
  "language_info": {
   "codemirror_mode": {
    "name": "ipython",
    "version": 3
   },
   "file_extension": ".py",
   "mimetype": "text/x-python",
   "name": "python",
   "nbconvert_exporter": "python",
   "pygments_lexer": "ipython3",
   "version": "3.9.17"
  }
 },
 "nbformat": 4,
 "nbformat_minor": 5
}
